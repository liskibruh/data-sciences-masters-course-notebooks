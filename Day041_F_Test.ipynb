{
 "cells": [
  {
   "cell_type": "markdown",
   "id": "c52ac2d8-22d8-49d2-9fa6-ab301e2aa959",
   "metadata": {},
   "source": [
    "# F Test with Python"
   ]
  },
  {
   "cell_type": "markdown",
   "id": "0aa76929-29ed-4e93-b742-05eb2246ab23",
   "metadata": {},
   "source": [
    "H0 = Both the workers are performing equally<br>\n",
    "H1 = Both the workers are not performin equally"
   ]
  },
  {
   "cell_type": "code",
   "execution_count": 1,
   "id": "45531496-2dd9-4fcd-940f-ecd7dfb89be6",
   "metadata": {},
   "outputs": [],
   "source": [
    "# evidence to say that two population variances are not equal\n",
    "\n",
    "worker1=[18, 19, 22, 25, 27, 28, 41, 45, 51, 55]\n",
    "worker2=[14, 15, 15, 17, 18, 22, 25, 25, 27, 34]"
   ]
  },
  {
   "cell_type": "code",
   "execution_count": 10,
   "id": "6697e0ff-3d45-4162-a109-785e66dcdc38",
   "metadata": {},
   "outputs": [],
   "source": [
    "# calculating f-test\n",
    "import numpy as np\n",
    "\n",
    "f_stat = np.var(worker1)/np.var(worker2)"
   ]
  },
  {
   "cell_type": "code",
   "execution_count": 11,
   "id": "14b9198e-61e8-40ee-a0b7-a8bfe625963e",
   "metadata": {},
   "outputs": [
    {
     "data": {
      "text/plain": [
       "4.387122002085506"
      ]
     },
     "execution_count": 11,
     "metadata": {},
     "output_type": "execute_result"
    }
   ],
   "source": [
    "f_stat"
   ]
  },
  {
   "cell_type": "code",
   "execution_count": 7,
   "id": "f3cd710b-92f7-4272-9d4c-edd74e02abde",
   "metadata": {},
   "outputs": [],
   "source": [
    "## degrees of freedom,\n",
    "df1= len(worker1)-1\n",
    "df2= len(worker2)-1\n",
    "significance_value=0.05"
   ]
  },
  {
   "cell_type": "code",
   "execution_count": 8,
   "id": "3875dc64-c3aa-4f19-9125-cdd2a255cae3",
   "metadata": {},
   "outputs": [],
   "source": [
    "import scipy.stats as stats\n",
    "\n",
    "critical_value=stats.f.ppf(q=1-significance_value, dfn=df1, dfd=df2)\n",
    "#q= confidence interval\n",
    "#dfn=degrees of freedom in numerator\n",
    "#dfd=degrees of freedom in denomenator"
   ]
  },
  {
   "cell_type": "code",
   "execution_count": 9,
   "id": "9be7068d-eccb-4e33-856a-92e46dfa0da9",
   "metadata": {},
   "outputs": [
    {
     "data": {
      "text/plain": [
       "3.178893104458269"
      ]
     },
     "execution_count": 9,
     "metadata": {},
     "output_type": "execute_result"
    }
   ],
   "source": [
    "critical_value"
   ]
  },
  {
   "cell_type": "code",
   "execution_count": 12,
   "id": "e46a49c2-e6d0-4698-992d-9a9f56fe6ea2",
   "metadata": {},
   "outputs": [
    {
     "name": "stdout",
     "output_type": "stream",
     "text": [
      "Reject the null hypothesis\n"
     ]
    }
   ],
   "source": [
    "if f_stat > critical_value:\n",
    "    print(\"Reject the null hypothesis\")\n",
    "    \n",
    "else:\n",
    "    print(\"Failed to reject the null hypothesis\")"
   ]
  },
  {
   "cell_type": "code",
   "execution_count": null,
   "id": "2efe6882-1046-4630-ab4e-89462a5d1e81",
   "metadata": {},
   "outputs": [],
   "source": []
  }
 ],
 "metadata": {
  "kernelspec": {
   "display_name": "Python 3 (ipykernel)",
   "language": "python",
   "name": "python3"
  },
  "language_info": {
   "codemirror_mode": {
    "name": "ipython",
    "version": 3
   },
   "file_extension": ".py",
   "mimetype": "text/x-python",
   "name": "python",
   "nbconvert_exporter": "python",
   "pygments_lexer": "ipython3",
   "version": "3.10.8"
  }
 },
 "nbformat": 4,
 "nbformat_minor": 5
}
