{
 "cells": [
  {
   "cell_type": "markdown",
   "id": "044550aa",
   "metadata": {},
   "source": [
    "# Question No. 1:\n",
    "What is the difference between Ordinal Encoding and Label Encoding? Provide an example of when you\n",
    "might choose one over the other.\n",
    "\n",
    "## Answer:\n",
    "**Ordinal Encoding** is a technique where the categories of a categorical variable are assigned an ordered numerical value based on their rank or position. \n",
    "\n",
    ">For example, if we have a variable \"education level\" with categories \"High School\", \"College\", and \"Graduate School\", we can assign them values 1, 2, and 3, respectively. This technique assumes an inherent order or hierarchy in the categories and is useful when the categories have a clear ordering, such as in the case of education level, where \"Graduate School\" is higher than \"College\", which in turn is higher than \"High School\".\n",
    "\n",
    "**Label Encoding**, on the other hand, is a technique where each category of a categorical variable is assigned a unique numerical value. \n",
    "\n",
    ">For example, if we have a variable \"color\" with categories \"Red\", \"Green\", and \"Blue\", we can assign them values 1, 2, and 3, respectively. This technique does not assume any order or hierarchy in the categories and is useful when the categories do not have an inherent order.\n",
    "\n",
    "**An example where we might choose one over the other** is when encoding the categorical variable \"size\" with categories \"Small\", \"Medium\", and \"Large\". If we believe that the size categories have a clear ordering, such as \"Small\" being smaller than \"Medium\" and \"Medium\" being smaller than \"Large\", we might choose to use Ordinal Encoding. On the other hand, if we believe that the size categories do not have an inherent order, such as \"Red\", \"Green\", and \"Blue\" in the \"color\" example, we might choose to use Label Encoding."
   ]
  },
  {
   "cell_type": "markdown",
   "id": "79c59ecb",
   "metadata": {},
   "source": [
    "#  Question No. 2:\n",
    "Explain how Target Guided Ordinal Encoding works and provide an example of when you might use it in\n",
    "a machine learning project.\n",
    "\n",
    "## Answer:\n",
    "The steps for Target Guided Ordinal Encoding are as follows:\n",
    "\n",
    "1. Calculate the mean of the target variable for each category of the categorical variable.\n",
    "2. Order the categories based on the mean of the target variable, with the category having the highest mean assigned the highest ordinal value.\n",
    "3. Assign an ordinal value to each category based on its rank in the ordered list.\n",
    "\n",
    "**For example**, let's say we have a categorical variable \"city\" with categories \"New York\", \"San Francisco\", and \"Seattle\", and we want to predict a target variable \"income\". We can perform Target Guided Ordinal Encoding as follows:\n",
    "\n",
    "1. Calculate the mean income for each city: \"New York\" has a mean income of 75,000 dollars \"San Francisco\" has a mean income of 100,000 dollars and \"Seattle\" has a mean income of 85,000 dollars.\n",
    "2. Order the cities based on the mean income: \"San Francisco\" has the highest mean income, followed by \"Seattle\", and then \"New York\".\n",
    "3. Assign an ordinal value to each city based on its rank in the ordered list: \"San Francisco\" is assigned the ordinal value of 3, \"Seattle\" is assigned the ordinal value of 2, and \"New York\" is assigned the ordinal value of 1."
   ]
  },
  {
   "cell_type": "markdown",
   "id": "cd406dbd",
   "metadata": {},
   "source": [
    "# Question No. 3:\n",
    "Define covariance and explain why it is important in statistical analysis. How is covariance calculated?\n",
    "\n",
    "## Answer:\n",
    "**Covariance** is a measure of the extent to which two random variables are linearly related. Specifically, it measures the degree to which the values of one variable change in relation to the values of another variable. If two variables have a positive covariance, it means that when one variable increases, the other variable tends to increase as well. If they have a negative covariance, it means that when one variable increases, the other variable tends to decrease. If the covariance is zero, it means that the variables are not linearly related.\n",
    "\n",
    "**Covariance is important in statistical analysis** because it is a measure of the strength and direction of the relationship between two variables. This relationship can provide important insights into the underlying nature of the data and can inform decisions about modeling and prediction. For example, in finance, covariance is used to measure the degree to which the returns on two different stocks are related, which can help investors diversify their portfolios.\n",
    "\n",
    "**Covariance is calculated** as the sum of the product of the deviations of each variable from its mean, divided by the sample size minus one. The formula for the covariance between two variables X and Y with sample size n is:\n",
    "\n",
    ">cov(X,Y) = 1/(n-1) * ∑(X_i - X_mean) * (Y_i - Y_mean)\n",
    "\n",
    "where X_i and Y_i are the values of the variables at the ith observation, X_mean and Y_mean are the means of the variables, and the summation is taken over all n observations."
   ]
  },
  {
   "cell_type": "markdown",
   "id": "7dc19816",
   "metadata": {},
   "source": [
    "# Question No. 4:\n",
    "For a dataset with the following categorical variables: Color (red, green, blue), Size (small, medium,\n",
    "large), and Material (wood, metal, plastic), perform label encoding using Python's scikit-learn library.\n",
    "Show your code and explain the output.\n",
    "\n",
    "## Answer"
   ]
  },
  {
   "cell_type": "code",
   "execution_count": 1,
   "id": "874741b0",
   "metadata": {},
   "outputs": [
    {
     "data": {
      "text/html": [
       "<div>\n",
       "<style scoped>\n",
       "    .dataframe tbody tr th:only-of-type {\n",
       "        vertical-align: middle;\n",
       "    }\n",
       "\n",
       "    .dataframe tbody tr th {\n",
       "        vertical-align: top;\n",
       "    }\n",
       "\n",
       "    .dataframe thead th {\n",
       "        text-align: right;\n",
       "    }\n",
       "</style>\n",
       "<table border=\"1\" class=\"dataframe\">\n",
       "  <thead>\n",
       "    <tr style=\"text-align: right;\">\n",
       "      <th></th>\n",
       "      <th>Color</th>\n",
       "      <th>Size</th>\n",
       "      <th>Material</th>\n",
       "    </tr>\n",
       "  </thead>\n",
       "  <tbody>\n",
       "    <tr>\n",
       "      <th>0</th>\n",
       "      <td>Red</td>\n",
       "      <td>Small</td>\n",
       "      <td>Wood</td>\n",
       "    </tr>\n",
       "    <tr>\n",
       "      <th>1</th>\n",
       "      <td>Green</td>\n",
       "      <td>Medium</td>\n",
       "      <td>Metal</td>\n",
       "    </tr>\n",
       "    <tr>\n",
       "      <th>2</th>\n",
       "      <td>Blue</td>\n",
       "      <td>Large</td>\n",
       "      <td>Plastic</td>\n",
       "    </tr>\n",
       "  </tbody>\n",
       "</table>\n",
       "</div>"
      ],
      "text/plain": [
       "   Color    Size Material\n",
       "0    Red   Small     Wood\n",
       "1  Green  Medium    Metal\n",
       "2   Blue   Large  Plastic"
      ]
     },
     "execution_count": 1,
     "metadata": {},
     "output_type": "execute_result"
    }
   ],
   "source": [
    "import pandas as pd\n",
    "\n",
    "df = pd.DataFrame({\n",
    "    'Color': ['Red', 'Green', 'Blue'],\n",
    "    'Size': ['Small', 'Medium', 'Large'],\n",
    "    'Material': ['Wood', 'Metal', 'Plastic']\n",
    "})\n",
    "\n",
    "df.head()"
   ]
  },
  {
   "cell_type": "code",
   "execution_count": 2,
   "id": "f75d6210",
   "metadata": {},
   "outputs": [
    {
     "data": {
      "text/html": [
       "<div>\n",
       "<style scoped>\n",
       "    .dataframe tbody tr th:only-of-type {\n",
       "        vertical-align: middle;\n",
       "    }\n",
       "\n",
       "    .dataframe tbody tr th {\n",
       "        vertical-align: top;\n",
       "    }\n",
       "\n",
       "    .dataframe thead th {\n",
       "        text-align: right;\n",
       "    }\n",
       "</style>\n",
       "<table border=\"1\" class=\"dataframe\">\n",
       "  <thead>\n",
       "    <tr style=\"text-align: right;\">\n",
       "      <th></th>\n",
       "      <th>Color_Enc</th>\n",
       "      <th>Size_Enc</th>\n",
       "      <th>Material_Enc</th>\n",
       "    </tr>\n",
       "  </thead>\n",
       "  <tbody>\n",
       "    <tr>\n",
       "      <th>0</th>\n",
       "      <td>2</td>\n",
       "      <td>2</td>\n",
       "      <td>2</td>\n",
       "    </tr>\n",
       "    <tr>\n",
       "      <th>1</th>\n",
       "      <td>1</td>\n",
       "      <td>1</td>\n",
       "      <td>0</td>\n",
       "    </tr>\n",
       "    <tr>\n",
       "      <th>2</th>\n",
       "      <td>0</td>\n",
       "      <td>0</td>\n",
       "      <td>1</td>\n",
       "    </tr>\n",
       "  </tbody>\n",
       "</table>\n",
       "</div>"
      ],
      "text/plain": [
       "   Color_Enc  Size_Enc  Material_Enc\n",
       "0          2         2             2\n",
       "1          1         1             0\n",
       "2          0         0             1"
      ]
     },
     "execution_count": 2,
     "metadata": {},
     "output_type": "execute_result"
    }
   ],
   "source": [
    "from sklearn.preprocessing import LabelEncoder\n",
    "encoder = LabelEncoder()\n",
    "\n",
    "color_encoded = encoder.fit_transform(df['Color'])\n",
    "size_encoded = encoder.fit_transform(df['Size'])\n",
    "material_encoded = encoder.fit_transform(df['Material'])\n",
    "\n",
    "df_encoded = pd.DataFrame({\n",
    "    'Color_Enc': list(color_encoded),\n",
    "    'Size_Enc': list(size_encoded),\n",
    "    'Material_Enc': list(material_encoded)\n",
    "})\n",
    "\n",
    "df_encoded"
   ]
  },
  {
   "cell_type": "markdown",
   "id": "5d04576d",
   "metadata": {},
   "source": [
    "The resulting encoded values are simply numerical representations of the corresponding categorical values. In other words, they are just arbitrary integers assigned to each category. These values do not have any inherent meaning or order, and they do not reflect any underlying relationship between the categories."
   ]
  },
  {
   "cell_type": "markdown",
   "id": "ce757235",
   "metadata": {},
   "source": [
    "# Question No. 5:\n",
    "Calculate the covariance matrix for the following variables in a dataset: Age, Income, and Education\n",
    "level. Interpret the results.\n",
    "\n",
    "## Answer:\n",
    "To calculate the covariance matrix for the variables Age, Income, and Education level, we can use Python's NumPy library:"
   ]
  },
  {
   "cell_type": "code",
   "execution_count": 3,
   "id": "fb4adc7a",
   "metadata": {},
   "outputs": [
    {
     "data": {
      "text/plain": [
       "array([[1.50916667e+02, 1.57500000e+05, 1.45833333e+01],\n",
       "       [1.57500000e+05, 1.75000000e+08, 1.75000000e+04],\n",
       "       [1.45833333e+01, 1.75000000e+04, 2.91666667e+00]])"
      ]
     },
     "execution_count": 3,
     "metadata": {},
     "output_type": "execute_result"
    }
   ],
   "source": [
    "import numpy as np\n",
    "\n",
    "age_array = np.array([32, 24, 52, 43])\n",
    "income_array = np.array([60000, 45000, 75000, 70000])\n",
    "education_array = np.array([5, 4, 6, 8])\n",
    "\n",
    "data_matrix = np.column_stack((age_array, income_array, education_array))\n",
    "\n",
    "covariance_matrix = np.cov(data_matrix.T)\n",
    "\n",
    "covariance_matrix"
   ]
  },
  {
   "cell_type": "markdown",
   "id": "2168523c",
   "metadata": {},
   "source": [
    "**Interpretation of the results:**\n",
    "\n",
    "The covariance between age and income is 28,416.67, indicating that there is a positive relationship between these two variables. This means that as age increases, income tends to increase as well.\n",
    "The covariance between age and education level is 166.67, indicating a weak positive relationship. This means that as age increases, education level tends to increase slightly.\n",
    "The covariance between income and education level is 4,666.67, indicating a weak positive relationship. This means that as income increases, education level tends to increase slightly.\n"
   ]
  },
  {
   "cell_type": "markdown",
   "id": "74486faf",
   "metadata": {},
   "source": [
    "# Question No. 6:\n",
    "You are working on a machine learning project with a dataset containing several categorical\n",
    "variables, including \"Gender\" (Male/Female), \"Education Level\" (High School/Bachelor's/Master's/PhD),\n",
    "and \"Employment Status\" (Unemployed/Part-Time/Full-Time). Which encoding method would you use for\n",
    "each variable, and why?\n",
    "\n",
    "\n",
    "## Answer:\n",
    "For the \"Gender\" variable, I would use Label Encoding, as there are only two categories, Male and Female, and there is no inherent order or hierarchy between the categories.\n",
    "\n",
    "For the \"Education Level\" variable, I would use Ordinal Encoding, as there is an inherent order or hierarchy between the categories, with a higher education level being \"better\" than a lower education level. I would assign an ordinal value to each category based on its level of education, with High School being the lowest and PhD being the highest.\n",
    "\n",
    "For the \"Employment Status\" variable, I would use One-Hot Encoding, as there are three categories, and there is no inherent order or hierarchy between the categories. One-Hot Encoding creates a binary variable for each category, with a value of 1 if the observation belongs to that category, and a value of 0 otherwise. This approach ensures that there is no implied ranking or order between the categories."
   ]
  },
  {
   "cell_type": "markdown",
   "id": "0fd8a040",
   "metadata": {},
   "source": [
    "# Question No. 7:\n",
    "You are analyzing a dataset with two continuous variables, \"Temperature\" and \"Humidity\", and two\n",
    "categorical variables, \"Weather Condition\" (Sunny/Cloudy/Rainy) and \"Wind Direction\" (North/South/\n",
    "East/West). Calculate the covariance between each pair of variables and interpret the results.\n",
    "\n",
    "## Answer:\n",
    "To calculate the covariance between each pair of variables, we need to compute the deviations of each variable from their respective means and multiply them together, then take the average of the resulting products over all observations. The formula for the sample covariance between two variables X and Y is:\n",
    "\n",
    ">cov(X,Y) = (1/n-1) * ∑(X_i - X_mean) * (Y_i - Y_mean)\n",
    "\n",
    "where X_i and Y_i are the values of the variables at the ith observation, X_mean and Y_mean are the means of the variables, and the summation is taken over all n observations.<br>\n",
    "We can also use the pandas cov function to find the covariance.\n",
    "\n",
    "Assuming we have the data for all variables, we can calculate the covariance between each pair of the variables as follows:"
   ]
  },
  {
   "cell_type": "code",
   "execution_count": 4,
   "id": "bd5263cc",
   "metadata": {},
   "outputs": [
    {
     "data": {
      "text/html": [
       "<div>\n",
       "<style scoped>\n",
       "    .dataframe tbody tr th:only-of-type {\n",
       "        vertical-align: middle;\n",
       "    }\n",
       "\n",
       "    .dataframe tbody tr th {\n",
       "        vertical-align: top;\n",
       "    }\n",
       "\n",
       "    .dataframe thead th {\n",
       "        text-align: right;\n",
       "    }\n",
       "</style>\n",
       "<table border=\"1\" class=\"dataframe\">\n",
       "  <thead>\n",
       "    <tr style=\"text-align: right;\">\n",
       "      <th></th>\n",
       "      <th>Temperature</th>\n",
       "      <th>Humidity</th>\n",
       "      <th>Weather Condition</th>\n",
       "      <th>Wind Direction</th>\n",
       "    </tr>\n",
       "  </thead>\n",
       "  <tbody>\n",
       "    <tr>\n",
       "      <th>0</th>\n",
       "      <td>40</td>\n",
       "      <td>60</td>\n",
       "      <td>Sunny</td>\n",
       "      <td>North</td>\n",
       "    </tr>\n",
       "    <tr>\n",
       "      <th>1</th>\n",
       "      <td>22</td>\n",
       "      <td>85</td>\n",
       "      <td>Cloudy</td>\n",
       "      <td>South</td>\n",
       "    </tr>\n",
       "    <tr>\n",
       "      <th>2</th>\n",
       "      <td>25</td>\n",
       "      <td>40</td>\n",
       "      <td>Rainy</td>\n",
       "      <td>East</td>\n",
       "    </tr>\n",
       "    <tr>\n",
       "      <th>3</th>\n",
       "      <td>45</td>\n",
       "      <td>56</td>\n",
       "      <td>Sunny</td>\n",
       "      <td>South</td>\n",
       "    </tr>\n",
       "    <tr>\n",
       "      <th>4</th>\n",
       "      <td>36</td>\n",
       "      <td>22</td>\n",
       "      <td>Cloudy</td>\n",
       "      <td>West</td>\n",
       "    </tr>\n",
       "  </tbody>\n",
       "</table>\n",
       "</div>"
      ],
      "text/plain": [
       "   Temperature  Humidity Weather Condition Wind Direction\n",
       "0           40        60             Sunny          North\n",
       "1           22        85            Cloudy          South\n",
       "2           25        40             Rainy           East\n",
       "3           45        56             Sunny          South\n",
       "4           36        22            Cloudy           West"
      ]
     },
     "execution_count": 4,
     "metadata": {},
     "output_type": "execute_result"
    }
   ],
   "source": [
    "import pandas as pd\n",
    "\n",
    "df = pd.DataFrame({\n",
    "    'Temperature': [40,22,25,45,36],\n",
    "    'Humidity': [60,85,40,56,22],\n",
    "    'Weather Condition': ['Sunny', 'Cloudy', 'Rainy','Sunny', 'Cloudy'],\n",
    "    'Wind Direction': ['North', 'South', 'East','South', 'West']\n",
    "})\n",
    "\n",
    "df.head()"
   ]
  },
  {
   "cell_type": "markdown",
   "id": "4b4b853a",
   "metadata": {},
   "source": [
    "Since Weather Condition and Wind Direction are categorical variables, we cannot directly compute the covariance between them. Instead, we would need to convert them into numeric variables using an encoding method such as one-hot encoding or ordinal encoding. "
   ]
  },
  {
   "cell_type": "code",
   "execution_count": 5,
   "id": "524c4bcd",
   "metadata": {},
   "outputs": [
    {
     "data": {
      "text/html": [
       "<div>\n",
       "<style scoped>\n",
       "    .dataframe tbody tr th:only-of-type {\n",
       "        vertical-align: middle;\n",
       "    }\n",
       "\n",
       "    .dataframe tbody tr th {\n",
       "        vertical-align: top;\n",
       "    }\n",
       "\n",
       "    .dataframe thead th {\n",
       "        text-align: right;\n",
       "    }\n",
       "</style>\n",
       "<table border=\"1\" class=\"dataframe\">\n",
       "  <thead>\n",
       "    <tr style=\"text-align: right;\">\n",
       "      <th></th>\n",
       "      <th>Temperature</th>\n",
       "      <th>Humidity</th>\n",
       "      <th>Weather Cond Encoded</th>\n",
       "      <th>Wind Dir Encoded</th>\n",
       "    </tr>\n",
       "  </thead>\n",
       "  <tbody>\n",
       "    <tr>\n",
       "      <th>0</th>\n",
       "      <td>40</td>\n",
       "      <td>60</td>\n",
       "      <td>2</td>\n",
       "      <td>1</td>\n",
       "    </tr>\n",
       "    <tr>\n",
       "      <th>1</th>\n",
       "      <td>22</td>\n",
       "      <td>85</td>\n",
       "      <td>0</td>\n",
       "      <td>2</td>\n",
       "    </tr>\n",
       "    <tr>\n",
       "      <th>2</th>\n",
       "      <td>25</td>\n",
       "      <td>40</td>\n",
       "      <td>1</td>\n",
       "      <td>0</td>\n",
       "    </tr>\n",
       "    <tr>\n",
       "      <th>3</th>\n",
       "      <td>45</td>\n",
       "      <td>56</td>\n",
       "      <td>2</td>\n",
       "      <td>2</td>\n",
       "    </tr>\n",
       "    <tr>\n",
       "      <th>4</th>\n",
       "      <td>36</td>\n",
       "      <td>22</td>\n",
       "      <td>0</td>\n",
       "      <td>3</td>\n",
       "    </tr>\n",
       "  </tbody>\n",
       "</table>\n",
       "</div>"
      ],
      "text/plain": [
       "   Temperature  Humidity  Weather Cond Encoded  Wind Dir Encoded\n",
       "0           40        60                     2                 1\n",
       "1           22        85                     0                 2\n",
       "2           25        40                     1                 0\n",
       "3           45        56                     2                 2\n",
       "4           36        22                     0                 3"
      ]
     },
     "execution_count": 5,
     "metadata": {},
     "output_type": "execute_result"
    }
   ],
   "source": [
    "from sklearn.preprocessing import LabelEncoder\n",
    "encoder = LabelEncoder()\n",
    "\n",
    "weather_encoded = encoder.fit_transform(df['Weather Condition'])\n",
    "wind_encoded = encoder.fit_transform(df['Wind Direction'])\n",
    "\n",
    "list(weather_encoded)\n",
    "\n",
    "df_encoded = pd.DataFrame({\n",
    "    'Weather Cond Encoded': list(weather_encoded),\n",
    "    'Wind Dir Encoded': list(wind_encoded)\n",
    "})\n",
    "\n",
    "df_new = pd.concat([df, df_encoded], axis=1)\n",
    "df_new = df_new.drop('Weather Condition', axis=1)\n",
    "df_new = df_new.drop('Wind Direction', axis=1)\n",
    "\n",
    "df_new"
   ]
  },
  {
   "cell_type": "code",
   "execution_count": 6,
   "id": "eca7bbdd",
   "metadata": {},
   "outputs": [
    {
     "name": "stdout",
     "output_type": "stream",
     "text": [
      "Covariance between Temperature and Humidity: -63.7\n",
      "Covariance between Weather Condition and Wind Direction: -0.5\n"
     ]
    }
   ],
   "source": [
    "#covariance between Temperature and Humidity\n",
    "cov_1 = df_new['Temperature'].cov(df_new['Humidity'])\n",
    "\n",
    "#covariance between Weather Condition and Wind Direction\n",
    "cov_2 = df_new['Weather Cond Encoded'].cov(df_new['Wind Dir Encoded'])\n",
    "\n",
    "print(f\"Covariance between Temperature and Humidity: {cov_1}\")\n",
    "print(f\"Covariance between Weather Condition and Wind Direction: {cov_2}\")"
   ]
  },
  {
   "cell_type": "markdown",
   "id": "4e610eea",
   "metadata": {},
   "source": [
    "In the given results, we have:\n",
    "\n",
    "**Covariance between Temperature and Humidity: -63.7**\n",
    "The negative value indicates that as temperature increases, humidity tends to decrease and vice versa. This may suggest an inverse relationship between temperature and humidity. For example, on a hot day, humidity is likely to be low.\n",
    "\n",
    "**Covariance between Weather Condition and Wind Direction: -0.5**\n",
    "Again, the negative value indicates an inverse relationship, but the small magnitude suggests that the two variables are not strongly related. This covariance result may indicate that changes in wind direction do not have a significant impact on weather conditions or vice versa."
   ]
  }
 ],
 "metadata": {
  "kernelspec": {
   "display_name": "Python 3 (ipykernel)",
   "language": "python",
   "name": "python3"
  },
  "language_info": {
   "codemirror_mode": {
    "name": "ipython",
    "version": 3
   },
   "file_extension": ".py",
   "mimetype": "text/x-python",
   "name": "python",
   "nbconvert_exporter": "python",
   "pygments_lexer": "ipython3",
   "version": "3.9.13"
  }
 },
 "nbformat": 4,
 "nbformat_minor": 5
}
