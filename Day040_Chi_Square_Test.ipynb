{
 "cells": [
  {
   "cell_type": "markdown",
   "id": "764cf891-b760-439c-bc90-1964d4d023ca",
   "metadata": {},
   "source": [
    "# Chi Square Test with Python"
   ]
  },
  {
   "cell_type": "code",
   "execution_count": 3,
   "id": "ee3b9f41-5eca-412a-8243-6516445107eb",
   "metadata": {},
   "outputs": [],
   "source": [
    "import scipy.stats as stats\n",
    "import numpy as np"
   ]
  },
  {
   "cell_type": "code",
   "execution_count": 4,
   "id": "d1b6e736-8d46-4f97-93a0-514fe57aaf6b",
   "metadata": {},
   "outputs": [],
   "source": [
    "## no of hours students study in  a weekly basis daily\n",
    "\n",
    "#categories: monday, tuesday, wednesday, thursday, friday, saturday, sunday\n",
    "expected_data=[8,6,7,9,6,9,7]\n",
    "observed_data=[7,8,6,9,9,6,7]"
   ]
  },
  {
   "cell_type": "code",
   "execution_count": 5,
   "id": "6fabeb78-9955-46ab-a775-5b07cfb64409",
   "metadata": {},
   "outputs": [
    {
     "data": {
      "text/plain": [
       "(52, 52)"
      ]
     },
     "execution_count": 5,
     "metadata": {},
     "output_type": "execute_result"
    }
   ],
   "source": [
    "sum(expected_data), sum(observed_data)"
   ]
  },
  {
   "cell_type": "code",
   "execution_count": 6,
   "id": "7a57aea8-0167-4dbb-9895-27070d33a8c2",
   "metadata": {},
   "outputs": [],
   "source": [
    "## chi square goodness of fit test\n",
    "chisquare_stat, p_value=stats.chisquare(observed_data,expected_data)"
   ]
  },
  {
   "cell_type": "code",
   "execution_count": 7,
   "id": "39117094-f956-4d92-a057-6a10f661361d",
   "metadata": {},
   "outputs": [
    {
     "data": {
      "text/plain": [
       "(3.4345238095238093, 0.7526596580922865)"
      ]
     },
     "execution_count": 7,
     "metadata": {},
     "output_type": "execute_result"
    }
   ],
   "source": [
    "chisquare_stat, p_value"
   ]
  },
  {
   "cell_type": "code",
   "execution_count": 9,
   "id": "a758d928-0998-4859-b719-70934d2c09a3",
   "metadata": {},
   "outputs": [],
   "source": [
    "# find the critical value\n",
    "significance_value=0.05\n",
    "confidence_interval=1-0.05\n",
    "dof= len(expected_data)-1\n",
    "critical_value=stats.chi2.ppf(confidence_interval,dof)"
   ]
  },
  {
   "cell_type": "code",
   "execution_count": 10,
   "id": "8b007802-bbaf-4dd2-a55f-1c5be6ee5153",
   "metadata": {},
   "outputs": [
    {
     "data": {
      "text/plain": [
       "12.591587243743977"
      ]
     },
     "execution_count": 10,
     "metadata": {},
     "output_type": "execute_result"
    }
   ],
   "source": [
    "critical_value"
   ]
  },
  {
   "cell_type": "code",
   "execution_count": 11,
   "id": "69bb1134-50b8-4b80-aad7-77dfd0e2ebeb",
   "metadata": {},
   "outputs": [
    {
     "name": "stdout",
     "output_type": "stream",
     "text": [
      "Failed to reject null hypothsis\n"
     ]
    }
   ],
   "source": [
    "## check if chisquare stat greater than critical value\n",
    "\n",
    "if chisquare_stat > critical_value:\n",
    "    print(\"Reject the null hypothesis\")\n",
    "else:\n",
    "    print(\"Failed to reject null hypothsis\")"
   ]
  },
  {
   "cell_type": "code",
   "execution_count": null,
   "id": "6b190d94-bfc6-49e1-b923-98b719377e5d",
   "metadata": {},
   "outputs": [],
   "source": []
  }
 ],
 "metadata": {
  "kernelspec": {
   "display_name": "Python 3 (ipykernel)",
   "language": "python",
   "name": "python3"
  },
  "language_info": {
   "codemirror_mode": {
    "name": "ipython",
    "version": 3
   },
   "file_extension": ".py",
   "mimetype": "text/x-python",
   "name": "python",
   "nbconvert_exporter": "python",
   "pygments_lexer": "ipython3",
   "version": "3.10.8"
  }
 },
 "nbformat": 4,
 "nbformat_minor": 5
}
