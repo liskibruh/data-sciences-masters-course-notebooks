{
 "cells": [
  {
   "cell_type": "markdown",
   "id": "348d4ceb",
   "metadata": {},
   "source": [
    "# Question No. 1:\n",
    "In order to predict house price based on several characteristics, such as location, square footage,\n",
    "number of bedrooms, etc., you are developing an SVM regression model. Which regression metric in this\n",
    "situation would be the best to employ?\n",
    "\n",
    "## Answer:\n",
    "The RMSE metric is useful in scenarios where the prediction errors need to be penalized more heavily than the MAE or MSE. In the case of predicting house prices, it is important to minimize prediction errors as much as possible, and RMSE is the most appropriate metric to measure the average magnitude of the errors.\n",
    "\n",
    "Additionally, the RMSE metric has the added benefit of being easily interpretable, as it is expressed in the same units as the target variable (in this case, the house price). Therefore, it is easier to understand the magnitude of the error in the context of the problem domain."
   ]
  },
  {
   "cell_type": "markdown",
   "id": "0cb436a4",
   "metadata": {},
   "source": [
    "# Question No. 2:\n",
    "You have built an SVM regression model and are trying to decide between using MSE or R-squared as\n",
    "your evaluation metric. Which metric would be more appropriate if your goal is to predict the actual price\n",
    "of a house as accurately as possible?\n",
    "\n",
    "## Answer:\n",
    "**MSE** is a common evaluation metric for regression tasks, and it measures the average squared difference between the predicted and actual values. In the context of predicting house prices, minimizing the MSE means that your model will be able to predict the actual price of a house more accurately on average.\n",
    "\n",
    "**R-squared** measures the proportion of the variance in the target variable that is explained by the model. While R-squared is a useful metric to evaluate the overall goodness of fit of the model, it may not directly correspond to the accuracy of individual predictions. In other words, a high R-squared value does not necessarily mean that the model is making accurate predictions.\n",
    "\n",
    "Therefore, if your goal is to predict the actual price of a house as accurately as possible, then MSE would be the more appropriate evaluation metric to use with your SVM regression model."
   ]
  },
  {
   "cell_type": "markdown",
   "id": "47e52dea",
   "metadata": {},
   "source": [
    "# Question No. 3:\n",
    "You have a dataset with a significant number of outliers and are trying to select an appropriate\n",
    "regression metric to use with your SVM model. Which metric would be the most appropriate in this\n",
    "scenario?\n",
    "\n",
    "## Answer:\n",
    "In the given scenario, the most appropriate regression metric to use would be the Mean Absolute Error (MAE). MAE is less sensitive to outliers because it measures the average absolute difference between the predicted and actual values, rather than the average squared difference. This makes it more robust to outliers, as the absolute value of the difference between an outlier and the actual value is the same as the absolute value of the difference between a non-outlier and the actual value."
   ]
  },
  {
   "cell_type": "markdown",
   "id": "bcc5354e",
   "metadata": {},
   "source": [
    "# Question No. 4:\n",
    "You have built an SVM regression model using a polynomial kernel and are trying to select the best\n",
    "metric to evaluate its performance. You have calculated both MSE and RMSE and found that both values\n",
    "are very close. Which metric should you choose to use in this case?\n",
    "\n",
    "## Answer:\n",
    "If we have calculated both MSE and RMSE and found that both values are very close, it is generally safe to use either metric to evaluate the performance of your SVM regression model. However, if we want to choose only one metric, it is generally recommended to use RMSE, as it is more interpretable than MSE. RMSE is expressed in the same units as the target variable, which makes it easier to interpret the magnitude of the error in the context of the problem domain. Therefore, in this case, RMSE would be the better metric to choose to evaluate the performance of your SVM regression model."
   ]
  },
  {
   "cell_type": "markdown",
   "id": "db39e980",
   "metadata": {},
   "source": [
    "# Question No. 5:\n",
    "You are comparing the performance of different SVM regression models using different kernels (linear,\n",
    "polynomial, and RBF) and are trying to select the best evaluation metric. Which metric would be most\n",
    "appropriate if your goal is to measure how well the model explains the variance in the target variable?\n",
    "\n",
    "## Answer:\n",
    "If your goal is to measure how well the SVM regression model explains the variance in the target variable, then the most appropriate evaluation metric to use is the coefficient of determination, also known as R-squared.\n",
    "\n",
    "R-squared measures the proportion of the variance in the target variable that is explained by the model. It ranges from 0 to 1, with a higher value indicating a better fit between the predicted and actual values. R-squared is a useful metric for comparing the performance of different models, as it provides an overall measure of how well each model explains the variance in the target variable."
   ]
  }
 ],
 "metadata": {
  "kernelspec": {
   "display_name": "Python 3 (ipykernel)",
   "language": "python",
   "name": "python3"
  },
  "language_info": {
   "codemirror_mode": {
    "name": "ipython",
    "version": 3
   },
   "file_extension": ".py",
   "mimetype": "text/x-python",
   "name": "python",
   "nbconvert_exporter": "python",
   "pygments_lexer": "ipython3",
   "version": "3.9.13"
  }
 },
 "nbformat": 4,
 "nbformat_minor": 5
}
