{
 "cells": [
  {
   "cell_type": "markdown",
   "id": "78c36d91-54ac-47fc-8066-e446221ee10a",
   "metadata": {},
   "source": [
    "**Consider the below code to answer further questions:**"
   ]
  },
  {
   "cell_type": "code",
   "execution_count": 1,
   "id": "0c719935-e4b5-4792-92d2-b82db7170523",
   "metadata": {},
   "outputs": [],
   "source": [
    "import numpy as np\n",
    "\n",
    "list_ = ['1','2','3','4','5']\n",
    "array_list = np.array(object = list_)"
   ]
  },
  {
   "cell_type": "markdown",
   "id": "02ae9988-69bc-4df6-9643-344906765217",
   "metadata": {},
   "source": [
    "# Question No. 1:\n",
    "Is there any difference in the data type of variables list_ and array_list? If there is then write a code\n",
    "to print the data types of both the variables.\n",
    "\n",
    "## Answer:"
   ]
  },
  {
   "cell_type": "markdown",
   "id": "a9e31369-94cb-4037-b089-25f6a0664893",
   "metadata": {},
   "source": [
    "Yes, there is a difference in the data type of list_ and array_list.\n",
    "\n",
    "**list_ is a Python list,** and its elements are strings ('1', '2', '3', '4', '5'), while **array_list is a NumPy array,** and its elements are also strings.\n",
    "\n",
    "The data type of list_ is list, while the data type of array_list is numpy.ndarray\n",
    "\n",
    "We can verify it as:"
   ]
  },
  {
   "cell_type": "code",
   "execution_count": 2,
   "id": "3b9d54c1-47cd-40dd-a9ce-3b0e4bef299f",
   "metadata": {},
   "outputs": [
    {
     "data": {
      "text/plain": [
       "list"
      ]
     },
     "execution_count": 2,
     "metadata": {},
     "output_type": "execute_result"
    }
   ],
   "source": [
    "type(list_)"
   ]
  },
  {
   "cell_type": "code",
   "execution_count": 3,
   "id": "61624c0f-0f00-4a6e-b88d-9624513971d4",
   "metadata": {},
   "outputs": [
    {
     "data": {
      "text/plain": [
       "numpy.ndarray"
      ]
     },
     "execution_count": 3,
     "metadata": {},
     "output_type": "execute_result"
    }
   ],
   "source": [
    "type(array_list)"
   ]
  },
  {
   "cell_type": "markdown",
   "id": "f5d757fe-060f-494b-b627-1b9ce6568012",
   "metadata": {},
   "source": [
    "# Question No. 2: \n",
    "Write a code to print the data type of each and every element of both the variables list_ and\n",
    "array_list.\n",
    "\n",
    "## Answer:"
   ]
  },
  {
   "cell_type": "code",
   "execution_count": 4,
   "id": "bfeb47fd-c103-40f0-a432-05b443f8b980",
   "metadata": {},
   "outputs": [
    {
     "data": {
      "text/plain": [
       "[str, str, str, str, str]"
      ]
     },
     "execution_count": 4,
     "metadata": {},
     "output_type": "execute_result"
    }
   ],
   "source": [
    "list(map(lambda x: type(x), list_))"
   ]
  },
  {
   "cell_type": "code",
   "execution_count": 5,
   "id": "7f225cd7-4c57-4f8d-bad9-65d1027cdfa7",
   "metadata": {},
   "outputs": [
    {
     "data": {
      "text/plain": [
       "[numpy.str_, numpy.str_, numpy.str_, numpy.str_, numpy.str_]"
      ]
     },
     "execution_count": 5,
     "metadata": {},
     "output_type": "execute_result"
    }
   ],
   "source": [
    "list(map(lambda x: type(x), array_list))"
   ]
  },
  {
   "cell_type": "markdown",
   "id": "c5a6ceac-6c52-46e3-be01-14e370c64f1a",
   "metadata": {},
   "source": [
    "**Considering the following changes in the variable, array_list:**"
   ]
  },
  {
   "cell_type": "code",
   "execution_count": 6,
   "id": "d042eb8c-32f7-4d08-acc4-064eeda089d7",
   "metadata": {},
   "outputs": [],
   "source": [
    "array_list = np.array(object = list_, dtype = int)"
   ]
  },
  {
   "cell_type": "markdown",
   "id": "5987fe07-6308-4358-9e12-f4cc65f058d3",
   "metadata": {},
   "source": [
    "# Question No. 3:\n",
    "Will there be any difference in the data type of the elements present in both the variables, list_ and\n",
    "arra_list?<br> If so then print the data types of each and every element present in both the variables, list_\n",
    "and arra_list.\n",
    "\n",
    "## Answer:\n",
    "**Yes,** By doing **array_list = np.array(object = list_, dtype = int)** we're specifying the data type of the elements in a NumPy array to be **int.** It creates a NumPy array with elements of the int data type.\n",
    "\n",
    "We can verify it as:"
   ]
  },
  {
   "cell_type": "code",
   "execution_count": 9,
   "id": "7bdea981-14e8-4447-bb87-0a366a6f35e5",
   "metadata": {},
   "outputs": [
    {
     "data": {
      "text/plain": [
       "[numpy.int64, numpy.int64, numpy.int64, numpy.int64, numpy.int64]"
      ]
     },
     "execution_count": 9,
     "metadata": {},
     "output_type": "execute_result"
    }
   ],
   "source": [
    "list(map(lambda x: type(x), array_list))"
   ]
  },
  {
   "cell_type": "markdown",
   "id": "88cdb560-7088-470c-9332-8d7bab7b5cf2",
   "metadata": {},
   "source": [
    "**Consider the below code to answer further questions:**"
   ]
  },
  {
   "cell_type": "code",
   "execution_count": 10,
   "id": "607be50f-25c4-4590-981c-34d934c8273d",
   "metadata": {},
   "outputs": [],
   "source": [
    "num_list = [ [ 1 , 2 , 3 ] , [ 4 , 5 , 6 ] ]\n",
    "num_array = np.array(object = num_list)"
   ]
  },
  {
   "cell_type": "markdown",
   "id": "37a469a7-f616-496c-b2c7-acc3ca9c9d74",
   "metadata": {},
   "source": [
    "# Question No. 4:\n",
    "Write a code to find the following characteristics of variable, num_array:\n",
    "1. shape\n",
    "2. size\n",
    "\n",
    "## Answer:"
   ]
  },
  {
   "cell_type": "code",
   "execution_count": 13,
   "id": "edd599bd-bb9f-4759-9c71-bb95e0c6fb8c",
   "metadata": {},
   "outputs": [
    {
     "data": {
      "text/plain": [
       "(2, 3)"
      ]
     },
     "execution_count": 13,
     "metadata": {},
     "output_type": "execute_result"
    }
   ],
   "source": [
    "num_array.shape"
   ]
  },
  {
   "cell_type": "code",
   "execution_count": 14,
   "id": "8b36673b-ddc8-4955-af61-6c08856770de",
   "metadata": {},
   "outputs": [
    {
     "data": {
      "text/plain": [
       "6"
      ]
     },
     "execution_count": 14,
     "metadata": {},
     "output_type": "execute_result"
    }
   ],
   "source": [
    "num_array.size"
   ]
  },
  {
   "cell_type": "markdown",
   "id": "983ba19f-dc7c-4a69-853e-f2eac38f20ce",
   "metadata": {},
   "source": [
    "# Question No. 5:\n",
    "Write a code to create numpy array of 3*3 matrix containing zeros only, using a numpy array\n",
    "creation function.\n",
    "\n",
    "[Hint: The size of the array will be 9 and the shape will be (3,3).]\n",
    "\n",
    "## Answer:"
   ]
  },
  {
   "cell_type": "code",
   "execution_count": 20,
   "id": "5687f224-c225-43eb-9de8-0170babdc62e",
   "metadata": {},
   "outputs": [],
   "source": [
    "arr = np.zeros((3,3))"
   ]
  },
  {
   "cell_type": "code",
   "execution_count": 21,
   "id": "01d261d0-a4c2-42b8-b390-12efeadd4433",
   "metadata": {},
   "outputs": [
    {
     "data": {
      "text/plain": [
       "array([[0., 0., 0.],\n",
       "       [0., 0., 0.],\n",
       "       [0., 0., 0.]])"
      ]
     },
     "execution_count": 21,
     "metadata": {},
     "output_type": "execute_result"
    }
   ],
   "source": [
    "arr"
   ]
  },
  {
   "cell_type": "code",
   "execution_count": 23,
   "id": "cf815d8b-8111-4224-841e-833aee5033d1",
   "metadata": {},
   "outputs": [
    {
     "data": {
      "text/plain": [
       "(9, (3, 3))"
      ]
     },
     "execution_count": 23,
     "metadata": {},
     "output_type": "execute_result"
    }
   ],
   "source": [
    "arr.size, arr.shape"
   ]
  },
  {
   "cell_type": "markdown",
   "id": "087f0161-b152-4c1f-bc52-863210abd5c5",
   "metadata": {},
   "source": [
    "# Question No. 6:\n",
    "Create an identity matrix of shape (5,5) using numpy functions?\n",
    "\n",
    "[Hint: An identity matrix is a matrix containing 1 diagonally and other elements will be 0.]\n",
    "\n",
    "## Answer:"
   ]
  },
  {
   "cell_type": "code",
   "execution_count": 25,
   "id": "0fc3d6a8-a733-4f61-80b5-ddfec556e1bf",
   "metadata": {},
   "outputs": [
    {
     "data": {
      "text/plain": [
       "array([[1., 0., 0., 0., 0.],\n",
       "       [0., 1., 0., 0., 0.],\n",
       "       [0., 0., 1., 0., 0.],\n",
       "       [0., 0., 0., 1., 0.],\n",
       "       [0., 0., 0., 0., 1.]])"
      ]
     },
     "execution_count": 25,
     "metadata": {},
     "output_type": "execute_result"
    }
   ],
   "source": [
    "np.eye(5)"
   ]
  }
 ],
 "metadata": {
  "kernelspec": {
   "display_name": "Python 3 (ipykernel)",
   "language": "python",
   "name": "python3"
  },
  "language_info": {
   "codemirror_mode": {
    "name": "ipython",
    "version": 3
   },
   "file_extension": ".py",
   "mimetype": "text/x-python",
   "name": "python",
   "nbconvert_exporter": "python",
   "pygments_lexer": "ipython3",
   "version": "3.10.8"
  }
 },
 "nbformat": 4,
 "nbformat_minor": 5
}
