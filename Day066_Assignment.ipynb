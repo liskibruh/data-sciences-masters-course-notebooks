{
 "cells": [
  {
   "cell_type": "markdown",
   "id": "4758e6c5",
   "metadata": {},
   "source": [
    "# Question No. 1:\n",
    "What is Bayes' Theorem?\n",
    "\n",
    "## Answer:\n",
    "Bayes' theorem is a mathematical formula that describes the probability of an event occurring based on prior knowledge of conditions that might be related to the event.\n",
    "\n",
    "The theorem states that the probability of an event A occurring, given some evidence B, is equal to the probability of B occurring, given that A has occurred, multiplied by the prior probability of A occurring, divided by the prior probability of B occurring. In other words:\n",
    "\n",
    ">P(A | B) = P(B | A) * P(A) / P(B)"
   ]
  },
  {
   "cell_type": "markdown",
   "id": "14ed2e80",
   "metadata": {},
   "source": [
    "# Question No. 2:\n",
    "What is the formula for Bayes' theorem?\n",
    "\n",
    "## Answer:\n",
    "The formula for Bayes' theorem is:\n",
    "\n",
    ">P(A | B) = P(B | A) * P(A) / P(B)\n",
    "\n",
    "where:\n",
    "\n",
    "P(A | B) is the probability of event A occurring given that event B has occurred (known as the posterior probability)<br>\n",
    "P(B | A) is the probability of event B occurring given that event A has occurred (known as the likelihood)<br>\n",
    "P(A) is the prior probability of event A occurring (the probability of A occurring before taking B into account)<br>\n",
    "P(B) is the prior probability of event B occurring (the probability of B occurring before taking A into account)"
   ]
  },
  {
   "cell_type": "markdown",
   "id": "82bd8c61",
   "metadata": {},
   "source": [
    "# Question No. 3:\n",
    "How is Bayes' theorem used in practice?\n",
    "\n",
    "## Answer:\n",
    "Bayes' theorem is used in practice in many different fields, including statistics, machine learning, artificial intelligence, and decision-making. Here are some examples of how it is used in practice:\n",
    "\n",
    "- **Medical diagnosis:** Bayes' theorem can be used to calculate the probability of a patient having a disease based on their symptoms and medical history. By updating the prior probability of the disease based on the likelihood of the symptoms given the disease, we can obtain a more accurate diagnosis.\n",
    "\n",
    "- **Spam filtering:** Bayes' theorem can be used to classify emails as spam or not spam. By calculating the probability of an email being spam based on the likelihood of certain words or phrases appearing in the email, we can filter out unwanted messages.\n",
    "\n",
    "- **Predictive modeling:** Bayes' theorem can be used to make predictions about future events based on past observations. For example, in weather forecasting, we can update our prior probability of certain weather conditions based on the likelihood of certain atmospheric patterns, in order to make more accurate predictions."
   ]
  },
  {
   "cell_type": "markdown",
   "id": "f0ba4615",
   "metadata": {},
   "source": [
    "# Question No. 4:\n",
    "What is the relationship between Bayes' theorem and conditional probability?\n",
    "\n",
    "## Answer:\n",
    "**Conditional probability** is the probability of an event A given that another event B has occurred, and it is calculated as follows:\n",
    "\n",
    ">P(A | B) = P(A and B) / P(B)\n",
    "\n",
    "This formula gives the probability of event A occurring given that we know event B has occurred.\n",
    "\n",
    "**Bayes' theorem**, on the other hand, is a formula that relates the conditional probabilities of two events. It states that the probability of an event A given event B is equal to the probability of event B given event A, multiplied by the prior probability of event A, and divided by the prior probability of event B:\n",
    "\n",
    ">P(A | B) = P(B | A) * P(A) / P(B)\n",
    "\n",
    "Conditional probability is a special case of Bayes' theorem, where we are given the likelihood of B given A and want to find the posterior probability of A given B. Bayes' theorem provides a general framework for computing probabilities that takes into account prior beliefs and new evidence, and can be used to update those beliefs as new evidence becomes available."
   ]
  },
  {
   "cell_type": "markdown",
   "id": "8ff000a8",
   "metadata": {},
   "source": [
    "# Question No. 5:\n",
    "How do you choose which type of Naive Bayes classifier to use for any given problem?\n",
    "\n",
    "## Answer:\n",
    "Choosing the right type of Naive Bayes classifier for a given problem depends on the nature of the data and the assumptions we want to make about the relationships between the input features and the output variable. Here are some guidelines for choosing the right type of Naive Bayes classifier:\n",
    "\n",
    "- **Bernoulli Naive Bayes:** This classifier is used for binary or boolean input features, where each feature is either present or absent. For example, it could be used for sentiment analysis, where we want to classify a document as positive or negative based on the presence or absence of certain words.\n",
    "\n",
    "- **Multinomial Naive Bayes:** This classifier is used for discrete input features that can take on multiple values. For example, it could be used for text classification, where we want to classify documents into categories based on the frequency of certain words.\n",
    "\n",
    "- **Gaussian Naive Bayes:** This classifier is used for continuous input features that are normally distributed. For example, it could be used for predicting the price of a house based on its size, location, and other features."
   ]
  },
  {
   "attachments": {
    "image.png": {
     "image/png": "[encoded data removed]"
    }
   },
   "cell_type": "markdown",
   "id": "a77ce823",
   "metadata": {},
   "source": [
    "# Question No. 6:\n",
    "You have a dataset with two features, x1 and x2, and two possible classes, A and B. You want to use Naive\n",
    "Bayes to classify a new instance with features x1 = 3 and x2 = 4. The following table shows the frequency of\n",
    "each feature value for each class:\n",
    "\n",
    "![image.png](attachment:image.png)\n",
    "\n",
    "Assuming equal prior probabilities for each class, which class would Naive Bayes predict the new instance\n",
    "to belong to?\n",
    "\n",
    "## Answer:\n",
    " We can do this using Bayes' theorem, as follows:\n",
    "\n",
    ">P(A|x1=3,x2=4) = P(x1=3,x2=4|A) * P(A) / P(x1=3,x2=4)<br>P(B|x1=3,x2=4) = P(x1=3,x2=4|B) * P(B) / P(x1=3,x2=4)\n",
    "\n",
    "While the question mentions that the prior probablities are equal for both class, we can also calculate them by using the frequencies given in the table as:\n",
    "\n",
    ">P(A) = 13 / 25 = 0.52<br>P(B) = 12 / 25 = 0.48\n",
    "\n",
    "Then to calculate the likelihoods, we can use the frequencies of the feature values for each class:\n",
    "\n",
    ">P(x1=3,x2=4|A) = (1/4) * (3/13) * (3/13) * (3/13) * (3/13) = 0.000233<br>P(x1=3,x2=4|B) = (1/3) * (2/12) * (2/12) * (2/12) * (3/12) = 0.000126\n",
    "\n",
    "Then we can find P(x1=3,x2=4) as:\n",
    "\n",
    ">P(x1=3,x2=4) = P(x1=3,x2=4|A) * P(A) + P(x1=3,x2=4|B) * P(B) = 0.000233 * 0.52 + 0.000126 * 0.48 = 0.000178\n",
    "\n",
    "Finally, we can substitute these values into the formula for Bayes' theorem to obtain the posterior probabilities:\n",
    "\n",
    ">P(A|x1=3,x2=4) = 0.000233 * 0.52 / 0.000178 = 0.677<br>P(B|x1=3,x2=4) = 0.000126 * 0.48 / 0.000178 = 0.323\n",
    "\n",
    "**Therefore, according to this Naive Bayes classifier, the new instance with features x1=3 and x2=4 would be classified as belonging to class A.**"
   ]
  }
 ],
 "metadata": {
  "kernelspec": {
   "display_name": "Python 3 (ipykernel)",
   "language": "python",
   "name": "python3"
  },
  "language_info": {
   "codemirror_mode": {
    "name": "ipython",
    "version": 3
   },
   "file_extension": ".py",
   "mimetype": "text/x-python",
   "name": "python",
   "nbconvert_exporter": "python",
   "pygments_lexer": "ipython3",
   "version": "3.9.13"
  }
 },
 "nbformat": 4,
 "nbformat_minor": 5
}
