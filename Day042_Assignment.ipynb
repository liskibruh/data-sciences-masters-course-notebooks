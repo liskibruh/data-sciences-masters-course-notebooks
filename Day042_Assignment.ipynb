{
 "cells": [
  {
   "cell_type": "markdown",
   "id": "9baf0dbc",
   "metadata": {},
   "source": [
    "# Question No. 1:\n",
    "Explain the assumptions required to use ANOVA and provide examples of violations that could impact\n",
    "the validity of the results.\n",
    "\n",
    "## Answer:\n",
    "#### Assumptions of ANOVA:\n",
    "\n",
    "1. **Normality:** The data should be normally distributed in each group. Violations of this assumption can occur when the data is skewed, has extreme outliers, or is bimodal.\n",
    "\n",
    "2. **Homogeneity of variance:** The variance within each group should be approximately equal. This assumption is also known as the assumption of homoscedasticity. Violations of this assumption can occur when the variance in one group is much larger than the variance in another group.\n",
    "\n",
    "3. **Independence:** The observations should be independent of each other. Violations of this assumption can occur when there are dependencies between observations, such as when repeated measurements are taken on the same individual.\n",
    "\n",
    "#### Violations that could impact the validity of the results:\n",
    "\n",
    "1. **Non-normality:** If the data is not normally distributed in each group, the results of the ANOVA may not be reliable. For example, if the data is skewed, a transformation of the data or a non-parametric test may be necessary.\n",
    "\n",
    "2. **Heteroscedasticity:** If the variance within each group is not approximately equal, the results of the ANOVA may be biased. For example, if the variance in one group is much larger than the variance in another group, the results may be driven by the group with the larger variance.\n",
    "\n",
    "3. **Dependence:** If the observations are not independent of each other, the results of the ANOVA may be unreliable. For example, if repeated measurements are taken on the same individual, the observations within each group may be more similar than the observations between groups, leading to an overestimate of the differences between groups."
   ]
  },
  {
   "cell_type": "markdown",
   "id": "3bfe8763",
   "metadata": {},
   "source": [
    "# Question No. 2:\n",
    "What are the three types of ANOVA, and in what situations would each be used?\n",
    "\n",
    "## Answer:\n",
    "There are three main types of ANOVA:\n",
    "\n",
    "1. **One-way ANOVA:** One-way ANOVA is used when there is one independent variable (also called a factor) with three or more levels or groups, and the dependent variable is continuous. It is used to test whether there are any significant differences in the means of the dependent variable across the different levels or groups of the independent variable. For example, a one-way ANOVA could be used to test whether there are any differences in the mean weight of people across three different diet plans.\n",
    "\n",
    "2. **Two-way ANOVA:** Two-way ANOVA is used when there are two independent variables (also called factors), and the dependent variable is continuous. It is used to test for main effects of each independent variable, as well as any interaction effects between the independent variables. For example, a two-way ANOVA could be used to test whether there are any differences in the mean weight of people across three different diet plans and two different exercise routines.\n",
    "\n",
    "3. **Repeated measures ANOVA:** Repeated measures ANOVA is used when the dependent variable is measured on the same subjects at different time points, or under different conditions. It is used to test whether there are any significant differences in the means of the dependent variable across the different time points or conditions. For example, a repeated measures ANOVA could be used to test whether there are any differences in the mean anxiety levels of participants before and after a stress-inducing task."
   ]
  },
  {
   "cell_type": "markdown",
   "id": "85e36931",
   "metadata": {},
   "source": [
    "# Question No. 3:\n",
    "What is the partitioning of variance in ANOVA, and why is it important to understand this concept?\n",
    "\n",
    "## Answer:\n",
    "**Partitioning of variance** in ANOVA refers to the process of dividing the total variation in a dependent variable into different sources of variation. The goal of ANOVA is to determine whether there are significant differences in means between groups or conditions, and partitioning of variance helps to identify the sources of variation that contribute to these differences.\n",
    "\n",
    "In ANOVA, the total variation in the dependent variable is partitioned into two types of variation:<br>\n",
    ">Between-group variation<br>Within-group variation\n",
    "\n",
    "By partitioning the variation in this way, ANOVA can test whether the between-group variation is significantly greater than the within-group variation, which would indicate that the groups or conditions being compared are significantly different.\n",
    "\n",
    "**Understanding partitioning of variance is important** because it allows researchers to determine which sources of variation are most important in explaining the differences in means between groups or conditions. This can help to identify factors that are driving the observed differences and can inform further research or intervention efforts. Additionally, partitioning of variance can help to identify any sources of error or variability in the data, which can improve the reliability and validity of the results."
   ]
  },
  {
   "cell_type": "markdown",
   "id": "47e8249e",
   "metadata": {},
   "source": [
    "# Question No. 4:\n",
    "How would you calculate the total sum of squares (SST), explained sum of squares (SSE), and residual\n",
    "sum of squares (SSR) in a one-way ANOVA using Python?\n",
    "\n",
    "## Answer:"
   ]
  },
  {
   "cell_type": "code",
   "execution_count": 6,
   "id": "31fef53f",
   "metadata": {},
   "outputs": [
    {
     "name": "stdout",
     "output_type": "stream",
     "text": [
      "SST: 442.2002734739364\n",
      "SSE: 29.999927882554047\n",
      "SSR: 412.20034559138236\n"
     ]
    }
   ],
   "source": [
    "import numpy as np\n",
    "import pandas as pd\n",
    "from scipy import stats\n",
    "\n",
    "#generate random data\n",
    "np.random.seed(123)\n",
    "data = pd.DataFrame({'group': np.random.choice(['A', 'B', 'C'], size=90),\n",
    "                     'value': np.random.normal(loc=10, scale=2, size=90)})\n",
    "\n",
    "group_means = data.groupby('group')['value'].mean()\n",
    "grand_mean = data['value'].mean()\n",
    "SST = ((data['value'] - grand_mean) ** 2).sum()\n",
    "SSE = ((group_means - grand_mean) ** 2 * data['group'].value_counts()).sum()\n",
    "SSR = SST - SSE\n",
    "\n",
    "print(\"SST:\", SST)\n",
    "print(\"SSE:\", SSE)\n",
    "print(\"SSR:\", SSR)"
   ]
  },
  {
   "cell_type": "markdown",
   "id": "e7c1a80d",
   "metadata": {},
   "source": [
    "# Question No. 5:\n",
    "In a two-way ANOVA, how would you calculate the main effects and interaction effects using Python?\n",
    "\n",
    "## Answer:"
   ]
  },
  {
   "cell_type": "code",
   "execution_count": 16,
   "id": "af76be25",
   "metadata": {},
   "outputs": [
    {
     "name": "stdout",
     "output_type": "stream",
     "text": [
      "Main Effects:\n",
      "     sum_sq   df         F\n",
      "A  0.554747  1.0  0.380639\n",
      "B  0.554747  1.0  0.380639\n",
      "\n",
      "Interaction Effect:\n",
      "sum_sq    0.804310\n",
      "df        1.000000\n",
      "F         0.551875\n",
      "Name: A:B, dtype: float64\n"
     ]
    }
   ],
   "source": [
    "import numpy as np\n",
    "import pandas as pd\n",
    "import statsmodels.api as sm\n",
    "from statsmodels.formula.api import ols\n",
    "\n",
    "np.random.seed(123)\n",
    "df = pd.DataFrame({'A': np.repeat(['a', 'b'], 25),\n",
    "                   'B': np.repeat(['x', 'y'], 25),\n",
    "                   'score': np.random.normal(0, 1, 50)})\n",
    "\n",
    "model = ols('score ~ A + B + A:B', data=df).fit()\n",
    "anova_table = sm.stats.anova_lm(model, typ=2)\n",
    "\n",
    "main_effects = anova_table[['sum_sq', 'df', 'F']].iloc[:2]\n",
    "interaction_effect = anova_table[['sum_sq', 'df', 'F']].iloc[2]\n",
    "\n",
    "print('Main Effects:')\n",
    "print(main_effects)\n",
    "print('\\nInteraction Effect:')\n",
    "print(interaction_effect)\n"
   ]
  },
  {
   "cell_type": "markdown",
   "id": "161f6ba5",
   "metadata": {},
   "source": [
    "# Question No. 6:\n",
    "Suppose you conducted a one-way ANOVA and obtained an F-statistic of 5.23 and a p-value of 0.02.\n",
    "What can you conclude about the differences between the groups, and how would you interpret these\n",
    "results?\n",
    "\n",
    "## Answer:\n",
    "If a one-way ANOVA yields an F-statistic of 5.23 and a p-value of 0.02, it means that there is evidence of a significant difference between the groups. Specifically, it means that the variance between the groups is greater than the variance within the groups, which suggests that there are significant differences in the means of the groups and we can conclude that at least one group has a mean that is significantly different from the others. <br>\n",
    "However, we cannot determine which specific groups are different from each other based solely on the ANOVA results. Further analysis, such as post-hoc tests or confidence intervals, may be needed to determine the nature of the differences between the groups."
   ]
  },
  {
   "cell_type": "markdown",
   "id": "2aaaf458",
   "metadata": {},
   "source": [
    "# Question No. 7:\n",
    "In a repeated measures ANOVA, how would you handle missing data, and what are the potential\n",
    "consequences of using different methods to handle missing data?\n",
    "\n",
    "## Answer:\n",
    "Handling missing data in a repeated measures ANOVA can be challenging, as the repeated nature of the design means that missing data can have a more profound impact on the analysis than in other designs. There are several methods for handling missing data in a repeated measures ANOVA, including:\n",
    "\n",
    "**Pairwise deletion:** This method involves omitting any cases with missing data for a particular variable, only using cases that have complete data for that variable. This method is easy to implement, but it can result in a loss of statistical power and can produce biased estimates if the missing data is not missing completely at random.\n",
    "\n",
    "**Listwise deletion:** This method involves omitting any cases that have missing data for any of the variables included in the analysis. This method avoids the potential bias of pairwise deletion, but it can also lead to a loss of statistical power if a substantial portion of the data is missing.\n",
    "\n",
    "**Imputation:** This method involves replacing missing data with estimated values based on the available data. There are several imputation methods, including mean imputation, regression imputation, and multiple imputation. Imputation can be a useful method for reducing the impact of missing data, but it can also introduce bias if the imputation model is misspecified."
   ]
  },
  {
   "cell_type": "markdown",
   "id": "35f990c7",
   "metadata": {},
   "source": [
    "# Question No. 8:\n",
    "What are some common post-hoc tests used after ANOVA, and when would you use each one? Provide\n",
    "an example of a situation where a post-hoc test might be necessary.\n",
    "\n",
    "## Answer:\n",
    "Some common post-hoc tests include:\n",
    "\n",
    "1. **Tukey's HSD (honestly significant difference):** This test compares all possible pairs of means and controls the family-wise error rate, making it a good choice for situations where multiple comparisons are being made.\n",
    "\n",
    "2. **Bonferroni correction:** This test is a more conservative alternative to Tukey's HSD and adjusts the alpha level for each comparison. It is a good choice when making a small number of comparisons.\n",
    "\n",
    "3. **Scheffe's test:** This test is a conservative test that can be used when the sample sizes are unequal, and there are more than two groups.\n",
    "\n",
    "4. **Dunnett's test:** This test is used when there is a control group and the other groups are being compared to the control.\n",
    "\n",
    "5. **Games-Howell test:** This test is used when the assumption of equal variances across groups is not met.\n",
    "\n",
    "**A situation where a post-hoc test might be necessary** is if an ANOVA indicates a significant difference between at least two groups, but it is unclear which specific groups are different from each other. For example, a researcher might conduct an ANOVA to compare the mean scores of three different treatment groups on a measure of anxiety. If the ANOVA shows a significant difference between the groups, a post-hoc test such as Tukey's HSD or Bonferroni correction can be used to determine which specific groups differ from each other in terms of their anxiety scores."
   ]
  },
  {
   "cell_type": "markdown",
   "id": "5f0a1d10",
   "metadata": {},
   "source": [
    "# Question No. 9:\n",
    "A researcher wants to compare the mean weight loss of three diets: A, B, and C. They collect data from\n",
    "50 participants who were randomly assigned to one of the diets. Conduct a one-way ANOVA using Python\n",
    "to determine if there are any significant differences between the mean weight loss of the three diets.\n",
    "Report the F-statistic and p-value, and interpret the results.\n",
    "\n",
    "## Answer:"
   ]
  },
  {
   "cell_type": "code",
   "execution_count": 24,
   "id": "0b92cda7",
   "metadata": {},
   "outputs": [
    {
     "name": "stdout",
     "output_type": "stream",
     "text": [
      "F-statistic: 9.14\n",
      "p-value: 0.0002\n",
      "There is a significant difference between the mean weight loss of the three diets.\n"
     ]
    }
   ],
   "source": [
    "import numpy as np\n",
    "from scipy import stats\n",
    "\n",
    "#generate weight loss data for three diets\n",
    "np.random.seed(123)\n",
    "diet_a = np.random.normal(loc=5.5, scale=1.5, size=50)\n",
    "diet_b = np.random.normal(loc=4.8, scale=1.2, size=50)\n",
    "diet_c = np.random.normal(loc=4.2, scale=1.0, size=50)\n",
    "\n",
    "weight_loss = np.concatenate([diet_a, diet_b, diet_c])\n",
    "group_labels = ['A'] * 50 + ['B'] * 50 + ['C'] * 50\n",
    "\n",
    "#conduct one-way ANOVA\n",
    "f_statistic, p_value = stats.f_oneway(diet_a, diet_b, diet_c)\n",
    "\n",
    "print(\"F-statistic: {:.2f}\".format(f_statistic))\n",
    "print(\"p-value: {:.4f}\".format(p_value))\n",
    "\n",
    "if p_value < 0.05:\n",
    "    print(\"There is a significant difference between the mean weight loss of the three diets.\")\n",
    "else:\n",
    "    print(\"There is no significant difference between the mean weight loss of the three diets.\")"
   ]
  },
  {
   "cell_type": "markdown",
   "id": "cab85555",
   "metadata": {},
   "source": [
    "# Question No. 10:\n",
    "A company wants to know if there are any significant differences in the average time it takes to\n",
    "complete a task using three different software programs: Program A, Program B, and Program C. They\n",
    "randomly assign 30 employees to one of the programs and record the time it takes each employee to\n",
    "complete the task. Conduct a two-way ANOVA using Python to determine if there are any main effects or\n",
    "interaction effects between the software programs and employee experience level (novice vs.\n",
    "experienced). Report the F-statistics and p-values, and interpret the results.\n",
    "\n",
    "## Answer:"
   ]
  },
  {
   "cell_type": "code",
   "execution_count": 18,
   "id": "cd2f5d2e",
   "metadata": {},
   "outputs": [
    {
     "name": "stdout",
     "output_type": "stream",
     "text": [
      "                                sum_sq    df             F    PR(>F)\n",
      "C(program)                2.279923e-28   2.0  1.996689e-29  1.000000\n",
      "C(experience)             1.500000e-01   1.0  2.627311e-02  0.871840\n",
      "C(program):C(experience)  1.120000e+01   2.0  9.808628e-01  0.381568\n",
      "Residual                  3.083000e+02  54.0           NaN       NaN\n"
     ]
    }
   ],
   "source": [
    "import pandas as pd\n",
    "import statsmodels.api as sm\n",
    "from statsmodels.formula.api import ols\n",
    "\n",
    "# create a sample data frame\n",
    "data = {'program': ['A', 'B', 'C'] * 20,\n",
    "        'experience': ['novice'] * 30 + ['experienced'] * 30,\n",
    "        'time': [12, 15, 13, 18, 19, 16, 14, 17, 12, 16, 13, 14, 16, 18, 20, 17, 16, 14, 15, 12] * 3}\n",
    "df = pd.DataFrame(data)\n",
    "\n",
    "model = ols('time ~ C(program) + C(experience) + C(program):C(experience)', data=df).fit()\n",
    "anova_table = sm.stats.anova_lm(model, typ=2)\n",
    "\n",
    "# print ANOVA table\n",
    "print(anova_table)"
   ]
  },
  {
   "cell_type": "markdown",
   "id": "0be706de",
   "metadata": {},
   "source": [
    "From the ANOVA table, we can see that neither the main effect of program nor the main effect of experience is significant, as their p-values are both greater than 0.05. However, the interaction effect between program and experience is also not significant, as its p-value is greater than 0.05. Therefore, we can conclude that there are no significant differences in the average time it takes to complete the task using the three different software programs, "
   ]
  },
  {
   "cell_type": "markdown",
   "id": "206a1215",
   "metadata": {},
   "source": [
    "# Question No. 11:\n",
    "An educational researcher is interested in whether a new teaching method improves student test\n",
    "scores. They randomly assign 100 students to either the control group (traditional teaching method) or the\n",
    "experimental group (new teaching method) and administer a test at the end of the semester. Conduct a\n",
    "two-sample t-test using Python to determine if there are any significant differences in test scores\n",
    "between the two groups. If the results are significant, follow up with a post-hoc test to determine which\n",
    "group(s) differ significantly from each other."
   ]
  },
  {
   "cell_type": "code",
   "execution_count": 25,
   "id": "63e47501",
   "metadata": {},
   "outputs": [
    {
     "name": "stdout",
     "output_type": "stream",
     "text": [
      "Two-sample t-test results:\n",
      "t-statistic = -4.409850125838694\n",
      "p-value = 1.695814038427601e-05\n",
      "Post-hoc test results:\n",
      "  Multiple Comparison of Means - Tukey HSD, FWER=0.05   \n",
      "========================================================\n",
      " group1    group2    meandiff p-adj lower  upper  reject\n",
      "--------------------------------------------------------\n",
      "control experimental   5.8216   0.0 3.2183 8.4249   True\n",
      "--------------------------------------------------------\n"
     ]
    }
   ],
   "source": [
    "import numpy as np\n",
    "from scipy import stats\n",
    "import statsmodels.api as sm\n",
    "from statsmodels.formula.api import ols\n",
    "\n",
    "# generate data for control and experimental groups\n",
    "control_scores = np.random.normal(loc=75, scale=10, size=100)\n",
    "experimental_scores = np.random.normal(loc=80, scale=10, size=100)\n",
    "\n",
    "t_stat, p_val = stats.ttest_ind(control_scores, experimental_scores)\n",
    "print(\"Two-sample t-test results:\")\n",
    "print(\"t-statistic =\", t_stat)\n",
    "print(\"p-value =\", p_val)\n",
    "\n",
    "if p_val < 0.05:\n",
    "    data = {\"score\": np.concatenate([control_scores, experimental_scores]),\n",
    "            \"group\": np.concatenate([np.repeat(\"control\", 100), np.repeat(\"experimental\", 100)])}\n",
    "    df = sm.stats.multicomp.pairwise_tukeyhsd(data[\"score\"], data[\"group\"])\n",
    "\n",
    "    print(\"Post-hoc test results:\")\n",
    "    print(df.summary())"
   ]
  },
  {
   "cell_type": "markdown",
   "id": "c59c20f4",
   "metadata": {},
   "source": [
    "# Question No. 12:\n",
    "A researcher wants to know if there are any significant differences in the average daily sales of three\n",
    "retail stores: Store A, Store B, and Store C. They randomly select 30 days and record the sales for each store\n",
    "on those days. Conduct a repeated measures ANOVA using Python to determine if there are any\n",
    "\n",
    "significant differences in sales between the three stores. If the results are significant, follow up with a post-\n",
    "hoc test to determine which store(s) differ significantly from each other.\n",
    "\n",
    "## Answer:"
   ]
  },
  {
   "cell_type": "code",
   "execution_count": 26,
   "id": "8d810e9b",
   "metadata": {},
   "outputs": [
    {
     "name": "stdout",
     "output_type": "stream",
     "text": [
      "               Anova\n",
      "===================================\n",
      "      F Value Num DF  Den DF Pr > F\n",
      "-----------------------------------\n",
      "store 48.9263 2.0000 58.0000 0.0000\n",
      "===================================\n",
      "\n"
     ]
    }
   ],
   "source": [
    "import pandas as pd\n",
    "import numpy as np\n",
    "from scipy.stats import f_oneway\n",
    "from statsmodels.stats.anova import AnovaRM\n",
    "from statsmodels.stats.multicomp import pairwise_tukeyhsd\n",
    "\n",
    "#generate sample data\n",
    "store_a_sales = np.random.normal(1000, 100, 30)\n",
    "store_b_sales = np.random.normal(1200, 150, 30)\n",
    "store_c_sales = np.random.normal(900, 120, 30)\n",
    "\n",
    "sales_df = pd.DataFrame({\n",
    "    'Store A': store_a_sales,\n",
    "    'Store B': store_b_sales,\n",
    "    'Store C': store_c_sales\n",
    "})\n",
    "\n",
    "sales_df_melted = pd.melt(sales_df.reset_index(), id_vars=['index'], value_vars=['Store A', 'Store B', 'Store C'])\n",
    "sales_df_melted.columns = ['day', 'store', 'sales']\n",
    "\n",
    "# Perform repeated measures ANOVA\n",
    "rm_anova = AnovaRM(sales_df_melted, 'sales', 'day', within=['store'])\n",
    "res = rm_anova.fit()\n",
    "print(res)"
   ]
  }
 ],
 "metadata": {
  "kernelspec": {
   "display_name": "Python 3 (ipykernel)",
   "language": "python",
   "name": "python3"
  },
  "language_info": {
   "codemirror_mode": {
    "name": "ipython",
    "version": 3
   },
   "file_extension": ".py",
   "mimetype": "text/x-python",
   "name": "python",
   "nbconvert_exporter": "python",
   "pygments_lexer": "ipython3",
   "version": "3.9.13"
  }
 },
 "nbformat": 4,
 "nbformat_minor": 5
}
