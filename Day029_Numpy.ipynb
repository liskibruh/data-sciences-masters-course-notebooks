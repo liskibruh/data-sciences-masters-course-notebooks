{
 "cells": [
  {
   "cell_type": "code",
   "execution_count": 1,
   "id": "5512da4b-f0f9-487f-a36b-bf3fd4a8d30c",
   "metadata": {},
   "outputs": [],
   "source": [
    "#numpy: numerical python\n",
    "import numpy as np"
   ]
  },
  {
   "cell_type": "code",
   "execution_count": 2,
   "id": "234c6058-86e0-4439-912b-71199cbfcea4",
   "metadata": {},
   "outputs": [],
   "source": [
    "l = [1,2,3,4]"
   ]
  },
  {
   "cell_type": "code",
   "execution_count": 4,
   "id": "47f4379a-016a-4da9-ae49-f9c836cd4c32",
   "metadata": {},
   "outputs": [],
   "source": [
    "ar=np.array(l)"
   ]
  },
  {
   "cell_type": "code",
   "execution_count": 5,
   "id": "851af7f5-13d5-4881-bbb8-ec9ae25eeae2",
   "metadata": {},
   "outputs": [
    {
     "data": {
      "text/plain": [
       "numpy.ndarray"
      ]
     },
     "execution_count": 5,
     "metadata": {},
     "output_type": "execute_result"
    }
   ],
   "source": [
    "type(ar)"
   ]
  },
  {
   "cell_type": "code",
   "execution_count": 7,
   "id": "b2f42d21-59e5-43b5-aec6-81d68920e3e6",
   "metadata": {},
   "outputs": [
    {
     "data": {
      "text/plain": [
       "array([[1, 2],\n",
       "       [3, 4]])"
      ]
     },
     "execution_count": 7,
     "metadata": {},
     "output_type": "execute_result"
    }
   ],
   "source": [
    "np.array([[1,2],[3,4]]) #2 dimensional"
   ]
  },
  {
   "cell_type": "code",
   "execution_count": 8,
   "id": "940f2563-93c5-4832-8522-44ad12a7145c",
   "metadata": {},
   "outputs": [
    {
     "data": {
      "text/plain": [
       "array([1, 2, 3, 4])"
      ]
     },
     "execution_count": 8,
     "metadata": {},
     "output_type": "execute_result"
    }
   ],
   "source": [
    "np.asarray(l)"
   ]
  },
  {
   "cell_type": "code",
   "execution_count": 9,
   "id": "d6b0a902-17dc-4721-951e-137ad5d47f3d",
   "metadata": {},
   "outputs": [],
   "source": [
    "a = [2,3,4]"
   ]
  },
  {
   "cell_type": "code",
   "execution_count": 10,
   "id": "9b269cb6-932e-4bd1-b371-bda258162d99",
   "metadata": {},
   "outputs": [
    {
     "data": {
      "text/plain": [
       "array([2, 3, 4])"
      ]
     },
     "execution_count": 10,
     "metadata": {},
     "output_type": "execute_result"
    }
   ],
   "source": [
    "np.asanyarray(a)"
   ]
  },
  {
   "cell_type": "code",
   "execution_count": 11,
   "id": "2d1c86b5-712c-466e-9eea-a41516e9db05",
   "metadata": {},
   "outputs": [],
   "source": [
    "b = np.matrix(l)"
   ]
  },
  {
   "cell_type": "code",
   "execution_count": 12,
   "id": "af398f22-0fd4-4053-81f0-514e33f4f768",
   "metadata": {},
   "outputs": [
    {
     "data": {
      "text/plain": [
       "matrix([[1, 2, 3, 4]])"
      ]
     },
     "execution_count": 12,
     "metadata": {},
     "output_type": "execute_result"
    }
   ],
   "source": [
    "b # matrix is two-dimensional by default"
   ]
  },
  {
   "cell_type": "code",
   "execution_count": 13,
   "id": "038622a8-bf2e-41d9-a657-e8dd7de60046",
   "metadata": {},
   "outputs": [
    {
     "data": {
      "text/plain": [
       "matrix([[1, 2, 3, 4]])"
      ]
     },
     "execution_count": 13,
     "metadata": {},
     "output_type": "execute_result"
    }
   ],
   "source": [
    "np.asanyarray(b)"
   ]
  },
  {
   "cell_type": "markdown",
   "id": "8ebd9f83-25f8-4b95-afd7-ac0e1dd45bdc",
   "metadata": {},
   "source": [
    "matrix is also a form of array so np.asanyarray will not convert it to the main numpy array"
   ]
  },
  {
   "cell_type": "code",
   "execution_count": 14,
   "id": "162b7d45-c1e3-44e4-b046-a8d05a2c8818",
   "metadata": {},
   "outputs": [
    {
     "data": {
      "text/plain": [
       "array([[1, 2, 3, 4]])"
      ]
     },
     "execution_count": 14,
     "metadata": {},
     "output_type": "execute_result"
    }
   ],
   "source": [
    "np.asarray(b)"
   ]
  },
  {
   "cell_type": "code",
   "execution_count": 15,
   "id": "e8af734f-5c48-4967-a3a8-e07fdd00c2e7",
   "metadata": {},
   "outputs": [],
   "source": [
    "a = np.array(l)"
   ]
  },
  {
   "cell_type": "code",
   "execution_count": 16,
   "id": "e51b4a39-4acb-4893-8eb6-222d3ded04d8",
   "metadata": {},
   "outputs": [],
   "source": [
    "c = a"
   ]
  },
  {
   "cell_type": "markdown",
   "id": "513b828d-8cdc-4262-8968-7bbb097057d1",
   "metadata": {},
   "source": [
    "c = a is called 'swallow copying'. now both c and a are pointing to the same array in memory. so if you alter any one of them, the changes will happen in the other as well"
   ]
  },
  {
   "cell_type": "code",
   "execution_count": 17,
   "id": "b9dda7f9-afad-4769-8391-c7144880ac9a",
   "metadata": {},
   "outputs": [
    {
     "data": {
      "text/plain": [
       "array([1, 2, 3, 4])"
      ]
     },
     "execution_count": 17,
     "metadata": {},
     "output_type": "execute_result"
    }
   ],
   "source": [
    "c"
   ]
  },
  {
   "cell_type": "code",
   "execution_count": 18,
   "id": "a1f93a80-5850-495f-9486-d405c14f3a5d",
   "metadata": {},
   "outputs": [
    {
     "data": {
      "text/plain": [
       "array([1, 2, 3, 4])"
      ]
     },
     "execution_count": 18,
     "metadata": {},
     "output_type": "execute_result"
    }
   ],
   "source": [
    "a"
   ]
  },
  {
   "cell_type": "code",
   "execution_count": 19,
   "id": "71aeb4ed-6047-4865-9704-d6a557eca0e7",
   "metadata": {},
   "outputs": [],
   "source": [
    "c[0] = 100"
   ]
  },
  {
   "cell_type": "code",
   "execution_count": 20,
   "id": "b29c561d-8224-40d8-816c-16980a9ffb65",
   "metadata": {},
   "outputs": [
    {
     "data": {
      "text/plain": [
       "array([100,   2,   3,   4])"
      ]
     },
     "execution_count": 20,
     "metadata": {},
     "output_type": "execute_result"
    }
   ],
   "source": [
    "c"
   ]
  },
  {
   "cell_type": "code",
   "execution_count": 21,
   "id": "3bcba460-1bb6-49de-ae73-ff6f0dacc5e1",
   "metadata": {},
   "outputs": [
    {
     "data": {
      "text/plain": [
       "array([100,   2,   3,   4])"
      ]
     },
     "execution_count": 21,
     "metadata": {},
     "output_type": "execute_result"
    }
   ],
   "source": [
    "a"
   ]
  },
  {
   "cell_type": "code",
   "execution_count": 22,
   "id": "e7c24494-119f-4313-af13-f3f394a7e6a1",
   "metadata": {},
   "outputs": [],
   "source": [
    "d = np.copy(a)"
   ]
  },
  {
   "cell_type": "markdown",
   "id": "90334ed6-6c3a-483b-9270-948864e18ee9",
   "metadata": {},
   "source": [
    "to avoid 'swallow copying' we can use np.copy() method. which copies the array to a new location in memory. this is called 'deep copying'"
   ]
  },
  {
   "cell_type": "code",
   "execution_count": 23,
   "id": "f23c656f-6434-4cce-b600-855ebb307dc0",
   "metadata": {},
   "outputs": [
    {
     "data": {
      "text/plain": [
       "array([100,   2,   3,   4])"
      ]
     },
     "execution_count": 23,
     "metadata": {},
     "output_type": "execute_result"
    }
   ],
   "source": [
    "d"
   ]
  },
  {
   "cell_type": "code",
   "execution_count": 24,
   "id": "1de076ab-5fe7-444c-9468-ca8e2bf12710",
   "metadata": {},
   "outputs": [
    {
     "data": {
      "text/plain": [
       "array([100,   2,   3,   4])"
      ]
     },
     "execution_count": 24,
     "metadata": {},
     "output_type": "execute_result"
    }
   ],
   "source": [
    "a"
   ]
  },
  {
   "cell_type": "code",
   "execution_count": 25,
   "id": "445282b9-e9e2-4ac0-b861-02057b80486f",
   "metadata": {},
   "outputs": [],
   "source": [
    "a[1]=400"
   ]
  },
  {
   "cell_type": "code",
   "execution_count": 26,
   "id": "c0bed6a1-2be3-4cff-99ad-d5a6b9dbe9a8",
   "metadata": {},
   "outputs": [
    {
     "data": {
      "text/plain": [
       "array([100, 400,   3,   4])"
      ]
     },
     "execution_count": 26,
     "metadata": {},
     "output_type": "execute_result"
    }
   ],
   "source": [
    "a"
   ]
  },
  {
   "cell_type": "code",
   "execution_count": 27,
   "id": "649ecd30-1eaf-4f99-a5eb-58467e73af38",
   "metadata": {},
   "outputs": [
    {
     "data": {
      "text/plain": [
       "array([100,   2,   3,   4])"
      ]
     },
     "execution_count": 27,
     "metadata": {},
     "output_type": "execute_result"
    }
   ],
   "source": [
    "d"
   ]
  },
  {
   "cell_type": "markdown",
   "id": "355bd201-2c89-4144-8449-32becd1d7059",
   "metadata": {},
   "source": [
    "creating numpy array form function:"
   ]
  },
  {
   "cell_type": "code",
   "execution_count": 29,
   "id": "dd49fe51-b725-4f14-93ce-433d20168ed1",
   "metadata": {},
   "outputs": [
    {
     "data": {
      "text/plain": [
       "array([[ True, False, False],\n",
       "       [False,  True, False],\n",
       "       [False, False,  True]])"
      ]
     },
     "execution_count": 29,
     "metadata": {},
     "output_type": "execute_result"
    }
   ],
   "source": [
    "np.fromfunction(lambda i,j: i==j, (3,3))"
   ]
  },
  {
   "cell_type": "code",
   "execution_count": 30,
   "id": "0623b21f-2633-493a-8b13-abb0a3ee96d8",
   "metadata": {},
   "outputs": [
    {
     "data": {
      "text/plain": [
       "array([[0., 0., 0.],\n",
       "       [0., 1., 2.],\n",
       "       [0., 2., 4.]])"
      ]
     },
     "execution_count": 30,
     "metadata": {},
     "output_type": "execute_result"
    }
   ],
   "source": [
    "np.fromfunction(lambda i,j: i*j, (3,3))"
   ]
  },
  {
   "cell_type": "markdown",
   "id": "88361093-e28d-4431-bc12-f1050b1fd087",
   "metadata": {},
   "source": [
    "creating numpy array from iterable"
   ]
  },
  {
   "cell_type": "code",
   "execution_count": 32,
   "id": "6b52a4ed-8aa6-4d02-b813-b8563098c210",
   "metadata": {},
   "outputs": [],
   "source": [
    "iterable = (i*i for i in range(5))"
   ]
  },
  {
   "cell_type": "code",
   "execution_count": 33,
   "id": "e30f5229-f975-49e2-8677-52b60c3f5d57",
   "metadata": {},
   "outputs": [
    {
     "data": {
      "text/plain": [
       "array([ 0.,  1.,  4.,  9., 16.])"
      ]
     },
     "execution_count": 33,
     "metadata": {},
     "output_type": "execute_result"
    }
   ],
   "source": [
    "np.fromiter(iterable, float)"
   ]
  },
  {
   "cell_type": "markdown",
   "id": "a7b182fe-03c8-4405-bcd0-0af304cdef7d",
   "metadata": {},
   "source": [
    "creating numpy array from string"
   ]
  },
  {
   "cell_type": "code",
   "execution_count": 35,
   "id": "22c97654-6b2d-4a73-86a6-c556a64d7ea2",
   "metadata": {},
   "outputs": [
    {
     "data": {
      "text/plain": [
       "array([234., 234.])"
      ]
     },
     "execution_count": 35,
     "metadata": {},
     "output_type": "execute_result"
    }
   ],
   "source": [
    "np.fromstring('234 234', sep=' ')"
   ]
  },
  {
   "cell_type": "code",
   "execution_count": 36,
   "id": "ea23309b-e778-404a-be61-e0722224ea0a",
   "metadata": {},
   "outputs": [
    {
     "data": {
      "text/plain": [
       "array([234., 234.])"
      ]
     },
     "execution_count": 36,
     "metadata": {},
     "output_type": "execute_result"
    }
   ],
   "source": [
    "np.fromstring('234,234', sep=',')"
   ]
  },
  {
   "cell_type": "markdown",
   "id": "a0901005-ad1c-4f3b-b2d1-e069549ce5ae",
   "metadata": {},
   "source": [
    "### some fuctions in numpy"
   ]
  },
  {
   "cell_type": "markdown",
   "id": "cef7d4eb-cf03-4796-8bb3-904798c085c2",
   "metadata": {},
   "source": [
    "np.ndim"
   ]
  },
  {
   "cell_type": "code",
   "execution_count": 37,
   "id": "d3e41921-e9cb-4e46-854f-6516179cf3cb",
   "metadata": {},
   "outputs": [],
   "source": [
    "l = [2,3,4,5,6]"
   ]
  },
  {
   "cell_type": "code",
   "execution_count": 38,
   "id": "cf4e4e31-30f1-479d-abab-40a97d1e20fa",
   "metadata": {},
   "outputs": [],
   "source": [
    "ar = np.array(l)"
   ]
  },
  {
   "cell_type": "code",
   "execution_count": 40,
   "id": "472f304e-9b28-4f4c-bdd5-ba8370ffb538",
   "metadata": {},
   "outputs": [
    {
     "data": {
      "text/plain": [
       "array([2, 3, 4, 5, 6])"
      ]
     },
     "execution_count": 40,
     "metadata": {},
     "output_type": "execute_result"
    }
   ],
   "source": [
    "ar"
   ]
  },
  {
   "cell_type": "code",
   "execution_count": 41,
   "id": "098d0ff3-1230-4944-b5b8-093e4cf04cd0",
   "metadata": {},
   "outputs": [
    {
     "data": {
      "text/plain": [
       "1"
      ]
     },
     "execution_count": 41,
     "metadata": {},
     "output_type": "execute_result"
    }
   ],
   "source": [
    "ar.ndim"
   ]
  },
  {
   "cell_type": "code",
   "execution_count": 42,
   "id": "e62b6566-5057-4579-8b48-cc6951fa3a4f",
   "metadata": {},
   "outputs": [],
   "source": [
    "ar2 = np.array([[1,3,4,5],[3,4,5,6]])"
   ]
  },
  {
   "cell_type": "code",
   "execution_count": 44,
   "id": "99b88c81-3ff6-4156-9234-0f6e79d02852",
   "metadata": {},
   "outputs": [
    {
     "data": {
      "text/plain": [
       "array([[1, 3, 4, 5],\n",
       "       [3, 4, 5, 6]])"
      ]
     },
     "execution_count": 44,
     "metadata": {},
     "output_type": "execute_result"
    }
   ],
   "source": [
    "ar2"
   ]
  },
  {
   "cell_type": "code",
   "execution_count": 45,
   "id": "efb7f5ff-ee80-4644-a79e-ff31ed9ac7ad",
   "metadata": {},
   "outputs": [
    {
     "data": {
      "text/plain": [
       "2"
      ]
     },
     "execution_count": 45,
     "metadata": {},
     "output_type": "execute_result"
    }
   ],
   "source": [
    "ar2.ndim"
   ]
  },
  {
   "cell_type": "markdown",
   "id": "adae7392-bf83-4f48-841b-de48ec458947",
   "metadata": {},
   "source": [
    ".shape"
   ]
  },
  {
   "cell_type": "code",
   "execution_count": 46,
   "id": "0ef4e441-281b-4614-9997-3fcfc46e7b7c",
   "metadata": {},
   "outputs": [
    {
     "data": {
      "text/plain": [
       "(5,)"
      ]
     },
     "execution_count": 46,
     "metadata": {},
     "output_type": "execute_result"
    }
   ],
   "source": [
    "ar.shape"
   ]
  },
  {
   "cell_type": "code",
   "execution_count": 47,
   "id": "ad7b22a6-e2be-4f7d-bf0a-2e35a2c941d3",
   "metadata": {},
   "outputs": [
    {
     "data": {
      "text/plain": [
       "(2, 4)"
      ]
     },
     "execution_count": 47,
     "metadata": {},
     "output_type": "execute_result"
    }
   ],
   "source": [
    "ar2.shape"
   ]
  },
  {
   "cell_type": "markdown",
   "id": "6d5c5070-12e1-4917-b4ce-4081bfa9e209",
   "metadata": {},
   "source": [
    ".dtype"
   ]
  },
  {
   "cell_type": "code",
   "execution_count": 48,
   "id": "69c78992-66cd-42a8-b9e2-f345a42fd5ef",
   "metadata": {},
   "outputs": [
    {
     "data": {
      "text/plain": [
       "dtype('int64')"
      ]
     },
     "execution_count": 48,
     "metadata": {},
     "output_type": "execute_result"
    }
   ],
   "source": [
    "ar2.dtype"
   ]
  },
  {
   "cell_type": "code",
   "execution_count": 49,
   "id": "2a06788c-b6bc-4807-8ac6-b6e0a83de717",
   "metadata": {},
   "outputs": [
    {
     "data": {
      "text/plain": [
       "dtype('int64')"
      ]
     },
     "execution_count": 49,
     "metadata": {},
     "output_type": "execute_result"
    }
   ],
   "source": [
    "ar.dtype"
   ]
  },
  {
   "cell_type": "code",
   "execution_count": 50,
   "id": "c722e6b7-ebf5-4e18-8e01-bc5d25c2b30a",
   "metadata": {},
   "outputs": [],
   "source": [
    "ar22 = np.array([(1.4,45,45),(23,45,66)])"
   ]
  },
  {
   "cell_type": "code",
   "execution_count": 51,
   "id": "96ddeb53-38bf-4932-beac-74b371c1aad5",
   "metadata": {},
   "outputs": [
    {
     "data": {
      "text/plain": [
       "array([[ 1.4, 45. , 45. ],\n",
       "       [23. , 45. , 66. ]])"
      ]
     },
     "execution_count": 51,
     "metadata": {},
     "output_type": "execute_result"
    }
   ],
   "source": [
    "ar22"
   ]
  },
  {
   "cell_type": "code",
   "execution_count": 52,
   "id": "d766cd20-9c8d-4fdc-945d-6d81de54d855",
   "metadata": {},
   "outputs": [
    {
     "data": {
      "text/plain": [
       "dtype('float64')"
      ]
     },
     "execution_count": 52,
     "metadata": {},
     "output_type": "execute_result"
    }
   ],
   "source": [
    "ar22.dtype"
   ]
  },
  {
   "cell_type": "markdown",
   "id": "9703d84a-5641-42a6-a578-ce4b96b7ef20",
   "metadata": {},
   "source": [
    "lets say we want to genarate some numerical data. we can do so by using range function as"
   ]
  },
  {
   "cell_type": "code",
   "execution_count": 53,
   "id": "59ceeb4c-ebfc-4b27-a3b3-436a1d5f442d",
   "metadata": {},
   "outputs": [
    {
     "data": {
      "text/plain": [
       "[0, 1, 2, 3, 4]"
      ]
     },
     "execution_count": 53,
     "metadata": {},
     "output_type": "execute_result"
    }
   ],
   "source": [
    "list(range(5))"
   ]
  },
  {
   "cell_type": "markdown",
   "id": "060bbe9b-09d1-4a2e-bee0-07a496fbd38d",
   "metadata": {},
   "source": [
    "but now lets say we want to generate floating data, range function cannot do that"
   ]
  },
  {
   "cell_type": "code",
   "execution_count": 54,
   "id": "401c84ec-f934-4bd3-8fba-6efbff86dd12",
   "metadata": {},
   "outputs": [
    {
     "ename": "TypeError",
     "evalue": "'float' object cannot be interpreted as an integer",
     "output_type": "error",
     "traceback": [
      "\u001b[0;31m---------------------------------------------------------------------------\u001b[0m",
      "\u001b[0;31mTypeError\u001b[0m                                 Traceback (most recent call last)",
      "Cell \u001b[0;32mIn[54], line 1\u001b[0m\n\u001b[0;32m----> 1\u001b[0m \u001b[38;5;28mlist\u001b[39m(\u001b[38;5;28;43mrange\u001b[39;49m\u001b[43m(\u001b[49m\u001b[38;5;241;43m0.1\u001b[39;49m\u001b[43m,\u001b[49m\u001b[43m \u001b[49m\u001b[38;5;241;43m0.5\u001b[39;49m\u001b[43m)\u001b[49m)\n",
      "\u001b[0;31mTypeError\u001b[0m: 'float' object cannot be interpreted as an integer"
     ]
    }
   ],
   "source": [
    "list(range(0.1, 0.5))"
   ]
  },
  {
   "cell_type": "markdown",
   "id": "8ecb5c70-af46-4b5e-81a6-434695991a58",
   "metadata": {},
   "source": [
    "in such case, we can use np.arange\n",
    "\n",
    "np.arange:"
   ]
  },
  {
   "cell_type": "code",
   "execution_count": 55,
   "id": "880ca8fa-ef18-4d4b-a4ff-414133fb053f",
   "metadata": {},
   "outputs": [
    {
     "data": {
      "text/plain": [
       "array([2.3, 3.3, 4.3, 5.3])"
      ]
     },
     "execution_count": 55,
     "metadata": {},
     "output_type": "execute_result"
    }
   ],
   "source": [
    "np.arange(2.3, 5.6)"
   ]
  },
  {
   "cell_type": "code",
   "execution_count": 56,
   "id": "c2593f43-9d8d-442d-bd14-e34bc7990fcc",
   "metadata": {},
   "outputs": [
    {
     "data": {
      "text/plain": [
       "array([2.3, 2.6, 2.9, 3.2, 3.5, 3.8, 4.1, 4.4, 4.7, 5. , 5.3])"
      ]
     },
     "execution_count": 56,
     "metadata": {},
     "output_type": "execute_result"
    }
   ],
   "source": [
    "np.arange(2.3, 5.6,.3)"
   ]
  },
  {
   "cell_type": "code",
   "execution_count": 57,
   "id": "d54c607d-3565-42cf-a358-265d2ce3b163",
   "metadata": {},
   "outputs": [
    {
     "data": {
      "text/plain": [
       "[2.3,\n",
       " 2.5999999999999996,\n",
       " 2.8999999999999995,\n",
       " 3.1999999999999993,\n",
       " 3.499999999999999,\n",
       " 3.799999999999999,\n",
       " 4.099999999999999,\n",
       " 4.399999999999999,\n",
       " 4.699999999999998,\n",
       " 4.999999999999998,\n",
       " 5.299999999999998]"
      ]
     },
     "execution_count": 57,
     "metadata": {},
     "output_type": "execute_result"
    }
   ],
   "source": [
    "list(np.arange(2.3, 5.6,.3))"
   ]
  },
  {
   "cell_type": "markdown",
   "id": "7add4dc9-490b-47eb-9780-223984f5f7d1",
   "metadata": {},
   "source": [
    "np.linspace:\n",
    "\n",
    "generates linear datapoints between two points"
   ]
  },
  {
   "cell_type": "code",
   "execution_count": 58,
   "id": "3d6e52d3-8ffb-48b9-8bdb-7c0d37214942",
   "metadata": {},
   "outputs": [
    {
     "data": {
      "text/plain": [
       "array([1.        , 1.44444444, 1.88888889, 2.33333333, 2.77777778,\n",
       "       3.22222222, 3.66666667, 4.11111111, 4.55555556, 5.        ])"
      ]
     },
     "execution_count": 58,
     "metadata": {},
     "output_type": "execute_result"
    }
   ],
   "source": [
    "np.linspace(1,5,10)"
   ]
  },
  {
   "cell_type": "markdown",
   "id": "a5c041c5-b3d7-49f8-afc2-b41d1e5f546f",
   "metadata": {},
   "source": [
    "np.logspace:"
   ]
  },
  {
   "cell_type": "code",
   "execution_count": 75,
   "id": "8a13dc9d-9221-455f-a63e-8aaeff4ba887",
   "metadata": {},
   "outputs": [
    {
     "data": {
      "text/plain": [
       "array([   100.        ,    215.443469  ,    464.15888336,   1000.        ,\n",
       "         2154.43469003,   4641.58883361,  10000.        ,  21544.34690032,\n",
       "        46415.88833613, 100000.        ])"
      ]
     },
     "execution_count": 75,
     "metadata": {},
     "output_type": "execute_result"
    }
   ],
   "source": [
    "np.logspace(2,5,10)"
   ]
  },
  {
   "cell_type": "code",
   "execution_count": 76,
   "id": "d352887e-dd6c-4f8d-82de-2275792ed600",
   "metadata": {},
   "outputs": [
    {
     "data": {
      "text/plain": [
       "array([ 4.        ,  5.0396842 ,  6.34960421,  8.        , 10.0793684 ,\n",
       "       12.69920842, 16.        , 20.1587368 , 25.39841683, 32.        ])"
      ]
     },
     "execution_count": 76,
     "metadata": {},
     "output_type": "execute_result"
    }
   ],
   "source": [
    "np.logspace(2,5,10, base=2)"
   ]
  },
  {
   "cell_type": "markdown",
   "id": "a8cf55ac-d053-447a-9b34-85499acc356a",
   "metadata": {},
   "source": [
    "np.zeros:"
   ]
  },
  {
   "cell_type": "code",
   "execution_count": 59,
   "id": "da26eb2a-f233-4a4b-a6e5-e8f364d50317",
   "metadata": {},
   "outputs": [
    {
     "data": {
      "text/plain": [
       "array([0., 0., 0., 0., 0., 0.])"
      ]
     },
     "execution_count": 59,
     "metadata": {},
     "output_type": "execute_result"
    }
   ],
   "source": [
    "np.zeros(6)"
   ]
  },
  {
   "cell_type": "code",
   "execution_count": 60,
   "id": "e80f61f2-37ee-4bab-b247-965a492bb5b9",
   "metadata": {},
   "outputs": [
    {
     "data": {
      "text/plain": [
       "array([[0., 0., 0., 0.],\n",
       "       [0., 0., 0., 0.],\n",
       "       [0., 0., 0., 0.]])"
      ]
     },
     "execution_count": 60,
     "metadata": {},
     "output_type": "execute_result"
    }
   ],
   "source": [
    "np.zeros((3,4))"
   ]
  },
  {
   "cell_type": "code",
   "execution_count": 63,
   "id": "fce95902-6770-469c-861d-392ab5b60a01",
   "metadata": {},
   "outputs": [
    {
     "data": {
      "text/plain": [
       "array([[[0., 0.],\n",
       "        [0., 0.],\n",
       "        [0., 0.],\n",
       "        [0., 0.]],\n",
       "\n",
       "       [[0., 0.],\n",
       "        [0., 0.],\n",
       "        [0., 0.],\n",
       "        [0., 0.]],\n",
       "\n",
       "       [[0., 0.],\n",
       "        [0., 0.],\n",
       "        [0., 0.],\n",
       "        [0., 0.]]])"
      ]
     },
     "execution_count": 63,
     "metadata": {},
     "output_type": "execute_result"
    }
   ],
   "source": [
    "np.zeros((3,4,2))"
   ]
  },
  {
   "cell_type": "code",
   "execution_count": 64,
   "id": "686bc442-966c-4a1e-aff6-0a63e7af7b0c",
   "metadata": {},
   "outputs": [
    {
     "data": {
      "text/plain": [
       "3"
      ]
     },
     "execution_count": 64,
     "metadata": {},
     "output_type": "execute_result"
    }
   ],
   "source": [
    "np.ndim(np.zeros((3,4,2)))"
   ]
  },
  {
   "cell_type": "code",
   "execution_count": 65,
   "id": "c6fe40b8-416f-4239-8455-ce67a5cd6f12",
   "metadata": {},
   "outputs": [
    {
     "data": {
      "text/plain": [
       "array([[[[0., 0., 0.],\n",
       "         [0., 0., 0.]],\n",
       "\n",
       "        [[0., 0., 0.],\n",
       "         [0., 0., 0.]],\n",
       "\n",
       "        [[0., 0., 0.],\n",
       "         [0., 0., 0.]],\n",
       "\n",
       "        [[0., 0., 0.],\n",
       "         [0., 0., 0.]]],\n",
       "\n",
       "\n",
       "       [[[0., 0., 0.],\n",
       "         [0., 0., 0.]],\n",
       "\n",
       "        [[0., 0., 0.],\n",
       "         [0., 0., 0.]],\n",
       "\n",
       "        [[0., 0., 0.],\n",
       "         [0., 0., 0.]],\n",
       "\n",
       "        [[0., 0., 0.],\n",
       "         [0., 0., 0.]]],\n",
       "\n",
       "\n",
       "       [[[0., 0., 0.],\n",
       "         [0., 0., 0.]],\n",
       "\n",
       "        [[0., 0., 0.],\n",
       "         [0., 0., 0.]],\n",
       "\n",
       "        [[0., 0., 0.],\n",
       "         [0., 0., 0.]],\n",
       "\n",
       "        [[0., 0., 0.],\n",
       "         [0., 0., 0.]]]])"
      ]
     },
     "execution_count": 65,
     "metadata": {},
     "output_type": "execute_result"
    }
   ],
   "source": [
    "np.zeros((3,4,2,3))"
   ]
  },
  {
   "cell_type": "code",
   "execution_count": 66,
   "id": "a71db6c4-40ee-4426-bc87-a6eb4d0ec3af",
   "metadata": {},
   "outputs": [
    {
     "data": {
      "text/plain": [
       "4"
      ]
     },
     "execution_count": 66,
     "metadata": {},
     "output_type": "execute_result"
    }
   ],
   "source": [
    "ar4=np.zeros((3,4,2,3))\n",
    "ar4.ndim"
   ]
  },
  {
   "cell_type": "markdown",
   "id": "1079d841-db2c-4c9f-9d9d-01db1c1f0c23",
   "metadata": {},
   "source": [
    "np.ones:"
   ]
  },
  {
   "cell_type": "code",
   "execution_count": 67,
   "id": "c8a9edaf-2d01-4811-8712-15c14f6d03ae",
   "metadata": {},
   "outputs": [
    {
     "data": {
      "text/plain": [
       "array([1., 1., 1., 1.])"
      ]
     },
     "execution_count": 67,
     "metadata": {},
     "output_type": "execute_result"
    }
   ],
   "source": [
    "np.ones(4)"
   ]
  },
  {
   "cell_type": "code",
   "execution_count": 68,
   "id": "070a1385-57cf-4b57-bfae-fc608e3501b4",
   "metadata": {},
   "outputs": [
    {
     "data": {
      "text/plain": [
       "array([[1., 1., 1.],\n",
       "       [1., 1., 1.]])"
      ]
     },
     "execution_count": 68,
     "metadata": {},
     "output_type": "execute_result"
    }
   ],
   "source": [
    "np.ones((2,3))"
   ]
  },
  {
   "cell_type": "code",
   "execution_count": 69,
   "id": "5f0b5bae-206a-4ee3-b10c-fa72de11af6c",
   "metadata": {},
   "outputs": [
    {
     "data": {
      "text/plain": [
       "array([[[1., 1.],\n",
       "        [1., 1.],\n",
       "        [1., 1.]],\n",
       "\n",
       "       [[1., 1.],\n",
       "        [1., 1.],\n",
       "        [1., 1.]]])"
      ]
     },
     "execution_count": 69,
     "metadata": {},
     "output_type": "execute_result"
    }
   ],
   "source": [
    "np.ones((2,3,2))"
   ]
  },
  {
   "cell_type": "code",
   "execution_count": 70,
   "id": "7316be03-2553-418e-999a-cb72f9645b66",
   "metadata": {},
   "outputs": [],
   "source": [
    "arr = np.ones((2,3,2))"
   ]
  },
  {
   "cell_type": "code",
   "execution_count": 71,
   "id": "5335dddb-364a-4e8a-8601-c110cde4dd34",
   "metadata": {},
   "outputs": [
    {
     "data": {
      "text/plain": [
       "array([[[6., 6.],\n",
       "        [6., 6.],\n",
       "        [6., 6.]],\n",
       "\n",
       "       [[6., 6.],\n",
       "        [6., 6.],\n",
       "        [6., 6.]]])"
      ]
     },
     "execution_count": 71,
     "metadata": {},
     "output_type": "execute_result"
    }
   ],
   "source": [
    "arr+5"
   ]
  },
  {
   "cell_type": "code",
   "execution_count": 72,
   "id": "f0fabadf-6202-4a33-8728-d15b83eb8969",
   "metadata": {},
   "outputs": [
    {
     "data": {
      "text/plain": [
       "array([[[5., 5.],\n",
       "        [5., 5.],\n",
       "        [5., 5.]],\n",
       "\n",
       "       [[5., 5.],\n",
       "        [5., 5.],\n",
       "        [5., 5.]]])"
      ]
     },
     "execution_count": 72,
     "metadata": {},
     "output_type": "execute_result"
    }
   ],
   "source": [
    "arr*5"
   ]
  },
  {
   "cell_type": "markdown",
   "id": "2f68ece5-b445-4434-afce-8d83c849df28",
   "metadata": {},
   "source": [
    "np.empty:"
   ]
  },
  {
   "cell_type": "code",
   "execution_count": 73,
   "id": "ed66b6bc-5ccc-4dc7-9fea-af7fc4e22f99",
   "metadata": {},
   "outputs": [
    {
     "data": {
      "text/plain": [
       "array([[4.67219873e-310, 0.00000000e+000, 0.00000000e+000,\n",
       "        0.00000000e+000, 0.00000000e+000],\n",
       "       [0.00000000e+000, 0.00000000e+000, 0.00000000e+000,\n",
       "        0.00000000e+000, 0.00000000e+000],\n",
       "       [0.00000000e+000, 0.00000000e+000, 0.00000000e+000,\n",
       "        0.00000000e+000, 6.32404027e-322]])"
      ]
     },
     "execution_count": 73,
     "metadata": {},
     "output_type": "execute_result"
    }
   ],
   "source": [
    "np.empty((3,5))"
   ]
  },
  {
   "cell_type": "markdown",
   "id": "c2d6fbed-7a0d-4afd-85c1-c904df8635da",
   "metadata": {},
   "source": [
    "np.eye: identity matrix"
   ]
  },
  {
   "cell_type": "code",
   "execution_count": 74,
   "id": "4db26fa2-3c59-47ea-94ee-67ff6d29aac0",
   "metadata": {},
   "outputs": [
    {
     "data": {
      "text/plain": [
       "array([[1., 0., 0., 0.],\n",
       "       [0., 1., 0., 0.],\n",
       "       [0., 0., 1., 0.],\n",
       "       [0., 0., 0., 1.]])"
      ]
     },
     "execution_count": 74,
     "metadata": {},
     "output_type": "execute_result"
    }
   ],
   "source": [
    "np.eye(4)"
   ]
  },
  {
   "cell_type": "markdown",
   "id": "a4e72d69-f134-47d9-a2be-991e8dbbca0f",
   "metadata": {},
   "source": [
    "np.random.randn: \n",
    "\n",
    "generates data that has a normal distribution"
   ]
  },
  {
   "cell_type": "code",
   "execution_count": 77,
   "id": "c435de9e-5ccb-4f9b-b27a-4b513416d4c9",
   "metadata": {},
   "outputs": [
    {
     "data": {
      "text/plain": [
       "array([[ 2.07786183, -0.28290117, -0.10490164, -0.52157381],\n",
       "       [-1.7998945 ,  1.54462186,  1.1013888 ,  2.33911968],\n",
       "       [ 0.45706052, -0.28996102,  0.64021109, -0.95367926]])"
      ]
     },
     "execution_count": 77,
     "metadata": {},
     "output_type": "execute_result"
    }
   ],
   "source": [
    "np.random.randn(3,4)"
   ]
  },
  {
   "cell_type": "code",
   "execution_count": 78,
   "id": "33c56806-2294-495d-82b4-7bceb8672a28",
   "metadata": {},
   "outputs": [],
   "source": [
    "arr = np.random.randn(3,4)"
   ]
  },
  {
   "cell_type": "code",
   "execution_count": 79,
   "id": "e9ba5e7b-541d-4076-acad-1922c08d0336",
   "metadata": {},
   "outputs": [
    {
     "data": {
      "text/html": [
       "<div>\n",
       "<style scoped>\n",
       "    .dataframe tbody tr th:only-of-type {\n",
       "        vertical-align: middle;\n",
       "    }\n",
       "\n",
       "    .dataframe tbody tr th {\n",
       "        vertical-align: top;\n",
       "    }\n",
       "\n",
       "    .dataframe thead th {\n",
       "        text-align: right;\n",
       "    }\n",
       "</style>\n",
       "<table border=\"1\" class=\"dataframe\">\n",
       "  <thead>\n",
       "    <tr style=\"text-align: right;\">\n",
       "      <th></th>\n",
       "      <th>0</th>\n",
       "      <th>1</th>\n",
       "      <th>2</th>\n",
       "      <th>3</th>\n",
       "    </tr>\n",
       "  </thead>\n",
       "  <tbody>\n",
       "    <tr>\n",
       "      <th>0</th>\n",
       "      <td>0.429364</td>\n",
       "      <td>0.939767</td>\n",
       "      <td>0.303846</td>\n",
       "      <td>-0.091169</td>\n",
       "    </tr>\n",
       "    <tr>\n",
       "      <th>1</th>\n",
       "      <td>-0.164928</td>\n",
       "      <td>-0.465841</td>\n",
       "      <td>-0.627595</td>\n",
       "      <td>-0.271633</td>\n",
       "    </tr>\n",
       "    <tr>\n",
       "      <th>2</th>\n",
       "      <td>0.134161</td>\n",
       "      <td>-0.407692</td>\n",
       "      <td>0.055432</td>\n",
       "      <td>-1.044990</td>\n",
       "    </tr>\n",
       "  </tbody>\n",
       "</table>\n",
       "</div>"
      ],
      "text/plain": [
       "          0         1         2         3\n",
       "0  0.429364  0.939767  0.303846 -0.091169\n",
       "1 -0.164928 -0.465841 -0.627595 -0.271633\n",
       "2  0.134161 -0.407692  0.055432 -1.044990"
      ]
     },
     "execution_count": 79,
     "metadata": {},
     "output_type": "execute_result"
    }
   ],
   "source": [
    "import pandas as pd\n",
    "\n",
    "pd.DataFrame(arr)"
   ]
  },
  {
   "cell_type": "markdown",
   "id": "4942427a-8ad1-44b0-870e-fadbec1568f1",
   "metadata": {},
   "source": [
    "np.random.rand:\n",
    "\n",
    "generates completely random data"
   ]
  },
  {
   "cell_type": "code",
   "execution_count": 80,
   "id": "88c25709-a394-4754-9cbd-2fec79c6445e",
   "metadata": {},
   "outputs": [
    {
     "data": {
      "text/plain": [
       "array([[0.0720102 , 0.8319091 , 0.5093169 , 0.31734637],\n",
       "       [0.12868132, 0.94774333, 0.06457269, 0.08654814],\n",
       "       [0.65635706, 0.61223592, 0.77390757, 0.22027864]])"
      ]
     },
     "execution_count": 80,
     "metadata": {},
     "output_type": "execute_result"
    }
   ],
   "source": [
    "np.random.rand(3,4)"
   ]
  },
  {
   "cell_type": "markdown",
   "id": "5fd1580f-3282-485b-94b4-28a2a51833d9",
   "metadata": {},
   "source": [
    "np.random.randint:\n",
    "\n",
    "generates random integer"
   ]
  },
  {
   "cell_type": "code",
   "execution_count": 81,
   "id": "23927cce-d1c3-421c-95ba-bacde8f57066",
   "metadata": {},
   "outputs": [
    {
     "data": {
      "text/plain": [
       "4"
      ]
     },
     "execution_count": 81,
     "metadata": {},
     "output_type": "execute_result"
    }
   ],
   "source": [
    "np.random.randint(3,5)"
   ]
  },
  {
   "cell_type": "code",
   "execution_count": 82,
   "id": "7739a0ee-b822-46ce-825e-43b83b7f057a",
   "metadata": {},
   "outputs": [
    {
     "data": {
      "text/plain": [
       "4883"
      ]
     },
     "execution_count": 82,
     "metadata": {},
     "output_type": "execute_result"
    }
   ],
   "source": [
    "np.random.randint(34,5666)"
   ]
  },
  {
   "cell_type": "code",
   "execution_count": 87,
   "id": "d29e1f03-516c-424b-8463-e96efb641f7c",
   "metadata": {},
   "outputs": [
    {
     "data": {
      "text/plain": [
       "array([[35, 81, 37, 55],\n",
       "       [96, 57, 45,  6],\n",
       "       [90, 63, 88, 53]])"
      ]
     },
     "execution_count": 87,
     "metadata": {},
     "output_type": "execute_result"
    }
   ],
   "source": [
    "np.random.randint(1,100,(3,4))"
   ]
  },
  {
   "cell_type": "code",
   "execution_count": 89,
   "id": "36cb8089-6fd5-43e7-89b6-6c0ca0243a3b",
   "metadata": {},
   "outputs": [],
   "source": [
    "data=np.random.randint(1,100,(3,4))"
   ]
  },
  {
   "cell_type": "code",
   "execution_count": 90,
   "id": "c1ae1df6-f7c2-4fd3-a378-db20e58f1a07",
   "metadata": {},
   "outputs": [
    {
     "data": {
      "text/html": [
       "<div>\n",
       "<style scoped>\n",
       "    .dataframe tbody tr th:only-of-type {\n",
       "        vertical-align: middle;\n",
       "    }\n",
       "\n",
       "    .dataframe tbody tr th {\n",
       "        vertical-align: top;\n",
       "    }\n",
       "\n",
       "    .dataframe thead th {\n",
       "        text-align: right;\n",
       "    }\n",
       "</style>\n",
       "<table border=\"1\" class=\"dataframe\">\n",
       "  <thead>\n",
       "    <tr style=\"text-align: right;\">\n",
       "      <th></th>\n",
       "      <th>0</th>\n",
       "      <th>1</th>\n",
       "      <th>2</th>\n",
       "      <th>3</th>\n",
       "    </tr>\n",
       "  </thead>\n",
       "  <tbody>\n",
       "    <tr>\n",
       "      <th>0</th>\n",
       "      <td>4</td>\n",
       "      <td>64</td>\n",
       "      <td>88</td>\n",
       "      <td>89</td>\n",
       "    </tr>\n",
       "    <tr>\n",
       "      <th>1</th>\n",
       "      <td>13</td>\n",
       "      <td>44</td>\n",
       "      <td>68</td>\n",
       "      <td>19</td>\n",
       "    </tr>\n",
       "    <tr>\n",
       "      <th>2</th>\n",
       "      <td>54</td>\n",
       "      <td>26</td>\n",
       "      <td>45</td>\n",
       "      <td>81</td>\n",
       "    </tr>\n",
       "  </tbody>\n",
       "</table>\n",
       "</div>"
      ],
      "text/plain": [
       "    0   1   2   3\n",
       "0   4  64  88  89\n",
       "1  13  44  68  19\n",
       "2  54  26  45  81"
      ]
     },
     "execution_count": 90,
     "metadata": {},
     "output_type": "execute_result"
    }
   ],
   "source": [
    "pd.DataFrame(data)"
   ]
  },
  {
   "cell_type": "markdown",
   "id": "9dcbb427-cef7-4e6d-bd4e-495f32e6beb4",
   "metadata": {},
   "source": [
    ".reshape:"
   ]
  },
  {
   "cell_type": "code",
   "execution_count": 92,
   "id": "1c51b2e3-b649-45e9-8744-eed285301500",
   "metadata": {},
   "outputs": [],
   "source": [
    "arr = np.random.rand(3,4)"
   ]
  },
  {
   "cell_type": "code",
   "execution_count": 94,
   "id": "4d115c87-cd1d-4d19-a0f8-3504ab2533eb",
   "metadata": {},
   "outputs": [
    {
     "data": {
      "text/plain": [
       "array([[0.91059694, 0.36011621, 0.93507688, 0.63769407],\n",
       "       [0.57580237, 0.7626059 , 0.51376558, 0.94714948],\n",
       "       [0.70196865, 0.22300105, 0.5560007 , 0.0937329 ]])"
      ]
     },
     "execution_count": 94,
     "metadata": {},
     "output_type": "execute_result"
    }
   ],
   "source": [
    "arr"
   ]
  },
  {
   "cell_type": "code",
   "execution_count": 93,
   "id": "378e77c0-b8da-4d42-bcfa-8b4916f8b8a8",
   "metadata": {},
   "outputs": [
    {
     "data": {
      "text/plain": [
       "array([[0.91059694, 0.36011621],\n",
       "       [0.93507688, 0.63769407],\n",
       "       [0.57580237, 0.7626059 ],\n",
       "       [0.51376558, 0.94714948],\n",
       "       [0.70196865, 0.22300105],\n",
       "       [0.5560007 , 0.0937329 ]])"
      ]
     },
     "execution_count": 93,
     "metadata": {},
     "output_type": "execute_result"
    }
   ],
   "source": [
    "arr.reshape(6,2)"
   ]
  },
  {
   "cell_type": "code",
   "execution_count": 95,
   "id": "313b4cd4-2488-401f-a80d-e4b1d38cffae",
   "metadata": {},
   "outputs": [
    {
     "ename": "ValueError",
     "evalue": "cannot reshape array of size 12 into shape (6,3)",
     "output_type": "error",
     "traceback": [
      "\u001b[0;31m---------------------------------------------------------------------------\u001b[0m",
      "\u001b[0;31mValueError\u001b[0m                                Traceback (most recent call last)",
      "Cell \u001b[0;32mIn[95], line 1\u001b[0m\n\u001b[0;32m----> 1\u001b[0m \u001b[43marr\u001b[49m\u001b[38;5;241;43m.\u001b[39;49m\u001b[43mreshape\u001b[49m\u001b[43m(\u001b[49m\u001b[38;5;241;43m6\u001b[39;49m\u001b[43m,\u001b[49m\u001b[38;5;241;43m3\u001b[39;49m\u001b[43m)\u001b[49m\n",
      "\u001b[0;31mValueError\u001b[0m: cannot reshape array of size 12 into shape (6,3)"
     ]
    }
   ],
   "source": [
    "arr.reshape(6,3)"
   ]
  },
  {
   "cell_type": "code",
   "execution_count": 96,
   "id": "c53ec277-21b9-4340-927b-f7b7130ad8e8",
   "metadata": {},
   "outputs": [
    {
     "data": {
      "text/plain": [
       "array([[0.91059694, 0.36011621],\n",
       "       [0.93507688, 0.63769407],\n",
       "       [0.57580237, 0.7626059 ],\n",
       "       [0.51376558, 0.94714948],\n",
       "       [0.70196865, 0.22300105],\n",
       "       [0.5560007 , 0.0937329 ]])"
      ]
     },
     "execution_count": 96,
     "metadata": {},
     "output_type": "execute_result"
    }
   ],
   "source": [
    "#if we know the number of rows but want the program to chose the number of cols\n",
    "arr.reshape(6,-1)"
   ]
  },
  {
   "cell_type": "markdown",
   "id": "849ae458-c3d6-464a-9ddd-f628c8c9f62d",
   "metadata": {},
   "source": [
    "### slicing/indexing:"
   ]
  },
  {
   "cell_type": "code",
   "execution_count": 97,
   "id": "a2082499-86c7-44f4-81b0-eaa6bc91b810",
   "metadata": {},
   "outputs": [],
   "source": [
    "arr1 = arr.reshape(6,-1)"
   ]
  },
  {
   "cell_type": "code",
   "execution_count": 98,
   "id": "eb5442eb-79a6-4986-b08e-7ed9f0fc2a6d",
   "metadata": {},
   "outputs": [
    {
     "data": {
      "text/plain": [
       "array([[0.91059694, 0.36011621],\n",
       "       [0.93507688, 0.63769407],\n",
       "       [0.57580237, 0.7626059 ],\n",
       "       [0.51376558, 0.94714948],\n",
       "       [0.70196865, 0.22300105],\n",
       "       [0.5560007 , 0.0937329 ]])"
      ]
     },
     "execution_count": 98,
     "metadata": {},
     "output_type": "execute_result"
    }
   ],
   "source": [
    "arr1"
   ]
  },
  {
   "cell_type": "code",
   "execution_count": 99,
   "id": "d344e3e7-93dc-4b97-a9e7-3b1bff80a624",
   "metadata": {},
   "outputs": [
    {
     "data": {
      "text/plain": [
       "array([0.93507688, 0.63769407])"
      ]
     },
     "execution_count": 99,
     "metadata": {},
     "output_type": "execute_result"
    }
   ],
   "source": [
    "arr1[1]"
   ]
  },
  {
   "cell_type": "code",
   "execution_count": 100,
   "id": "98b55736-0d0c-42f5-bf9d-8931dcbd76e9",
   "metadata": {},
   "outputs": [
    {
     "data": {
      "text/plain": [
       "0.6376940736652432"
      ]
     },
     "execution_count": 100,
     "metadata": {},
     "output_type": "execute_result"
    }
   ],
   "source": [
    "arr1[1][1]"
   ]
  },
  {
   "cell_type": "code",
   "execution_count": 106,
   "id": "acc37371-8dda-4893-a6e4-ad3fb7c5bc20",
   "metadata": {},
   "outputs": [
    {
     "data": {
      "text/plain": [
       "array([0.7626059 , 0.94714948, 0.22300105])"
      ]
     },
     "execution_count": 106,
     "metadata": {},
     "output_type": "execute_result"
    }
   ],
   "source": [
    "arr1[2:5,1]"
   ]
  },
  {
   "cell_type": "code",
   "execution_count": 116,
   "id": "bcc29c08-7078-4f9b-bd3e-f3d24cda7f10",
   "metadata": {},
   "outputs": [],
   "source": [
    "arr = np.random.randint(1,100,(5,5))"
   ]
  },
  {
   "cell_type": "code",
   "execution_count": 117,
   "id": "9e8f6ec5-3aa8-48ee-bf04-812eaa419494",
   "metadata": {},
   "outputs": [
    {
     "data": {
      "text/plain": [
       "array([[22, 72, 21, 52, 94],\n",
       "       [42, 76, 39, 71, 29],\n",
       "       [ 1,  6, 53, 52, 14],\n",
       "       [32, 51, 21, 48, 83],\n",
       "       [83, 74, 78, 25,  5]])"
      ]
     },
     "execution_count": 117,
     "metadata": {},
     "output_type": "execute_result"
    }
   ],
   "source": [
    "arr"
   ]
  },
  {
   "cell_type": "code",
   "execution_count": 118,
   "id": "44202807-ba6b-4f0c-8acd-5a7e8e935ae5",
   "metadata": {},
   "outputs": [
    {
     "data": {
      "text/plain": [
       "array([[False,  True, False,  True,  True],\n",
       "       [False,  True, False,  True, False],\n",
       "       [False, False,  True,  True, False],\n",
       "       [False,  True, False, False,  True],\n",
       "       [ True,  True,  True, False, False]])"
      ]
     },
     "execution_count": 118,
     "metadata": {},
     "output_type": "execute_result"
    }
   ],
   "source": [
    "# Extract elements that are greater than 50\n",
    "arr>50"
   ]
  },
  {
   "cell_type": "code",
   "execution_count": 119,
   "id": "a6ff7ddd-5bb1-4ab0-a6de-5e1d8c645ccf",
   "metadata": {},
   "outputs": [
    {
     "data": {
      "text/plain": [
       "array([72, 52, 94, 76, 71, 53, 52, 51, 83, 83, 74, 78])"
      ]
     },
     "execution_count": 119,
     "metadata": {},
     "output_type": "execute_result"
    }
   ],
   "source": [
    "arr[arr>50]"
   ]
  },
  {
   "cell_type": "code",
   "execution_count": 122,
   "id": "8949131e-361b-4dcf-8b6e-5dedfd169894",
   "metadata": {},
   "outputs": [
    {
     "data": {
      "text/plain": [
       "array([[ 6, 53],\n",
       "       [51, 21]])"
      ]
     },
     "execution_count": 122,
     "metadata": {},
     "output_type": "execute_result"
    }
   ],
   "source": [
    "arr[2:4,1:3]"
   ]
  },
  {
   "cell_type": "code",
   "execution_count": 125,
   "id": "2b4364d3-9892-44b7-8c98-48a46a7d7424",
   "metadata": {},
   "outputs": [
    {
     "data": {
      "text/plain": [
       "array([[ 6, 53],\n",
       "       [51, 21]])"
      ]
     },
     "execution_count": 125,
     "metadata": {},
     "output_type": "execute_result"
    }
   ],
   "source": [
    "arr[2:4,[1,2]]"
   ]
  },
  {
   "cell_type": "code",
   "execution_count": 126,
   "id": "8366afc7-2b1b-403c-81b1-72ef6b5da71f",
   "metadata": {},
   "outputs": [
    {
     "data": {
      "text/plain": [
       "22"
      ]
     },
     "execution_count": 126,
     "metadata": {},
     "output_type": "execute_result"
    }
   ],
   "source": [
    "arr[0][0]"
   ]
  },
  {
   "cell_type": "code",
   "execution_count": 127,
   "id": "b7138c5a-19ea-42db-b46d-65bb7c780c14",
   "metadata": {},
   "outputs": [],
   "source": [
    "arr[0][0]=5000"
   ]
  },
  {
   "cell_type": "code",
   "execution_count": 128,
   "id": "fe298434-64c3-43a6-b132-88e1d1680826",
   "metadata": {},
   "outputs": [
    {
     "data": {
      "text/plain": [
       "array([[5000,   72,   21,   52,   94],\n",
       "       [  42,   76,   39,   71,   29],\n",
       "       [   1,    6,   53,   52,   14],\n",
       "       [  32,   51,   21,   48,   83],\n",
       "       [  83,   74,   78,   25,    5]])"
      ]
     },
     "execution_count": 128,
     "metadata": {},
     "output_type": "execute_result"
    }
   ],
   "source": [
    "arr"
   ]
  },
  {
   "cell_type": "markdown",
   "id": "521ab047-06b7-4f7d-bf55-ad39efdae9bc",
   "metadata": {},
   "source": [
    "### more functions"
   ]
  },
  {
   "cell_type": "code",
   "execution_count": 129,
   "id": "f3e15bc6-c8d5-405b-858e-cc6bb9c2baa1",
   "metadata": {},
   "outputs": [],
   "source": [
    "arr1 = np.random.randint(1,3,(3,3))\n",
    "arr2 = np.random.randint(1,3,(3,3))"
   ]
  },
  {
   "cell_type": "code",
   "execution_count": 130,
   "id": "30424d72-5552-4109-bc22-8674eb3e6fe5",
   "metadata": {},
   "outputs": [
    {
     "data": {
      "text/plain": [
       "array([[1, 2, 1],\n",
       "       [2, 1, 2],\n",
       "       [2, 1, 1]])"
      ]
     },
     "execution_count": 130,
     "metadata": {},
     "output_type": "execute_result"
    }
   ],
   "source": [
    "arr1"
   ]
  },
  {
   "cell_type": "code",
   "execution_count": 131,
   "id": "7d72f128-0913-4c31-97b0-9793ffe01630",
   "metadata": {},
   "outputs": [
    {
     "data": {
      "text/plain": [
       "array([[1, 2, 1],\n",
       "       [2, 2, 1],\n",
       "       [1, 1, 1]])"
      ]
     },
     "execution_count": 131,
     "metadata": {},
     "output_type": "execute_result"
    }
   ],
   "source": [
    "arr2"
   ]
  },
  {
   "cell_type": "code",
   "execution_count": 132,
   "id": "b1e533db-0654-4efb-af92-ee33946758f8",
   "metadata": {},
   "outputs": [
    {
     "data": {
      "text/plain": [
       "array([[2, 4, 2],\n",
       "       [4, 3, 3],\n",
       "       [3, 2, 2]])"
      ]
     },
     "execution_count": 132,
     "metadata": {},
     "output_type": "execute_result"
    }
   ],
   "source": [
    "arr1+arr2"
   ]
  },
  {
   "cell_type": "code",
   "execution_count": 133,
   "id": "c4fdd4db-9406-4849-96b7-852e12d399dc",
   "metadata": {},
   "outputs": [
    {
     "data": {
      "text/plain": [
       "array([[ 0,  0,  0],\n",
       "       [ 0, -1,  1],\n",
       "       [ 1,  0,  0]])"
      ]
     },
     "execution_count": 133,
     "metadata": {},
     "output_type": "execute_result"
    }
   ],
   "source": [
    "arr1-arr2"
   ]
  },
  {
   "cell_type": "code",
   "execution_count": 134,
   "id": "c69bc691-b41b-47b1-8960-937d4af842df",
   "metadata": {},
   "outputs": [
    {
     "data": {
      "text/plain": [
       "array([[1, 4, 1],\n",
       "       [4, 2, 2],\n",
       "       [2, 1, 1]])"
      ]
     },
     "execution_count": 134,
     "metadata": {},
     "output_type": "execute_result"
    }
   ],
   "source": [
    "arr1*arr2"
   ]
  },
  {
   "cell_type": "markdown",
   "id": "7d38d321-d997-4539-9b30-4c3ebb083a3d",
   "metadata": {},
   "source": [
    "### matrix multiplication"
   ]
  },
  {
   "cell_type": "code",
   "execution_count": 135,
   "id": "4a90f889-91d6-4b39-a2e6-59362b02f258",
   "metadata": {},
   "outputs": [
    {
     "data": {
      "text/plain": [
       "array([[1, 2, 1],\n",
       "       [2, 1, 2],\n",
       "       [2, 1, 1]])"
      ]
     },
     "execution_count": 135,
     "metadata": {},
     "output_type": "execute_result"
    }
   ],
   "source": [
    "arr1"
   ]
  },
  {
   "cell_type": "code",
   "execution_count": 136,
   "id": "70150bd5-a290-422f-b77b-3ab6ea7aea7a",
   "metadata": {},
   "outputs": [
    {
     "data": {
      "text/plain": [
       "array([[1, 2, 1],\n",
       "       [2, 2, 1],\n",
       "       [1, 1, 1]])"
      ]
     },
     "execution_count": 136,
     "metadata": {},
     "output_type": "execute_result"
    }
   ],
   "source": [
    "arr2"
   ]
  },
  {
   "cell_type": "code",
   "execution_count": 137,
   "id": "66a2bec7-6ffa-4f73-b539-3e7676faaec0",
   "metadata": {},
   "outputs": [
    {
     "data": {
      "text/plain": [
       "array([[6, 7, 4],\n",
       "       [6, 8, 5],\n",
       "       [5, 7, 4]])"
      ]
     },
     "execution_count": 137,
     "metadata": {},
     "output_type": "execute_result"
    }
   ],
   "source": [
    "  arr1@arr2"
   ]
  },
  {
   "cell_type": "code",
   "execution_count": 138,
   "id": "791c225f-8ce2-42c6-bfa0-3426acbae2b2",
   "metadata": {},
   "outputs": [
    {
     "name": "stderr",
     "output_type": "stream",
     "text": [
      "/tmp/ipykernel_152/1510032488.py:1: RuntimeWarning: divide by zero encountered in divide\n",
      "  arr1/0\n"
     ]
    },
    {
     "data": {
      "text/plain": [
       "array([[inf, inf, inf],\n",
       "       [inf, inf, inf],\n",
       "       [inf, inf, inf]])"
      ]
     },
     "execution_count": 138,
     "metadata": {},
     "output_type": "execute_result"
    }
   ],
   "source": [
    "arr1/0"
   ]
  },
  {
   "cell_type": "code",
   "execution_count": 139,
   "id": "498e0918-4dac-4da5-ae8a-ab5e0e796917",
   "metadata": {},
   "outputs": [
    {
     "data": {
      "text/plain": [
       "array([[101, 102, 101],\n",
       "       [102, 101, 102],\n",
       "       [102, 101, 101]])"
      ]
     },
     "execution_count": 139,
     "metadata": {},
     "output_type": "execute_result"
    }
   ],
   "source": [
    "arr1+100"
   ]
  },
  {
   "cell_type": "code",
   "execution_count": 142,
   "id": "17ae0bc2-744d-4c48-9ba1-fdf8bc8bb89c",
   "metadata": {},
   "outputs": [
    {
     "data": {
      "text/plain": [
       "array([[1, 4, 1],\n",
       "       [4, 1, 4],\n",
       "       [4, 1, 1]])"
      ]
     },
     "execution_count": 142,
     "metadata": {},
     "output_type": "execute_result"
    }
   ],
   "source": [
    "arr1**2"
   ]
  },
  {
   "cell_type": "markdown",
   "id": "9ec475af-ad15-4672-a54d-c678987ceb0d",
   "metadata": {},
   "source": [
    "### numpy broadcasting"
   ]
  },
  {
   "cell_type": "code",
   "execution_count": 143,
   "id": "75036468-13b1-40f1-b5e5-475900eae725",
   "metadata": {},
   "outputs": [],
   "source": [
    "arr = np.zeros((4,4))"
   ]
  },
  {
   "cell_type": "code",
   "execution_count": 144,
   "id": "bc5bbaee-47b0-4d4d-a579-c2156d2ccbba",
   "metadata": {},
   "outputs": [
    {
     "data": {
      "text/plain": [
       "array([[0., 0., 0., 0.],\n",
       "       [0., 0., 0., 0.],\n",
       "       [0., 0., 0., 0.],\n",
       "       [0., 0., 0., 0.]])"
      ]
     },
     "execution_count": 144,
     "metadata": {},
     "output_type": "execute_result"
    }
   ],
   "source": [
    "arr"
   ]
  },
  {
   "cell_type": "code",
   "execution_count": 146,
   "id": "e2aea640-16a4-475d-8656-238dbd17c2e4",
   "metadata": {},
   "outputs": [],
   "source": [
    "row = np.array([1,2,3,4])"
   ]
  },
  {
   "cell_type": "code",
   "execution_count": 147,
   "id": "af0c08b5-d732-4bb8-9d41-cbd31a8355f0",
   "metadata": {},
   "outputs": [
    {
     "data": {
      "text/plain": [
       "array([1, 2, 3, 4])"
      ]
     },
     "execution_count": 147,
     "metadata": {},
     "output_type": "execute_result"
    }
   ],
   "source": [
    "row"
   ]
  },
  {
   "cell_type": "code",
   "execution_count": 148,
   "id": "a06afe20-fb23-49cf-9930-dc465be14d00",
   "metadata": {},
   "outputs": [
    {
     "data": {
      "text/plain": [
       "array([[1., 2., 3., 4.],\n",
       "       [1., 2., 3., 4.],\n",
       "       [1., 2., 3., 4.],\n",
       "       [1., 2., 3., 4.]])"
      ]
     },
     "execution_count": 148,
     "metadata": {},
     "output_type": "execute_result"
    }
   ],
   "source": [
    "arr+row"
   ]
  },
  {
   "cell_type": "code",
   "execution_count": 150,
   "id": "59cdb26a-aa77-4330-87ab-2e9902c1f6e2",
   "metadata": {},
   "outputs": [
    {
     "data": {
      "text/plain": [
       "(4,)"
      ]
     },
     "execution_count": 150,
     "metadata": {},
     "output_type": "execute_result"
    }
   ],
   "source": [
    "row.shape"
   ]
  },
  {
   "cell_type": "code",
   "execution_count": 153,
   "id": "9ad35deb-df2e-4380-932c-c3de4b18312e",
   "metadata": {},
   "outputs": [],
   "source": [
    "col = np.array([[1,2,3,4]])"
   ]
  },
  {
   "cell_type": "code",
   "execution_count": 154,
   "id": "367729dd-395a-4bae-bbb3-a95edd741676",
   "metadata": {},
   "outputs": [
    {
     "data": {
      "text/plain": [
       "array([[1, 2, 3, 4]])"
      ]
     },
     "execution_count": 154,
     "metadata": {},
     "output_type": "execute_result"
    }
   ],
   "source": [
    "col"
   ]
  },
  {
   "cell_type": "code",
   "execution_count": 155,
   "id": "86a1d6b9-c523-489d-a023-f679fc5278a2",
   "metadata": {},
   "outputs": [
    {
     "data": {
      "text/plain": [
       "array([[1],\n",
       "       [2],\n",
       "       [3],\n",
       "       [4]])"
      ]
     },
     "execution_count": 155,
     "metadata": {},
     "output_type": "execute_result"
    }
   ],
   "source": [
    "col.transpose()"
   ]
  },
  {
   "cell_type": "code",
   "execution_count": 156,
   "id": "467d2fa8-ca94-417a-8fbf-9ee869d9935d",
   "metadata": {},
   "outputs": [
    {
     "data": {
      "text/plain": [
       "array([[1],\n",
       "       [2],\n",
       "       [3],\n",
       "       [4]])"
      ]
     },
     "execution_count": 156,
     "metadata": {},
     "output_type": "execute_result"
    }
   ],
   "source": [
    "col.T"
   ]
  },
  {
   "cell_type": "code",
   "execution_count": 157,
   "id": "adc92732-50fa-4e7c-9973-8384334414cd",
   "metadata": {},
   "outputs": [
    {
     "data": {
      "text/plain": [
       "array([[1., 1., 1., 1.],\n",
       "       [2., 2., 2., 2.],\n",
       "       [3., 3., 3., 3.],\n",
       "       [4., 4., 4., 4.]])"
      ]
     },
     "execution_count": 157,
     "metadata": {},
     "output_type": "execute_result"
    }
   ],
   "source": [
    "col.T+arr"
   ]
  },
  {
   "cell_type": "code",
   "execution_count": 160,
   "id": "b90fed08-9fbd-44f7-aca9-67976e5a0c15",
   "metadata": {},
   "outputs": [],
   "source": [
    "arr1 = np.random.randint(1,4,(3,4))"
   ]
  },
  {
   "cell_type": "code",
   "execution_count": 161,
   "id": "786d03b0-06d2-4388-b41b-4f611f101c83",
   "metadata": {},
   "outputs": [
    {
     "data": {
      "text/plain": [
       "array([[3, 2, 1, 3],\n",
       "       [3, 3, 2, 1],\n",
       "       [1, 3, 2, 1]])"
      ]
     },
     "execution_count": 161,
     "metadata": {},
     "output_type": "execute_result"
    }
   ],
   "source": [
    "arr1"
   ]
  },
  {
   "cell_type": "code",
   "execution_count": 162,
   "id": "aefa9810-ad07-4907-b3c6-e518253c1c47",
   "metadata": {},
   "outputs": [
    {
     "data": {
      "text/plain": [
       "array([[20.08553692,  7.3890561 ,  2.71828183, 20.08553692],\n",
       "       [20.08553692, 20.08553692,  7.3890561 ,  2.71828183],\n",
       "       [ 2.71828183, 20.08553692,  7.3890561 ,  2.71828183]])"
      ]
     },
     "execution_count": 162,
     "metadata": {},
     "output_type": "execute_result"
    }
   ],
   "source": [
    "np.exp(arr1)"
   ]
  },
  {
   "cell_type": "code",
   "execution_count": 163,
   "id": "bc5bdc08-d500-4894-bc83-463c21b9b596",
   "metadata": {},
   "outputs": [
    {
     "data": {
      "text/plain": [
       "array([[0.47712125, 0.30103   , 0.        , 0.47712125],\n",
       "       [0.47712125, 0.47712125, 0.30103   , 0.        ],\n",
       "       [0.        , 0.47712125, 0.30103   , 0.        ]])"
      ]
     },
     "execution_count": 163,
     "metadata": {},
     "output_type": "execute_result"
    }
   ],
   "source": [
    "np.log10(arr1)"
   ]
  },
  {
   "cell_type": "markdown",
   "id": "e38af578-132b-4682-8bd8-dd4b518b0495",
   "metadata": {},
   "source": [
    "# More Numpy"
   ]
  },
  {
   "cell_type": "markdown",
   "id": "1132ed67-8757-4821-898b-4ecffa16cca9",
   "metadata": {},
   "source": []
  },
  {
   "cell_type": "code",
   "execution_count": 167,
   "id": "9454d99e-8fef-4d9e-ab5c-8c2e0877f0cc",
   "metadata": {},
   "outputs": [],
   "source": [
    "arr = np.random.randint(1,10,(3,4))"
   ]
  },
  {
   "cell_type": "code",
   "execution_count": 168,
   "id": "717acb32-59b6-4f94-a0ca-20d4998c6e52",
   "metadata": {},
   "outputs": [
    {
     "data": {
      "text/plain": [
       "array([[4, 2, 6, 3],\n",
       "       [4, 9, 9, 7],\n",
       "       [5, 2, 9, 2]])"
      ]
     },
     "execution_count": 168,
     "metadata": {},
     "output_type": "execute_result"
    }
   ],
   "source": [
    "arr"
   ]
  },
  {
   "cell_type": "code",
   "execution_count": 169,
   "id": "90682a29-1c47-4874-ac9d-5166fb3f8372",
   "metadata": {},
   "outputs": [
    {
     "data": {
      "text/plain": [
       "array([[4, 2],\n",
       "       [6, 3],\n",
       "       [4, 9],\n",
       "       [9, 7],\n",
       "       [5, 2],\n",
       "       [9, 2]])"
      ]
     },
     "execution_count": 169,
     "metadata": {},
     "output_type": "execute_result"
    }
   ],
   "source": [
    "arr.reshape(6,2)"
   ]
  },
  {
   "cell_type": "code",
   "execution_count": 170,
   "id": "bf25c1be-a522-4754-9d82-b81e160afa38",
   "metadata": {},
   "outputs": [
    {
     "data": {
      "text/plain": [
       "array([[4, 2, 6, 3, 4, 9],\n",
       "       [9, 7, 5, 2, 9, 2]])"
      ]
     },
     "execution_count": 170,
     "metadata": {},
     "output_type": "execute_result"
    }
   ],
   "source": [
    "arr.reshape(2,6)"
   ]
  },
  {
   "cell_type": "code",
   "execution_count": 171,
   "id": "1eac2850-2a43-4b1b-ba6d-21ae3f5df1be",
   "metadata": {},
   "outputs": [
    {
     "data": {
      "text/plain": [
       "array([[4, 2, 6, 3],\n",
       "       [4, 9, 9, 7],\n",
       "       [5, 2, 9, 2]])"
      ]
     },
     "execution_count": 171,
     "metadata": {},
     "output_type": "execute_result"
    }
   ],
   "source": [
    "arr.reshape(3,-134)"
   ]
  },
  {
   "cell_type": "code",
   "execution_count": 172,
   "id": "f94e0752-211f-48a4-bbd8-faf06c170c3f",
   "metadata": {},
   "outputs": [
    {
     "data": {
      "text/plain": [
       "array([[4, 4, 5],\n",
       "       [2, 9, 2],\n",
       "       [6, 9, 9],\n",
       "       [3, 7, 2]])"
      ]
     },
     "execution_count": 172,
     "metadata": {},
     "output_type": "execute_result"
    }
   ],
   "source": [
    "arr.T"
   ]
  },
  {
   "cell_type": "code",
   "execution_count": 173,
   "id": "8104fc78-2bd0-4b25-bc84-c63d20d80a75",
   "metadata": {},
   "outputs": [
    {
     "data": {
      "text/plain": [
       "array([4, 2, 6, 3, 4, 9, 9, 7, 5, 2, 9, 2])"
      ]
     },
     "execution_count": 173,
     "metadata": {},
     "output_type": "execute_result"
    }
   ],
   "source": [
    "arr.flatten()"
   ]
  },
  {
   "cell_type": "code",
   "execution_count": 205,
   "id": "b0b9512b-a19b-4334-a6d3-73b5636b0ffb",
   "metadata": {},
   "outputs": [],
   "source": [
    "arr1 = np.array([1,2,3,4])"
   ]
  },
  {
   "cell_type": "code",
   "execution_count": 188,
   "id": "2226dddc-71b8-4221-b568-f69d2e45fc41",
   "metadata": {},
   "outputs": [
    {
     "data": {
      "text/plain": [
       "1"
      ]
     },
     "execution_count": 188,
     "metadata": {},
     "output_type": "execute_result"
    }
   ],
   "source": [
    "arr1.ndim"
   ]
  },
  {
   "cell_type": "code",
   "execution_count": 189,
   "id": "399b5324-607d-463d-b7f2-3bbed0f8c615",
   "metadata": {},
   "outputs": [
    {
     "data": {
      "text/plain": [
       "array([[1],\n",
       "       [2],\n",
       "       [3],\n",
       "       [4]])"
      ]
     },
     "execution_count": 189,
     "metadata": {},
     "output_type": "execute_result"
    }
   ],
   "source": [
    "np.expand_dims(arr1, axis=1) #expannd dimension on columns"
   ]
  },
  {
   "cell_type": "code",
   "execution_count": 190,
   "id": "fdaf6245-05b2-49e7-9bc4-c00dba8a5e6b",
   "metadata": {},
   "outputs": [
    {
     "data": {
      "text/plain": [
       "array([[1, 2, 3, 4]])"
      ]
     },
     "execution_count": 190,
     "metadata": {},
     "output_type": "execute_result"
    }
   ],
   "source": [
    "np.expand_dims(arr1, axis=0) #expand dimension on row"
   ]
  },
  {
   "cell_type": "code",
   "execution_count": 193,
   "id": "45f84bc8-53cb-4f1f-a30b-16670c72593f",
   "metadata": {},
   "outputs": [],
   "source": [
    "data = np.array([[1],[2],[3]])"
   ]
  },
  {
   "cell_type": "code",
   "execution_count": 194,
   "id": "c9c549b8-2b75-4967-baec-5f859606cb60",
   "metadata": {},
   "outputs": [
    {
     "data": {
      "text/plain": [
       "array([[1],\n",
       "       [2],\n",
       "       [3]])"
      ]
     },
     "execution_count": 194,
     "metadata": {},
     "output_type": "execute_result"
    }
   ],
   "source": [
    "data"
   ]
  },
  {
   "cell_type": "code",
   "execution_count": 196,
   "id": "826d9e1e-c002-4cd2-a2d9-860890ee4998",
   "metadata": {},
   "outputs": [
    {
     "data": {
      "text/plain": [
       "2"
      ]
     },
     "execution_count": 196,
     "metadata": {},
     "output_type": "execute_result"
    }
   ],
   "source": [
    "data.ndim"
   ]
  },
  {
   "cell_type": "code",
   "execution_count": 195,
   "id": "17713e42-e185-465d-9615-8a8be212e218",
   "metadata": {},
   "outputs": [
    {
     "data": {
      "text/plain": [
       "array([1, 2, 3])"
      ]
     },
     "execution_count": 195,
     "metadata": {},
     "output_type": "execute_result"
    }
   ],
   "source": [
    "np.squeeze(data) #squeeze dimensions"
   ]
  },
  {
   "cell_type": "code",
   "execution_count": 198,
   "id": "2b6afc0e-6fa8-4c84-8eab-c30c8d20534d",
   "metadata": {},
   "outputs": [
    {
     "data": {
      "text/plain": [
       "1"
      ]
     },
     "execution_count": 198,
     "metadata": {},
     "output_type": "execute_result"
    }
   ],
   "source": [
    "(np.squeeze(data)).ndim"
   ]
  },
  {
   "cell_type": "code",
   "execution_count": 199,
   "id": "615399fe-72ea-4488-b7d6-d8f5831451d5",
   "metadata": {},
   "outputs": [
    {
     "data": {
      "text/plain": [
       "array([1, 2, 3, 4])"
      ]
     },
     "execution_count": 199,
     "metadata": {},
     "output_type": "execute_result"
    }
   ],
   "source": [
    "arr1"
   ]
  },
  {
   "cell_type": "code",
   "execution_count": 200,
   "id": "107de207-8bcc-4f67-bd5c-92ccf45a5606",
   "metadata": {},
   "outputs": [
    {
     "data": {
      "text/plain": [
       "array([1, 1, 1, 2, 2, 2, 3, 3, 3, 4, 4, 4])"
      ]
     },
     "execution_count": 200,
     "metadata": {},
     "output_type": "execute_result"
    }
   ],
   "source": [
    "np.repeat(arr1,3)"
   ]
  },
  {
   "cell_type": "code",
   "execution_count": 201,
   "id": "de8646e6-42ae-4395-a84e-6a761d000bc9",
   "metadata": {},
   "outputs": [
    {
     "data": {
      "text/plain": [
       "array([3, 4, 1, 2])"
      ]
     },
     "execution_count": 201,
     "metadata": {},
     "output_type": "execute_result"
    }
   ],
   "source": [
    "np.roll(arr1,2)"
   ]
  },
  {
   "cell_type": "code",
   "execution_count": 202,
   "id": "60d7256d-a78c-4d64-9aa6-96d9e36977b4",
   "metadata": {},
   "outputs": [
    {
     "data": {
      "text/plain": [
       "array([[1, 0, 0, 0],\n",
       "       [0, 2, 0, 0],\n",
       "       [0, 0, 3, 0],\n",
       "       [0, 0, 0, 4]])"
      ]
     },
     "execution_count": 202,
     "metadata": {},
     "output_type": "execute_result"
    }
   ],
   "source": [
    "np.diag(arr1)"
   ]
  },
  {
   "cell_type": "markdown",
   "id": "5c6d6476-a3a4-4230-90df-f15d1acfe5d4",
   "metadata": {},
   "source": [
    "### binary operations"
   ]
  },
  {
   "cell_type": "code",
   "execution_count": 210,
   "id": "b6b6cbad-7547-450b-9f01-f5fe51762404",
   "metadata": {},
   "outputs": [],
   "source": [
    "arr1 = np.random.randint(1,10,(3,4))"
   ]
  },
  {
   "cell_type": "code",
   "execution_count": 209,
   "id": "edde5e66-7247-44d2-b7b5-f833200bb5cc",
   "metadata": {},
   "outputs": [],
   "source": [
    "arr2 = np.random.randint(1,10,(3,4))"
   ]
  },
  {
   "cell_type": "code",
   "execution_count": 211,
   "id": "37d1039e-12e8-4909-aae0-57943b659f33",
   "metadata": {},
   "outputs": [
    {
     "data": {
      "text/plain": [
       "array([[3, 4, 4, 9],\n",
       "       [6, 4, 3, 3],\n",
       "       [5, 3, 5, 8]])"
      ]
     },
     "execution_count": 211,
     "metadata": {},
     "output_type": "execute_result"
    }
   ],
   "source": [
    "arr1"
   ]
  },
  {
   "cell_type": "code",
   "execution_count": 212,
   "id": "da2274e5-dcd1-4b6c-998e-ca0118ba2c6b",
   "metadata": {},
   "outputs": [
    {
     "data": {
      "text/plain": [
       "array([[5, 6, 9, 1],\n",
       "       [9, 7, 5, 2],\n",
       "       [3, 8, 4, 9]])"
      ]
     },
     "execution_count": 212,
     "metadata": {},
     "output_type": "execute_result"
    }
   ],
   "source": [
    "arr2"
   ]
  },
  {
   "cell_type": "code",
   "execution_count": 213,
   "id": "877d6c02-c207-406d-ab0c-6386c460b438",
   "metadata": {},
   "outputs": [
    {
     "data": {
      "text/plain": [
       "array([[ 8, 10, 13, 10],\n",
       "       [15, 11,  8,  5],\n",
       "       [ 8, 11,  9, 17]])"
      ]
     },
     "execution_count": 213,
     "metadata": {},
     "output_type": "execute_result"
    }
   ],
   "source": [
    "arr1+arr2"
   ]
  },
  {
   "cell_type": "code",
   "execution_count": 214,
   "id": "3d7765c5-f5ea-4c5a-894d-689373085751",
   "metadata": {},
   "outputs": [
    {
     "data": {
      "text/plain": [
       "array([[15, 24, 36,  9],\n",
       "       [54, 28, 15,  6],\n",
       "       [15, 24, 20, 72]])"
      ]
     },
     "execution_count": 214,
     "metadata": {},
     "output_type": "execute_result"
    }
   ],
   "source": [
    "arr1*arr2"
   ]
  },
  {
   "cell_type": "code",
   "execution_count": 215,
   "id": "34e181da-bb5b-4cce-8c83-f821ca0d6fbb",
   "metadata": {},
   "outputs": [
    {
     "data": {
      "text/plain": [
       "array([[0.6       , 0.66666667, 0.44444444, 9.        ],\n",
       "       [0.66666667, 0.57142857, 0.6       , 1.5       ],\n",
       "       [1.66666667, 0.375     , 1.25      , 0.88888889]])"
      ]
     },
     "execution_count": 215,
     "metadata": {},
     "output_type": "execute_result"
    }
   ],
   "source": [
    "arr1/arr2"
   ]
  },
  {
   "cell_type": "code",
   "execution_count": 216,
   "id": "3e719033-4db0-420a-95a0-fff3b501da01",
   "metadata": {},
   "outputs": [
    {
     "data": {
      "text/plain": [
       "array([[-2, -2, -5,  8],\n",
       "       [-3, -3, -2,  1],\n",
       "       [ 2, -5,  1, -1]])"
      ]
     },
     "execution_count": 216,
     "metadata": {},
     "output_type": "execute_result"
    }
   ],
   "source": [
    "arr1-arr2"
   ]
  },
  {
   "cell_type": "code",
   "execution_count": 217,
   "id": "f975c596-c8aa-4e60-b7fd-300e5c92c7cf",
   "metadata": {},
   "outputs": [
    {
     "data": {
      "text/plain": [
       "array([[3, 4, 4, 0],\n",
       "       [6, 4, 3, 1],\n",
       "       [2, 3, 1, 8]])"
      ]
     },
     "execution_count": 217,
     "metadata": {},
     "output_type": "execute_result"
    }
   ],
   "source": [
    "arr1%arr2"
   ]
  },
  {
   "cell_type": "code",
   "execution_count": 218,
   "id": "1216e832-51cd-4e5e-8de7-38fc88e2e614",
   "metadata": {},
   "outputs": [
    {
     "data": {
      "text/plain": [
       "array([[      243,      4096,    262144,         9],\n",
       "       [ 10077696,     16384,       243,         9],\n",
       "       [      125,      6561,       625, 134217728]])"
      ]
     },
     "execution_count": 218,
     "metadata": {},
     "output_type": "execute_result"
    }
   ],
   "source": [
    "arr1**arr2"
   ]
  },
  {
   "cell_type": "code",
   "execution_count": 219,
   "id": "a934c857-105a-4a23-955b-23168d5df9b8",
   "metadata": {},
   "outputs": [
    {
     "data": {
      "text/plain": [
       "array([[1, 4, 0, 1],\n",
       "       [0, 4, 1, 2],\n",
       "       [1, 0, 4, 8]])"
      ]
     },
     "execution_count": 219,
     "metadata": {},
     "output_type": "execute_result"
    }
   ],
   "source": [
    "arr1&arr2"
   ]
  },
  {
   "cell_type": "code",
   "execution_count": 220,
   "id": "8f4b63f2-aac6-4baf-8db4-30bbc5050879",
   "metadata": {},
   "outputs": [
    {
     "data": {
      "text/plain": [
       "array([[3, 4, 4, 9],\n",
       "       [6, 4, 3, 3],\n",
       "       [5, 3, 5, 8]])"
      ]
     },
     "execution_count": 220,
     "metadata": {},
     "output_type": "execute_result"
    }
   ],
   "source": [
    "arr1"
   ]
  },
  {
   "cell_type": "code",
   "execution_count": 221,
   "id": "f8091e3d-a24e-44fb-a5f1-b3f948a2d100",
   "metadata": {},
   "outputs": [
    {
     "data": {
      "text/plain": [
       "array([[ -4,  -5,  -5, -10],\n",
       "       [ -7,  -5,  -4,  -4],\n",
       "       [ -6,  -4,  -6,  -9]])"
      ]
     },
     "execution_count": 221,
     "metadata": {},
     "output_type": "execute_result"
    }
   ],
   "source": [
    "~arr1"
   ]
  },
  {
   "cell_type": "code",
   "execution_count": 222,
   "id": "518c44de-57c4-4a14-b0a9-d889f867708f",
   "metadata": {},
   "outputs": [
    {
     "data": {
      "text/plain": [
       "array([[ 7,  6, 13,  9],\n",
       "       [15,  7,  7,  3],\n",
       "       [ 7, 11,  5,  9]])"
      ]
     },
     "execution_count": 222,
     "metadata": {},
     "output_type": "execute_result"
    }
   ],
   "source": [
    "arr1|arr2"
   ]
  },
  {
   "cell_type": "code",
   "execution_count": 228,
   "id": "86723596-17f6-47d2-bb31-340e2c1b4c09",
   "metadata": {},
   "outputs": [
    {
     "data": {
      "text/plain": [
       "array([[3, 4, 4, 9],\n",
       "       [6, 4, 3, 3],\n",
       "       [5, 3, 5, 8]])"
      ]
     },
     "execution_count": 228,
     "metadata": {},
     "output_type": "execute_result"
    }
   ],
   "source": [
    "arr1"
   ]
  },
  {
   "cell_type": "code",
   "execution_count": 229,
   "id": "2e844e97-a4c5-489f-90e9-8aec081a326a",
   "metadata": {},
   "outputs": [
    {
     "data": {
      "text/plain": [
       "array([[5, 6, 9, 1],\n",
       "       [9, 7, 5, 2],\n",
       "       [3, 8, 4, 9]])"
      ]
     },
     "execution_count": 229,
     "metadata": {},
     "output_type": "execute_result"
    }
   ],
   "source": [
    "arr2"
   ]
  },
  {
   "cell_type": "code",
   "execution_count": 227,
   "id": "cc25f1fa-e7b4-41b1-99bf-4a1c6eb1a0bd",
   "metadata": {},
   "outputs": [
    {
     "data": {
      "text/plain": [
       "array([9, 3, 5, 5])"
      ]
     },
     "execution_count": 227,
     "metadata": {},
     "output_type": "execute_result"
    }
   ],
   "source": [
    "arr1[arr1>arr2]"
   ]
  },
  {
   "cell_type": "markdown",
   "id": "bbd58225-e2c9-43ae-ab33-762ecb81a780",
   "metadata": {},
   "source": [
    "### string functions"
   ]
  },
  {
   "cell_type": "code",
   "execution_count": 231,
   "id": "a9192002-561a-4a43-9487-627324c01b46",
   "metadata": {},
   "outputs": [],
   "source": [
    "arr=np.array(['sudh','kumar'])"
   ]
  },
  {
   "cell_type": "code",
   "execution_count": 232,
   "id": "0506a3f6-46e2-4449-86dd-4f2e1abbebd6",
   "metadata": {},
   "outputs": [
    {
     "data": {
      "text/plain": [
       "array(['sudh', 'kumar'], dtype='<U5')"
      ]
     },
     "execution_count": 232,
     "metadata": {},
     "output_type": "execute_result"
    }
   ],
   "source": [
    "arr"
   ]
  },
  {
   "cell_type": "code",
   "execution_count": 233,
   "id": "a280520d-e278-4eab-9602-5ac25b7322d0",
   "metadata": {},
   "outputs": [
    {
     "data": {
      "text/plain": [
       "array(['SUDH', 'KUMAR'], dtype='<U5')"
      ]
     },
     "execution_count": 233,
     "metadata": {},
     "output_type": "execute_result"
    }
   ],
   "source": [
    "np.char.upper(arr)"
   ]
  },
  {
   "cell_type": "code",
   "execution_count": 234,
   "id": "f683866f-46fc-4d3e-ab94-8eb1da03e2f9",
   "metadata": {},
   "outputs": [
    {
     "data": {
      "text/plain": [
       "array(['Sudh', 'Kumar'], dtype='<U5')"
      ]
     },
     "execution_count": 234,
     "metadata": {},
     "output_type": "execute_result"
    }
   ],
   "source": [
    "np.char.title(arr)"
   ]
  },
  {
   "cell_type": "code",
   "execution_count": 236,
   "id": "1e60826f-0b19-4061-bc09-abd0a53bb8ef",
   "metadata": {},
   "outputs": [
    {
     "data": {
      "text/plain": [
       "array(['Sudh', 'Kumar'], dtype='<U5')"
      ]
     },
     "execution_count": 236,
     "metadata": {},
     "output_type": "execute_result"
    }
   ],
   "source": [
    "np.char.capitalize(arr)"
   ]
  },
  {
   "cell_type": "markdown",
   "id": "ba1e7631-5032-4d98-86e4-2c0737adb18d",
   "metadata": {},
   "source": [
    "### mathematical functions"
   ]
  },
  {
   "cell_type": "code",
   "execution_count": 237,
   "id": "92e551dc-4f6e-4478-b994-ce765fa122b9",
   "metadata": {},
   "outputs": [
    {
     "data": {
      "text/plain": [
       "array([[3, 4, 4, 9],\n",
       "       [6, 4, 3, 3],\n",
       "       [5, 3, 5, 8]])"
      ]
     },
     "execution_count": 237,
     "metadata": {},
     "output_type": "execute_result"
    }
   ],
   "source": [
    "arr1"
   ]
  },
  {
   "cell_type": "code",
   "execution_count": 238,
   "id": "7902b575-945b-424b-994f-8b4a99da73d6",
   "metadata": {},
   "outputs": [
    {
     "data": {
      "text/plain": [
       "array([[ 0.14112001, -0.7568025 , -0.7568025 ,  0.41211849],\n",
       "       [-0.2794155 , -0.7568025 ,  0.14112001,  0.14112001],\n",
       "       [-0.95892427,  0.14112001, -0.95892427,  0.98935825]])"
      ]
     },
     "execution_count": 238,
     "metadata": {},
     "output_type": "execute_result"
    }
   ],
   "source": [
    "np.sin(arr1)"
   ]
  },
  {
   "cell_type": "code",
   "execution_count": 239,
   "id": "49c0e847-ba72-435c-b76d-1d526fe0e74b",
   "metadata": {},
   "outputs": [
    {
     "data": {
      "text/plain": [
       "array([[-0.9899925 , -0.65364362, -0.65364362, -0.91113026],\n",
       "       [ 0.96017029, -0.65364362, -0.9899925 , -0.9899925 ],\n",
       "       [ 0.28366219, -0.9899925 ,  0.28366219, -0.14550003]])"
      ]
     },
     "execution_count": 239,
     "metadata": {},
     "output_type": "execute_result"
    }
   ],
   "source": [
    "np.cos(arr1)"
   ]
  },
  {
   "cell_type": "code",
   "execution_count": 240,
   "id": "3e6da4a7-1557-4808-a2a2-1e9d7fd7bc75",
   "metadata": {},
   "outputs": [
    {
     "data": {
      "text/plain": [
       "array([[-0.14254654,  1.15782128,  1.15782128, -0.45231566],\n",
       "       [-0.29100619,  1.15782128, -0.14254654, -0.14254654],\n",
       "       [-3.38051501, -0.14254654, -3.38051501, -6.79971146]])"
      ]
     },
     "execution_count": 240,
     "metadata": {},
     "output_type": "execute_result"
    }
   ],
   "source": [
    "np.tan(arr1)"
   ]
  },
  {
   "cell_type": "code",
   "execution_count": 241,
   "id": "6cc0f025-2642-422b-8ce6-003038007d67",
   "metadata": {},
   "outputs": [
    {
     "data": {
      "text/plain": [
       "array([[0.99505475, 0.9993293 , 0.9993293 , 0.99999997],\n",
       "       [0.99998771, 0.9993293 , 0.99505475, 0.99505475],\n",
       "       [0.9999092 , 0.99505475, 0.9999092 , 0.99999977]])"
      ]
     },
     "execution_count": 241,
     "metadata": {},
     "output_type": "execute_result"
    }
   ],
   "source": [
    "np.tanh(arr1)"
   ]
  },
  {
   "cell_type": "code",
   "execution_count": 242,
   "id": "76dcf6e1-3d56-44a9-9b8e-c4b3a188780b",
   "metadata": {},
   "outputs": [
    {
     "data": {
      "text/plain": [
       "array([[0.47712125, 0.60205999, 0.60205999, 0.95424251],\n",
       "       [0.77815125, 0.60205999, 0.47712125, 0.47712125],\n",
       "       [0.69897   , 0.47712125, 0.69897   , 0.90308999]])"
      ]
     },
     "execution_count": 242,
     "metadata": {},
     "output_type": "execute_result"
    }
   ],
   "source": [
    "np.log10(arr1)"
   ]
  },
  {
   "cell_type": "code",
   "execution_count": 243,
   "id": "daf4ef6b-8a1c-4cc6-957e-40e8d4b80343",
   "metadata": {},
   "outputs": [
    {
     "data": {
      "text/plain": [
       "array([[  20.08553692,   54.59815003,   54.59815003, 8103.08392758],\n",
       "       [ 403.42879349,   54.59815003,   20.08553692,   20.08553692],\n",
       "       [ 148.4131591 ,   20.08553692,  148.4131591 , 2980.95798704]])"
      ]
     },
     "execution_count": 243,
     "metadata": {},
     "output_type": "execute_result"
    }
   ],
   "source": [
    "np.exp(arr1)"
   ]
  },
  {
   "cell_type": "code",
   "execution_count": 244,
   "id": "4b914e05-f800-466a-bb77-7294c4939b31",
   "metadata": {},
   "outputs": [
    {
     "data": {
      "text/plain": [
       "array([[1.73205081, 2.        , 2.        , 3.        ],\n",
       "       [2.44948974, 2.        , 1.73205081, 1.73205081],\n",
       "       [2.23606798, 1.73205081, 2.23606798, 2.82842712]])"
      ]
     },
     "execution_count": 244,
     "metadata": {},
     "output_type": "execute_result"
    }
   ],
   "source": [
    "np.sqrt(arr1)"
   ]
  },
  {
   "cell_type": "code",
   "execution_count": 246,
   "id": "87d1450c-91c0-4dfa-aef5-c36ccb2aec92",
   "metadata": {},
   "outputs": [
    {
     "data": {
      "text/plain": [
       "array([[ 9, 16, 16, 81],\n",
       "       [36, 16,  9,  9],\n",
       "       [25,  9, 25, 64]])"
      ]
     },
     "execution_count": 246,
     "metadata": {},
     "output_type": "execute_result"
    }
   ],
   "source": [
    "np.power(arr1,2)"
   ]
  },
  {
   "cell_type": "code",
   "execution_count": 248,
   "id": "0a1209c6-8135-4ae1-ae92-4f70eb95b677",
   "metadata": {},
   "outputs": [
    {
     "data": {
      "text/plain": [
       "4.75"
      ]
     },
     "execution_count": 248,
     "metadata": {},
     "output_type": "execute_result"
    }
   ],
   "source": [
    "np.mean(arr1)"
   ]
  },
  {
   "cell_type": "code",
   "execution_count": 250,
   "id": "d45891bc-d232-4421-957d-3adbba38ef7b",
   "metadata": {},
   "outputs": [
    {
     "data": {
      "text/plain": [
       "4.0"
      ]
     },
     "execution_count": 250,
     "metadata": {},
     "output_type": "execute_result"
    }
   ],
   "source": [
    "np.median(arr1)"
   ]
  },
  {
   "cell_type": "code",
   "execution_count": 251,
   "id": "8aa57287-3506-4be5-8f36-20555f7651f1",
   "metadata": {},
   "outputs": [
    {
     "data": {
      "text/plain": [
       "1.920286436967152"
      ]
     },
     "execution_count": 251,
     "metadata": {},
     "output_type": "execute_result"
    }
   ],
   "source": [
    "np.std(arr1)"
   ]
  },
  {
   "cell_type": "code",
   "execution_count": 252,
   "id": "cad9ce4a-07fc-4be4-9520-110c395cff21",
   "metadata": {},
   "outputs": [
    {
     "data": {
      "text/plain": [
       "3.6875"
      ]
     },
     "execution_count": 252,
     "metadata": {},
     "output_type": "execute_result"
    }
   ],
   "source": [
    "np.var(arr1)"
   ]
  },
  {
   "cell_type": "code",
   "execution_count": 253,
   "id": "75bb8721-a437-4997-a5ba-39e473843192",
   "metadata": {},
   "outputs": [
    {
     "data": {
      "text/plain": [
       "3"
      ]
     },
     "execution_count": 253,
     "metadata": {},
     "output_type": "execute_result"
    }
   ],
   "source": [
    "np.min(arr1)"
   ]
  },
  {
   "cell_type": "code",
   "execution_count": 254,
   "id": "8f6b8292-f5e9-4231-98d8-7c1c4abd38f5",
   "metadata": {},
   "outputs": [
    {
     "data": {
      "text/plain": [
       "9"
      ]
     },
     "execution_count": 254,
     "metadata": {},
     "output_type": "execute_result"
    }
   ],
   "source": [
    "np.max(arr1)"
   ]
  },
  {
   "cell_type": "markdown",
   "id": "3c46b0f2-5e2f-4cd5-868d-d4443d4beeaf",
   "metadata": {},
   "source": [
    "# More numpy"
   ]
  },
  {
   "cell_type": "markdown",
   "id": "ba1f7e97-c580-4f8b-8592-2a1496df72f6",
   "metadata": {},
   "source": [
    "### Sort, Search and Counting Functions"
   ]
  },
  {
   "cell_type": "code",
   "execution_count": 256,
   "id": "9e75481b-0a9b-43c6-8de7-b53bb3370fd4",
   "metadata": {},
   "outputs": [],
   "source": [
    "arr = np.array([4,5,6,7,89,5,6,7,8,2,45,7])"
   ]
  },
  {
   "cell_type": "code",
   "execution_count": 257,
   "id": "b009658e-d767-4ed8-820f-38dbd58a3b2f",
   "metadata": {},
   "outputs": [
    {
     "data": {
      "text/plain": [
       "array([ 4,  5,  6,  7, 89,  5,  6,  7,  8,  2, 45,  7])"
      ]
     },
     "execution_count": 257,
     "metadata": {},
     "output_type": "execute_result"
    }
   ],
   "source": [
    "arr"
   ]
  },
  {
   "cell_type": "code",
   "execution_count": 258,
   "id": "89271b40-be89-49bc-8692-5933beec351d",
   "metadata": {},
   "outputs": [
    {
     "data": {
      "text/plain": [
       "array([ 2,  4,  5,  5,  6,  6,  7,  7,  7,  8, 45, 89])"
      ]
     },
     "execution_count": 258,
     "metadata": {},
     "output_type": "execute_result"
    }
   ],
   "source": [
    "np.sort(arr)"
   ]
  },
  {
   "cell_type": "code",
   "execution_count": 259,
   "id": "b8ba9a81-bb3a-4c50-aa85-84ab8c8ea2d7",
   "metadata": {},
   "outputs": [
    {
     "data": {
      "text/plain": [
       "12"
      ]
     },
     "execution_count": 259,
     "metadata": {},
     "output_type": "execute_result"
    }
   ],
   "source": [
    "np.searchsorted(arr,34) #where can i store 34 in the sorted array"
   ]
  },
  {
   "cell_type": "code",
   "execution_count": 260,
   "id": "e421bb36-b128-4cb8-9a53-eabc1f5090b4",
   "metadata": {},
   "outputs": [],
   "source": [
    "arr1 = np.array([0,342,543,2,1,0,0,0])"
   ]
  },
  {
   "cell_type": "code",
   "execution_count": 261,
   "id": "29ae3a36-6f61-4b09-abd3-3456dbeead5c",
   "metadata": {},
   "outputs": [
    {
     "data": {
      "text/plain": [
       "4"
      ]
     },
     "execution_count": 261,
     "metadata": {},
     "output_type": "execute_result"
    }
   ],
   "source": [
    "np.count_nonzero(arr1)"
   ]
  },
  {
   "cell_type": "code",
   "execution_count": 262,
   "id": "041636a9-49f7-46c0-87c4-b30530f8c0fa",
   "metadata": {},
   "outputs": [
    {
     "data": {
      "text/plain": [
       "array([ 4,  5,  6,  7, 89,  5,  6,  7,  8,  2, 45,  7])"
      ]
     },
     "execution_count": 262,
     "metadata": {},
     "output_type": "execute_result"
    }
   ],
   "source": [
    "arr"
   ]
  },
  {
   "cell_type": "code",
   "execution_count": 263,
   "id": "8180896a-fd6f-4578-80e9-7490eebf4683",
   "metadata": {},
   "outputs": [
    {
     "data": {
      "text/plain": [
       "(array([ 3,  4,  7,  8, 10, 11]),)"
      ]
     },
     "execution_count": 263,
     "metadata": {},
     "output_type": "execute_result"
    }
   ],
   "source": [
    "np.where(arr>6)"
   ]
  },
  {
   "cell_type": "code",
   "execution_count": 264,
   "id": "9e7380ee-4ddf-445f-879c-53a45f1cccdf",
   "metadata": {},
   "outputs": [
    {
     "data": {
      "text/plain": [
       "array([ 7, 89,  7,  8, 45,  7])"
      ]
     },
     "execution_count": 264,
     "metadata": {},
     "output_type": "execute_result"
    }
   ],
   "source": [
    "np.extract(arr>6, arr) "
   ]
  },
  {
   "cell_type": "code",
   "execution_count": 266,
   "id": "daea1a62-b138-4610-9aec-6e6ec6b49d6c",
   "metadata": {},
   "outputs": [
    {
     "data": {
      "text/plain": [
       "array([ 288230376151711744,  360287970189639680,  432345564227567616,\n",
       "        504403158265495552, 6413125869375586304,  360287970189639680,\n",
       "        432345564227567616,  504403158265495552,  576460752303423488,\n",
       "        144115188075855872, 3242591731706757120,  504403158265495552])"
      ]
     },
     "execution_count": 266,
     "metadata": {},
     "output_type": "execute_result"
    }
   ],
   "source": [
    "#byte swapping\n",
    "arr.byteswap()"
   ]
  },
  {
   "cell_type": "code",
   "execution_count": 269,
   "id": "3b07e64b-4c3e-4ede-92a6-c9049de6762a",
   "metadata": {},
   "outputs": [
    {
     "data": {
      "text/plain": [
       "array([ 4,  5,  6,  7, 89,  5,  6,  7,  8,  2, 45,  7])"
      ]
     },
     "execution_count": 269,
     "metadata": {},
     "output_type": "execute_result"
    }
   ],
   "source": [
    "arr"
   ]
  },
  {
   "cell_type": "code",
   "execution_count": 268,
   "id": "3e19ad3d-043a-4039-887b-34b2936140cd",
   "metadata": {},
   "outputs": [],
   "source": [
    "a = np.copy(arr) #deep copy"
   ]
  },
  {
   "cell_type": "code",
   "execution_count": 270,
   "id": "4f785d1b-bffe-4c40-9f83-4258af1431e3",
   "metadata": {},
   "outputs": [
    {
     "data": {
      "text/plain": [
       "array([ 4,  5,  6,  7, 89,  5,  6,  7,  8,  2, 45,  7])"
      ]
     },
     "execution_count": 270,
     "metadata": {},
     "output_type": "execute_result"
    }
   ],
   "source": [
    "a"
   ]
  },
  {
   "cell_type": "code",
   "execution_count": 271,
   "id": "700411ef-0b53-42b9-a5c4-fae73452d2c2",
   "metadata": {},
   "outputs": [],
   "source": [
    "b = arr.view() #swallow copy"
   ]
  },
  {
   "cell_type": "code",
   "execution_count": 272,
   "id": "76dc401d-815a-4638-bfd7-45bd8ecee561",
   "metadata": {},
   "outputs": [
    {
     "data": {
      "text/plain": [
       "array([ 4,  5,  6,  7, 89,  5,  6,  7,  8,  2, 45,  7])"
      ]
     },
     "execution_count": 272,
     "metadata": {},
     "output_type": "execute_result"
    }
   ],
   "source": [
    "b"
   ]
  },
  {
   "cell_type": "code",
   "execution_count": 273,
   "id": "74197216-c347-4801-b2d1-3725588f9d26",
   "metadata": {},
   "outputs": [],
   "source": [
    "arr[1]=44"
   ]
  },
  {
   "cell_type": "code",
   "execution_count": 274,
   "id": "d76c0611-27af-4971-adaf-5816cbd227aa",
   "metadata": {},
   "outputs": [
    {
     "data": {
      "text/plain": [
       "array([ 4, 44,  6,  7, 89,  5,  6,  7,  8,  2, 45,  7])"
      ]
     },
     "execution_count": 274,
     "metadata": {},
     "output_type": "execute_result"
    }
   ],
   "source": [
    "arr"
   ]
  },
  {
   "cell_type": "code",
   "execution_count": 275,
   "id": "fb5f7de6-8a23-4031-858d-aae300025fb5",
   "metadata": {},
   "outputs": [
    {
     "data": {
      "text/plain": [
       "array([ 4, 44,  6,  7, 89,  5,  6,  7,  8,  2, 45,  7])"
      ]
     },
     "execution_count": 275,
     "metadata": {},
     "output_type": "execute_result"
    }
   ],
   "source": [
    "b"
   ]
  },
  {
   "cell_type": "code",
   "execution_count": 276,
   "id": "d0d04125-5569-453b-b9cb-02827c21646c",
   "metadata": {},
   "outputs": [
    {
     "data": {
      "text/plain": [
       "array([ 4,  5,  6,  7, 89,  5,  6,  7,  8,  2, 45,  7])"
      ]
     },
     "execution_count": 276,
     "metadata": {},
     "output_type": "execute_result"
    }
   ],
   "source": [
    "a"
   ]
  },
  {
   "cell_type": "markdown",
   "id": "7362af08-6a33-408a-8267-b647e672c1f9",
   "metadata": {},
   "source": [
    "### matrix library"
   ]
  },
  {
   "cell_type": "code",
   "execution_count": 277,
   "id": "c7587f4b-a755-426b-b35b-2cc5ba71bfc7",
   "metadata": {},
   "outputs": [],
   "source": [
    "import numpy.matlib as nm"
   ]
  },
  {
   "cell_type": "code",
   "execution_count": 279,
   "id": "98ea002a-42ac-4109-9c06-2ea28d2b0979",
   "metadata": {},
   "outputs": [],
   "source": [
    "m=nm.zeros(5)"
   ]
  },
  {
   "cell_type": "code",
   "execution_count": 280,
   "id": "159f4ee8-77c4-423d-98fe-250f3c2cfbde",
   "metadata": {},
   "outputs": [
    {
     "data": {
      "text/plain": [
       "matrix([[0., 0., 0., 0., 0.]])"
      ]
     },
     "execution_count": 280,
     "metadata": {},
     "output_type": "execute_result"
    }
   ],
   "source": [
    "m"
   ]
  },
  {
   "cell_type": "code",
   "execution_count": 281,
   "id": "465d7ad9-cc0a-4464-a908-aab4aac239ca",
   "metadata": {},
   "outputs": [
    {
     "data": {
      "text/plain": [
       "2"
      ]
     },
     "execution_count": 281,
     "metadata": {},
     "output_type": "execute_result"
    }
   ],
   "source": [
    "m.ndim"
   ]
  },
  {
   "cell_type": "code",
   "execution_count": 282,
   "id": "ddbf4372-d393-490a-8765-d70481bc1c2e",
   "metadata": {},
   "outputs": [
    {
     "data": {
      "text/plain": [
       "matrix([[1., 1., 1., 1.],\n",
       "        [1., 1., 1., 1.],\n",
       "        [1., 1., 1., 1.]])"
      ]
     },
     "execution_count": 282,
     "metadata": {},
     "output_type": "execute_result"
    }
   ],
   "source": [
    "nm.ones((3,4))"
   ]
  },
  {
   "cell_type": "code",
   "execution_count": 283,
   "id": "71e232f7-1b25-451e-9fcf-d38d7129a2cd",
   "metadata": {},
   "outputs": [
    {
     "data": {
      "text/plain": [
       "matrix([[1., 0., 0., 0., 0.],\n",
       "        [0., 1., 0., 0., 0.],\n",
       "        [0., 0., 1., 0., 0.],\n",
       "        [0., 0., 0., 1., 0.],\n",
       "        [0., 0., 0., 0., 1.]])"
      ]
     },
     "execution_count": 283,
     "metadata": {},
     "output_type": "execute_result"
    }
   ],
   "source": [
    "nm.eye(5)"
   ]
  },
  {
   "cell_type": "markdown",
   "id": "612c8886-b74a-4044-8a0e-880ad1a733f7",
   "metadata": {},
   "source": [
    "### linear algebra"
   ]
  },
  {
   "cell_type": "code",
   "execution_count": 284,
   "id": "f55a2a64-84a4-4522-8d09-d4752de2441f",
   "metadata": {},
   "outputs": [],
   "source": [
    "arr1 = np.random.randint([[2,3],[4,5]])"
   ]
  },
  {
   "cell_type": "code",
   "execution_count": 285,
   "id": "a0e116f1-2f54-4003-a600-e010c1e6a1d9",
   "metadata": {},
   "outputs": [],
   "source": [
    "arr2 = np.random.randint([[5,3],[2,5]])"
   ]
  },
  {
   "cell_type": "code",
   "execution_count": 286,
   "id": "c6286665-0b6b-414c-9814-bdf638285209",
   "metadata": {},
   "outputs": [
    {
     "data": {
      "text/plain": [
       "array([[2, 4],\n",
       "       [6, 8]])"
      ]
     },
     "execution_count": 286,
     "metadata": {},
     "output_type": "execute_result"
    }
   ],
   "source": [
    "np.dot(arr1,arr2)"
   ]
  },
  {
   "cell_type": "code",
   "execution_count": 287,
   "id": "2203122b-7814-434c-8850-ecdf79a1670f",
   "metadata": {},
   "outputs": [
    {
     "data": {
      "text/plain": [
       "array([[2, 4],\n",
       "       [6, 8]])"
      ]
     },
     "execution_count": 287,
     "metadata": {},
     "output_type": "execute_result"
    }
   ],
   "source": [
    "arr1@arr2 #matrix multiplication"
   ]
  }
 ],
 "metadata": {
  "kernelspec": {
   "display_name": "Python 3 (ipykernel)",
   "language": "python",
   "name": "python3"
  },
  "language_info": {
   "codemirror_mode": {
    "name": "ipython",
    "version": 3
   },
   "file_extension": ".py",
   "mimetype": "text/x-python",
   "name": "python",
   "nbconvert_exporter": "python",
   "pygments_lexer": "ipython3",
   "version": "3.10.8"
  }
 },
 "nbformat": 4,
 "nbformat_minor": 5
}
