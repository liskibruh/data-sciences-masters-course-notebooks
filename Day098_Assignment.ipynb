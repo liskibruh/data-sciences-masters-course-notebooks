{
 "cells": [
  {
   "cell_type": "markdown",
   "id": "a5c111f8",
   "metadata": {},
   "source": [
    "# Question No. 1:\n",
    "What are the different data structures used in Tensorflow? Give some examples.\n",
    "\n",
    "## Answer:\n",
    "- **Tensors:** Tensors are the fundamental data structure in TensorFlow, representing multi-dimensional arrays of data. They can be scalar (0-dimensional), vector (1-dimensional), matrices (2-dimensional), or higher-dimensional arrays. Tensors are used for storing and processing the input data, intermediate computations, and output predictions.\n",
    "\n",
    "- **Variables:** Variables are mutable tensors that can be updated during training. They are often used to store the learnable parameters of a machine learning model, such as weights and biases. TensorFlow provides the tf.Variable class for creating and manipulating variables.\n",
    "\n",
    "- **Sparse Tensors:** Sparse tensors are a specialized form of tensors used to efficiently represent and process sparse data, where most of the values are zero. They store only the non-zero elements along with their indices. TensorFlow provides the tf.sparse.SparseTensor class for working with sparse data.\n",
    "\n",
    "- **Ragged Tensors:** Ragged tensors are used to handle sequences or arrays with varying lengths. Unlike regular tensors where all dimensions have fixed sizes, ragged tensors allow for dynamic lengths along one or more dimensions. TensorFlow provides the tf.RaggedTensor class for working with ragged data.\n",
    "\n",
    "- **Datasets:** TensorFlow Datasets (TFDS) is a library that provides pre-processed datasets for machine learning tasks. It provides an abstraction for handling large-scale data efficiently by representing it as a sequence of elements. The tf.data.Dataset class is used to create, transform, and manipulate datasets in TensorFlow.\n",
    "\n",
    "- **Queues:** Queues are used for asynchronous data loading and processing, especially when dealing with large datasets that do not fit entirely in memory. TensorFlow provides various queue implementations, such as tf.queue.FIFOQueue and tf.queue.PaddingFIFOQueue, to facilitate efficient data pipeline management."
   ]
  },
  {
   "cell_type": "markdown",
   "id": "91f66ba4",
   "metadata": {},
   "source": [
    "# Question No. 2:\n",
    "How does the TensorFlow constant differ from a TensorFlow variable? Explain with an examples.\n",
    "\n",
    "## Answer:\n",
    "In TensorFlow, both constants and variables are used to store and manipulate data, but they have some key differences in terms of their properties and usage.\n",
    "\n",
    "**TensorFlow Constant:**\n",
    "- A constant in TensorFlow represents a fixed value that remains unchanged throughout the execution of a computation graph.\n",
    "- Once a constant is defined, its value cannot be modified.\n",
    "- Constants are typically used for storing fixed input data or hyperparameters that do not require updating during training.\n",
    "- The values of constants are known and explicitly provided during the graph construction.\n",
    "- Example:"
   ]
  },
  {
   "cell_type": "code",
   "execution_count": 7,
   "id": "3c2e4b3c",
   "metadata": {},
   "outputs": [
    {
     "name": "stdout",
     "output_type": "stream",
     "text": [
      "tf.Tensor(10.0, shape=(), dtype=float32)\n"
     ]
    }
   ],
   "source": [
    "import tensorflow as tf\n",
    "\n",
    "x = tf.constant(5.0)\n",
    "y = x * 2\n",
    "\n",
    "print(y)"
   ]
  },
  {
   "cell_type": "markdown",
   "id": "0c88d553",
   "metadata": {},
   "source": [
    "**TensorFlow Variable:**\n",
    "- A variable in TensorFlow represents a mutable tensor that can hold values that are updated during the execution of a computation graph.\n",
    "- Variables are typically used for storing learnable parameters, such as weights and biases, in machine learning models.\n",
    "- The values of variables are not known initially and are usually initialized randomly or with specific initialization techniques.\n",
    "- Variables can be modified and updated through operations like assignment (tf.Variable.assign) or using optimizers during training.\n",
    "- Example:"
   ]
  },
  {
   "cell_type": "code",
   "execution_count": 8,
   "id": "689486a6",
   "metadata": {},
   "outputs": [
    {
     "name": "stdout",
     "output_type": "stream",
     "text": [
      "<tf.Variable 'Variable:0' shape=() dtype=float32, numpy=5.0>\n",
      "<tf.Variable 'Variable:0' shape=() dtype=float32, numpy=7.0>\n"
     ]
    }
   ],
   "source": [
    "import tensorflow as tf\n",
    "\n",
    "x = tf.Variable(5.0)\n",
    "print(x)\n",
    "\n",
    "#modifying variable\n",
    "x.assign(7.0)\n",
    "print(x)"
   ]
  },
  {
   "cell_type": "markdown",
   "id": "cb754217",
   "metadata": {},
   "source": [
    "# Question No. 3:\n",
    "Describe the process of matrix addition, multiplication, and element-wise operations in TensorFlow.\n",
    "\n",
    "## Answer:\n",
    "In TensorFlow, matrix addition, multiplication, and element-wise operations can be performed using various functions and operators. Let's explore each operation in detail:\n",
    "\n",
    "**Matrix Addition:**\n",
    "- Matrix addition involves adding two matrices of the same shape element-wise.\n",
    "- In TensorFlow, matrix addition can be performed using the tf.add() function or the + operator.\n",
    "- Example:"
   ]
  },
  {
   "cell_type": "code",
   "execution_count": 9,
   "id": "2643592f",
   "metadata": {},
   "outputs": [
    {
     "name": "stdout",
     "output_type": "stream",
     "text": [
      "tf.Tensor(\n",
      "[[ 6  8]\n",
      " [10 12]], shape=(2, 2), dtype=int32)\n",
      "tf.Tensor(\n",
      "[[ 6  8]\n",
      " [10 12]], shape=(2, 2), dtype=int32)\n"
     ]
    }
   ],
   "source": [
    "import tensorflow as tf\n",
    "\n",
    "#define two matrices\n",
    "A = tf.constant([[1, 2], [3, 4]])\n",
    "B = tf.constant([[5, 6], [7, 8]])\n",
    "\n",
    "#matrix addition using tf.add()\n",
    "C = tf.add(A, B)\n",
    "\n",
    "#matrix addition using the + operator\n",
    "D = A + B\n",
    "\n",
    "print(C)\n",
    "print(D)"
   ]
  },
  {
   "cell_type": "markdown",
   "id": "46e777e3",
   "metadata": {},
   "source": [
    "**Matrix Multiplication:**\n",
    "- Matrix multiplication involves multiplying two matrices to obtain a new matrix based on specific rules.\n",
    "- In TensorFlow, matrix multiplication can be performed using the tf.matmul() function or the @ operator.\n",
    "- The dimensions of the matrices must be compatible for multiplication (e.g., the number of columns in the first matrix should be equal to the number of rows in the second matrix).\n",
    "- Example:"
   ]
  },
  {
   "cell_type": "code",
   "execution_count": 10,
   "id": "3c2525cb",
   "metadata": {},
   "outputs": [
    {
     "name": "stdout",
     "output_type": "stream",
     "text": [
      "tf.Tensor(\n",
      "[[19 22]\n",
      " [43 50]], shape=(2, 2), dtype=int32)\n",
      "tf.Tensor(\n",
      "[[19 22]\n",
      " [43 50]], shape=(2, 2), dtype=int32)\n"
     ]
    }
   ],
   "source": [
    "import tensorflow as tf\n",
    "\n",
    "#define two matrices\n",
    "A = tf.constant([[1, 2], [3, 4]])\n",
    "B = tf.constant([[5, 6], [7, 8]])\n",
    "\n",
    "#matrix multiplication using tf.matmul()\n",
    "C = tf.matmul(A, B)\n",
    "\n",
    "#matrix multiplication using the @ operator\n",
    "D = A @ B\n",
    "\n",
    "print(C)\n",
    "print(D)"
   ]
  },
  {
   "cell_type": "markdown",
   "id": "28205d4f",
   "metadata": {},
   "source": [
    "**Element-wise Operations:**\n",
    "- Element-wise operations involve applying an operation to corresponding elements of two matrices, resulting in a new matrix with the same shape.\n",
    "- In TensorFlow, element-wise operations can be performed using functions or operators, such as tf.add(), tf.subtract(), tf.multiply(), tf.divide(), etc.\n",
    "- Example"
   ]
  },
  {
   "cell_type": "code",
   "execution_count": 11,
   "id": "73e7c77e",
   "metadata": {},
   "outputs": [
    {
     "name": "stdout",
     "output_type": "stream",
     "text": [
      "tf.Tensor(\n",
      "[[ 6  8]\n",
      " [10 12]], shape=(2, 2), dtype=int32)\n",
      "tf.Tensor(\n",
      "[[-4 -4]\n",
      " [-4 -4]], shape=(2, 2), dtype=int32)\n",
      "tf.Tensor(\n",
      "[[ 5 12]\n",
      " [21 32]], shape=(2, 2), dtype=int32)\n",
      "tf.Tensor(\n",
      "[[0.2        0.33333333]\n",
      " [0.42857143 0.5       ]], shape=(2, 2), dtype=float64)\n"
     ]
    }
   ],
   "source": [
    "import tensorflow as tf\n",
    "\n",
    "#define two matrices\n",
    "A = tf.constant([[1, 2], [3, 4]])\n",
    "B = tf.constant([[5, 6], [7, 8]])\n",
    "\n",
    "#element-wise addition using tf.add()\n",
    "C = tf.add(A, B)\n",
    "\n",
    "#element-wise subtraction using tf.subtract()\n",
    "D = tf.subtract(A, B)\n",
    "\n",
    "#element-wise multiplication using tf.multiply()\n",
    "E = tf.multiply(A, B)\n",
    "\n",
    "#element-wise division using tf.divide()\n",
    "F = tf.divide(A, B)\n",
    "\n",
    "print(C)\n",
    "print(D)\n",
    "print(E)\n",
    "print(F)"
   ]
  },
  {
   "cell_type": "markdown",
   "id": "1b006efc",
   "metadata": {},
   "source": [
    "# Question No. 4 to 8:\n",
    "4. Create a normal matrix A with dimensions 2x2, using TensorFlow's random_normal function. Display the values of matrix A\n",
    "5. Create a Gaussian matrix B with dimensions x, using TensorFlow's truncated_normal function. Display the values of matrix B\n",
    "6. Create a matrix C with dimensions 2x2, where the values are drawn from a normal distribution with a mean of 2 and a standard deviation of 0.x, using TensorFlow's random.normal function. Display the values of matrix C\n",
    "7. Perform matrix addition between matrix A and matrix B, and store the result in matrix D\n",
    "8. Perform matrix multiplication between matrix C and matrix D, and store the result in matrix E\n",
    "\n",
    "## Answer:"
   ]
  },
  {
   "cell_type": "code",
   "execution_count": 12,
   "id": "4e88569a",
   "metadata": {},
   "outputs": [
    {
     "name": "stdout",
     "output_type": "stream",
     "text": [
      "Matrix A using random_normal:  tf.Tensor(\n",
      "[[ 0.7931007   0.26117915]\n",
      " [-0.45915928  0.61354005]], shape=(2, 2), dtype=float32)\n",
      "Matrix B using truncated_normal:  tf.Tensor(\n",
      "[[ 0.10371255 -1.0586861 ]\n",
      " [ 0.977343   -0.3046532 ]], shape=(2, 2), dtype=float32)\n",
      "Matrix C where values are drawn from normal distribution with mean=2 and std. dev=0.2:  tf.Tensor(\n",
      "[[2.0399768 2.2202601]\n",
      " [2.2156212 2.0355844]], shape=(2, 2), dtype=float32)\n",
      "Matrix D (A + B):  tf.Tensor(\n",
      "[[ 0.8968133  -0.797507  ]\n",
      " [ 0.5181837   0.30888686]], shape=(2, 2), dtype=float32)\n",
      "Matrix E (C * D):  tf.Tensor(\n",
      "[[ 2.979981  -0.9410866]\n",
      " [ 3.0418053 -1.1382082]], shape=(2, 2), dtype=float32)\n"
     ]
    }
   ],
   "source": [
    "import tensorflow as tf\n",
    "\n",
    "#4: Create matrix A using random_normal\n",
    "A = tf.random.normal(shape=(2, 2))\n",
    "print(\"Matrix A using random_normal: \", A)\n",
    "\n",
    "#5: Create matrix B using truncated_normal\n",
    "B = tf.random.truncated_normal(shape=(2, 2))\n",
    "print(\"Matrix B using truncated_normal: \", B)\n",
    "\n",
    "#6: Create matrix C using random.normal\n",
    "C = tf.random.normal(shape=(2, 2), mean=2, stddev=0.2)\n",
    "print(\"Matrix C where values are drawn from normal distribution with mean=2 and std. dev=0.2: \", C)\n",
    "\n",
    "#7: Perform matrix addition between A and B to get D\n",
    "D = tf.add(A, B)\n",
    "print(\"Matrix D (A + B): \", D)\n",
    "\n",
    "#8: Perform matrix multiplication between C and D to get E\n",
    "E = tf.matmul(C, D)\n",
    "print(\"Matrix E (C * D): \", E)"
   ]
  },
  {
   "cell_type": "markdown",
   "id": "a5779e31",
   "metadata": {},
   "source": [
    "# Question 8 to 12:\n",
    "8. Create a matrix F with dimensions 2x2, initialized with random values using TensorFlow's random_uniform function\n",
    "9. Calculate the transpose of matrix F and store the result in matrix G\n",
    "10. Calculate the element-wise exponential of matrix F and store the result in matrix H\n",
    "11. Create a matrix I by concatenating matrix F and matrix G horizontally\n",
    "12. Create a matrix J by concatenating matrix F and matrix H vertically\n",
    "\n",
    "## Answer:"
   ]
  },
  {
   "cell_type": "code",
   "execution_count": 13,
   "id": "4d34031f",
   "metadata": {},
   "outputs": [
    {
     "name": "stdout",
     "output_type": "stream",
     "text": [
      "Matrix F using random_uniform:  tf.Tensor(\n",
      "[[0.4748937  0.19927704]\n",
      " [0.7383524  0.6679841 ]], shape=(2, 2), dtype=float32)\n",
      "Matrix G (Transpose of F):  tf.Tensor(\n",
      "[[0.4748937  0.7383524 ]\n",
      " [0.19927704 0.6679841 ]], shape=(2, 2), dtype=float32)\n",
      "Matrix H (Element-wise Exponential of F):  tf.Tensor(\n",
      "[[1.6078433 1.22052  ]\n",
      " [2.0924852 1.9503018]], shape=(2, 2), dtype=float32)\n",
      "Matrix I (Horizontal Concatenation of F and G):  tf.Tensor(\n",
      "[[0.4748937  0.19927704 0.4748937  0.7383524 ]\n",
      " [0.7383524  0.6679841  0.19927704 0.6679841 ]], shape=(2, 4), dtype=float32)\n",
      "Matrix J (Vertical Concatenation of F and H):  tf.Tensor(\n",
      "[[0.4748937  0.19927704]\n",
      " [0.7383524  0.6679841 ]\n",
      " [1.6078433  1.22052   ]\n",
      " [2.0924852  1.9503018 ]], shape=(4, 2), dtype=float32)\n"
     ]
    }
   ],
   "source": [
    "import tensorflow as tf\n",
    "\n",
    "#8: Create matrix F using random_uniform\n",
    "F = tf.random.uniform(shape=(2, 2))\n",
    "print(\"Matrix F using random_uniform: \", F)\n",
    "\n",
    "#9: Calculate the transpose of F to get G\n",
    "G = tf.transpose(F)\n",
    "print(\"Matrix G (Transpose of F): \", G)\n",
    "\n",
    "#10: Calculate the element-wise exponential of F to get H\n",
    "H = tf.exp(F)\n",
    "print(\"Matrix H (Element-wise Exponential of F): \", H)\n",
    "\n",
    "#11: Create matrix I by concatenating F and G horizontally\n",
    "I = tf.concat([F, G], axis=1)\n",
    "print(\"Matrix I (Horizontal Concatenation of F and G): \", I)\n",
    "\n",
    "#12: Create matrix J by concatenating F and H vertically\n",
    "J = tf.concat([F, H], axis=0)\n",
    "print(\"Matrix J (Vertical Concatenation of F and H): \", J)"
   ]
  }
 ],
 "metadata": {
  "kernelspec": {
   "display_name": "Python 3 (ipykernel)",
   "language": "python",
   "name": "python3"
  },
  "language_info": {
   "codemirror_mode": {
    "name": "ipython",
    "version": 3
   },
   "file_extension": ".py",
   "mimetype": "text/x-python",
   "name": "python",
   "nbconvert_exporter": "python",
   "pygments_lexer": "ipython3",
   "version": "3.9.16"
  }
 },
 "nbformat": 4,
 "nbformat_minor": 5
}
