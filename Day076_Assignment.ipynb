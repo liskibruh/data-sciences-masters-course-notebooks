{
 "cells": [
  {
   "cell_type": "markdown",
   "id": "72867dca",
   "metadata": {},
   "source": [
    "# Question No. 1:\n",
    "What is the main difference between the Euclidean distance metric and the Manhattan distance\n",
    "metric in KNN? How might this difference affect the performance of a KNN classifier or regressor?\n",
    "\n",
    "## Answer:\n",
    "**The Euclidean distance** is the straight-line distance between two points in a Euclidean space. It is calculated as the square root of the sum of the squared differences between the coordinates of two points. This metric is sensitive to the scale of the features and the orientation of the coordinate axes.\n",
    "\n",
    "**The Manhattan distance**, also known as the city block distance or L1 norm, is the sum of the absolute differences between the coordinates of two points. It is calculated by summing the absolute differences of the coordinates along each dimension. Unlike the Euclidean distance, the Manhattan distance is not sensitive to the scale of the features or the orientation of the coordinate axes."
   ]
  },
  {
   "cell_type": "markdown",
   "id": "92544a85",
   "metadata": {},
   "source": [
    "# Question No. 2:\n",
    "How do you choose the optimal value of k for a KNN classifier or regressor? What techniques can be\n",
    "used to determine the optimal k value?\n",
    "\n",
    "## Answer:\n",
    "Choosing the optimal value of k in a K-nearest neighbors (KNN) algorithm is an important task, as it can significantly affect the performance of the model. Here are some techniques that can be used to determine the optimal k value:\n",
    "\n",
    "- Grid Search: One common approach to finding the optimal k value is to use grid search. In this technique, the model is trained and evaluated for different values of k, and the k value that gives the best performance is selected. Typically, a range of k values is specified and a cross-validation procedure is used to evaluate each value of k.\n",
    "\n",
    "- Cross-Validation: Another approach is to use k-fold cross-validation. In this technique, the data is split into k equally sized folds, and the model is trained and evaluated k times, each time using a different fold as the validation set and the remaining folds as the training set. The k value that gives the best average performance across the k iterations is selected.\n",
    "\n",
    "- Elbow Method: The elbow method is a graphical technique that can be used to determine the optimal k value. In this technique, the performance of the model is plotted against different k values, and the plot is examined for the point where the performance stops improving significantly. This point is called the \"elbow\", and the k value at the elbow can be chosen as the optimal k value.\n",
    "\n",
    "- Distance Metrics: The optimal k value can also depend on the distance metric used. For example, using the Euclidean distance metric may lead to different optimal k values than using the Manhattan distance metric. Therefore, it is important to experiment with different distance metrics and evaluate the performance of the model for different k values."
   ]
  },
  {
   "cell_type": "markdown",
   "id": "22b264b8",
   "metadata": {},
   "source": [
    "# Question No. 3:\n",
    "How does the choice of distance metric affect the performance of a KNN classifier or regressor? In\n",
    "what situations might you choose one distance metric over the other?\n",
    "\n",
    "## Answer:\n",
    "The choice of distance metric can have a significant impact on the performance of a K-nearest neighbors (KNN) classifier or regressor. Here are some ways that the choice of distance metric can affect performance, and some situations where one distance metric might be preferred over the other:\n",
    "\n",
    "- Sensitivity to Scale: The Euclidean distance metric is sensitive to the scale of the features, while the Manhattan distance metric is not. This means that if the features have different scales, the Euclidean distance metric may be influenced more by the features with larger scales, leading to poorer performance. In this case, the Manhattan distance metric may be preferred.\n",
    "\n",
    "- Sensitivity to Outliers: The Euclidean distance metric is sensitive to outliers, while the Manhattan distance metric is more robust to outliers. This means that if there are outliers in the data, the Euclidean distance metric may be influenced more by these outliers, leading to poorer performance. In this case, the Manhattan distance metric may be preferred.\n",
    "\n",
    "- Dimensionality: As the number of dimensions increases, the Euclidean distance metric becomes less effective at distinguishing between points, as all points become more equidistant from each other. In this case, the Manhattan distance metric may be preferred as it is not as affected by high dimensionality.\n",
    "\n",
    "- Non-Numeric Data: The choice of distance metric can also depend on the type of data being analyzed. For example, if the data contains categorical or ordinal variables, the Gower distance metric may be more appropriate than the Euclidean or Manhattan distance metrics."
   ]
  },
  {
   "cell_type": "markdown",
   "id": "cc3b59b5",
   "metadata": {},
   "source": [
    "# Question No. 4:\n",
    "What are some common hyperparameters in KNN classifiers and regressors, and how do they affect\n",
    "the performance of the model? How might you go about tuning these hyperparameters to improve\n",
    "model performance?\n",
    "\n",
    "## Answer:\n",
    "Some common hyperparameters and their effects on model performance are:\n",
    "\n",
    "- K: The number of neighbors to consider. A larger value of k may lead to better performance by reducing the effect of noise and outliers, but may also lead to oversmoothing of the decision boundary or regression surface.\n",
    "\n",
    "- Distance Metric: The choice of distance metric can significantly affect the performance of the model, as discussed in the previous question. Some common distance metrics are Euclidean, Manhattan, and Minkowski.\n",
    "\n",
    "- Weight Function: The weight function determines how the contributions of the neighbors are weighted in the prediction. Two common weight functions are uniform, which gives equal weight to all neighbors, and distance, which weights the contributions of the neighbors by the inverse of their distance from the query point.\n",
    "\n",
    "- Leaf Size: The leaf size determines the number of samples at each leaf node in the KNN tree. A smaller leaf size can lead to a more accurate model, but may also increase the computational cost."
   ]
  },
  {
   "cell_type": "markdown",
   "id": "bfe821c5",
   "metadata": {},
   "source": [
    "# Question No. 5:\n",
    "How does the size of the training set affect the performance of a KNN classifier or regressor? What\n",
    "techniques can be used to optimize the size of the training set?\n",
    "\n",
    "## Answer:\n",
    "The size of the training set can have a significant impact on the performance of a K-nearest neighbor (KNN) classifier or regressor. Here are some ways that the size of the training set can affect performance, and some techniques that can be used to optimize the size of the training set:\n",
    "\n",
    "- Overfitting: If the training set is too small, the KNN model may overfit to the noise in the training data and have poor generalization performance on new data. In this case, increasing the size of the training set can help to reduce overfitting and improve performance.\n",
    "\n",
    "- Underfitting: On the other hand, if the training set is too large, the KNN model may underfit the data and fail to capture the underlying patterns in the data. In this case, reducing the size of the training set or using a smaller value of k may help to reduce underfitting and improve performance.\n",
    "\n",
    "- Computational Cost: The size of the training set also affects the computational cost of the KNN algorithm. As the size of the training set increases, the computational cost of finding the k nearest neighbors for each query point also increases. In this case, reducing the size of the training set may help to reduce the computational cost of the algorithm.\n",
    "\n",
    "To optimize the size of the training set, one approach is to use a learning curve. A learning curve plots the performance of the model as a function of the size of the training set. By analyzing the learning curve, we can determine whether the model is underfitting or overfitting, and choose an appropriate size for the training set."
   ]
  },
  {
   "cell_type": "markdown",
   "id": "cb80a68f",
   "metadata": {},
   "source": [
    "# Question No. 6:\n",
    "What are some potential drawbacks of using KNN as a classifier or regressor? How might you\n",
    "overcome these drawbacks to improve the performance of the model?\n",
    "\n",
    "## Answer:\n",
    "Here are some common drawbacks of using KNN as a classifier or regressor, and some techniques to overcome these drawbacks:\n",
    "\n",
    "- High Sensitivity to Irrelevant Features: KNN is highly sensitive to irrelevant features in the dataset, which can lead to decreased performance. This can be overcome by feature selection or feature extraction techniques, which can reduce the dimensionality of the data and remove irrelevant features.\n",
    "\n",
    "- High Computational Cost: KNN has a high computational cost, especially for large datasets or high-dimensional data. This can be overcome by using approximate nearest neighbor algorithms or by reducing the size of the dataset through sampling or feature selection techniques.\n",
    "\n",
    "- Imbalanced Classes: KNN may struggle with imbalanced classes, where the number of instances in each class is not equal. This can be overcome by using techniques such as oversampling or undersampling to balance the classes.\n",
    "\n",
    "- Curse of Dimensionality: As the dimensionality of the dataset increases, KNN becomes less effective due to the curse of dimensionality. This can be overcome by using techniques such as dimensionality reduction or by using distance metrics that are less affected by high-dimensional data, such as cosine distance or correlation distance.\n",
    "\n",
    "- Optimal Value of K: Choosing the optimal value of K can be challenging, as it depends on the specific problem and the data being analyzed. This can be overcome by using techniques such as grid search or randomized search to find the optimal value of K."
   ]
  }
 ],
 "metadata": {
  "kernelspec": {
   "display_name": "Python 3 (ipykernel)",
   "language": "python",
   "name": "python3"
  },
  "language_info": {
   "codemirror_mode": {
    "name": "ipython",
    "version": 3
   },
   "file_extension": ".py",
   "mimetype": "text/x-python",
   "name": "python",
   "nbconvert_exporter": "python",
   "pygments_lexer": "ipython3",
   "version": "3.9.13"
  }
 },
 "nbformat": 4,
 "nbformat_minor": 5
}
